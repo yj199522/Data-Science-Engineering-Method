{
 "cells": [
  {
   "cell_type": "markdown",
   "id": "a4fda615",
   "metadata": {},
   "source": [
    "# Solution"
   ]
  },
  {
   "cell_type": "markdown",
   "id": "ab026da3",
   "metadata": {},
   "source": [
    "Name - Yash Jain\n",
    "\n",
    "NUID - 001521876"
   ]
  },
  {
   "cell_type": "markdown",
   "id": "e9117e90",
   "metadata": {},
   "source": [
    "Importing all the required library"
   ]
  },
  {
   "cell_type": "code",
   "execution_count": 31,
   "id": "b543c8c9",
   "metadata": {},
   "outputs": [],
   "source": [
    "import pandas as pd\n",
    "from scipy.stats import skellam\n",
    "import matplotlib.pyplot as plt\n",
    "import numpy as np\n",
    "%matplotlib inline\n",
    "import seaborn as sns\n",
    "from pymc3 import Poisson"
   ]
  },
  {
   "cell_type": "markdown",
   "id": "03fcf92b",
   "metadata": {},
   "source": [
    "Importing the CSV file\n",
    "\n",
    "Variable **Europe** has the list of all european countries"
   ]
  },
  {
   "cell_type": "code",
   "execution_count": 32,
   "id": "ad922f91",
   "metadata": {},
   "outputs": [],
   "source": [
    "data = pd.read_csv('results.csv', index_col=None)\n",
    "\n",
    "Europe = [\"Austria\",\n",
    "          \"Italy\",\n",
    "          \"Belgium\",\n",
    "          \"Latvia\",\n",
    "          \"Bulgaria\",\n",
    "          \"Lithuania\",\n",
    "          \"Croatia\",\n",
    "          \"Luxembourg\",\n",
    "          \"Cyprus\",\n",
    "          \"Malta\",\n",
    "          \"Czechia\",\n",
    "          \"Netherlands\",\n",
    "          \"Denmark\",\n",
    "          \"Poland\",\n",
    "          \"Estonia\",\n",
    "          \"Portugal\",\n",
    "          \"Finland\",\n",
    "          \"Romania\",\n",
    "          \"France\",\n",
    "          \"Slovakia\",\n",
    "          \"Germany\",\n",
    "          \"Slovenia\",\n",
    "          \"Greece\",\n",
    "          \"Spain\",\n",
    "          \"Hungary\",\n",
    "          \"Sweden\",\n",
    "          \"Ireland\"]"
   ]
  },
  {
   "cell_type": "markdown",
   "id": "3aefd97a",
   "metadata": {},
   "source": [
    "Copying the dataset in **newData**\n",
    "\n",
    "Making two new columns in table i.e. **X-Mean and 1.96 * std**\n",
    "\n",
    "**X-Mean** is calculated by subtracting the each value by the columns mean\n",
    "\n",
    "**1.96 * std** is calculated by mutiplying the columns standard deviation by 1.96\n",
    "\n",
    "Adding **Outliers_Home and Outliers_Away** columns in table by checking if X-Mean > 1.96 * std\n",
    "\n",
    "Then removing all the outliers by checking the condition if the **Outliers_Home and Outliers_Away** is not true"
   ]
  },
  {
   "cell_type": "code",
   "execution_count": 33,
   "id": "6a567921",
   "metadata": {},
   "outputs": [],
   "source": [
    "newData = data.copy()\n",
    "\n",
    "newData['X-Mean'] = abs(newData['home_score'] - newData['home_score'].mean())\n",
    "newData['1.96 * std'] = 1.96 * newData['home_score'].std()\n",
    "newData['Outliers_Home'] = newData['X-Mean'] > newData['1.96 * std']\n",
    "\n",
    "newData['X-Mean'] = abs(newData['away_score'] - newData['away_score'].mean())\n",
    "newData['1.96 * std'] = 1.96 * newData['away_score'].std()\n",
    "newData['Outliers_Away'] = newData['X-Mean'] > newData['1.96 * std']\n",
    "\n",
    "newData = newData.loc[(newData['Outliers_Home'] == False) & (newData['Outliers_Away'] == False)]"
   ]
  },
  {
   "cell_type": "markdown",
   "id": "9cdcdf92",
   "metadata": {},
   "source": [
    "Adding two new columns i.e. **home_teams and away_teams** of list of Europe and Non Europe country list\n",
    "\n",
    "Removing all the rows if the match is not Europe vs Non Europe or Non Europe vs Europe"
   ]
  },
  {
   "cell_type": "code",
   "execution_count": 34,
   "id": "4d2a5084",
   "metadata": {},
   "outputs": [],
   "source": [
    "home = list(map(lambda x : 'Europe' if(x[1] in Europe) else 'Non Europe', newData.values))\n",
    "away = list(map(lambda x : 'Europe' if(x[2] in Europe) else 'Non Europe', newData.values))\n",
    "\n",
    "newData['home_teams'] = home\n",
    "newData['away_teams'] = away\n",
    "\n",
    "newData = newData.loc[\n",
    "    ((newData['home_teams'] == 'Europe') & (newData['away_teams'] == 'Non Europe')) \n",
    "    |((newData['home_teams'] == 'Non Europe') & (newData['away_teams'] == 'Europe'))\n",
    "]"
   ]
  },
  {
   "cell_type": "markdown",
   "id": "3f1d1f95",
   "metadata": {},
   "source": [
    "Removing all the unwanted columns"
   ]
  },
  {
   "cell_type": "code",
   "execution_count": 35,
   "id": "f7274365",
   "metadata": {},
   "outputs": [],
   "source": [
    "drop_columns = ['date',\n",
    "                'tournament', \n",
    "                'city', \n",
    "                'country', \n",
    "                'neutral', \n",
    "                'X-Mean', \n",
    "                '1.96 * std',\n",
    "                'Outliers_Home',\n",
    "                'Outliers_Away']\n",
    "\n",
    "newData.drop(drop_columns, axis=1, inplace=True)"
   ]
  },
  {
   "cell_type": "markdown",
   "id": "2238bd9f",
   "metadata": {},
   "source": [
    "Making the list of **europScore** which stores the list of goals score by European Country\n",
    "\n",
    "Making the list of **nonEuropScore** which stores the list of goals score by Non European Country\n",
    "\n",
    "Adding both list in the table as **European_Score and NonEuropean_Score**\n",
    "\n",
    "Adding the difference list in the table by subtracting **European_Score** by **NonEuropean_Score**"
   ]
  },
  {
   "cell_type": "code",
   "execution_count": 36,
   "id": "5828fdda",
   "metadata": {},
   "outputs": [],
   "source": [
    "europScore = []\n",
    "nonEuropScore = []\n",
    "\n",
    "for x in newData.values:\n",
    "    if(x[-2] == 'Europe'):\n",
    "       europScore.append(x[2])\n",
    "    \n",
    "    if(x[-1] == 'Europe'):\n",
    "       europScore.append(x[3])\n",
    "    \n",
    "    if(x[-1] == 'Non Europe'):\n",
    "       nonEuropScore.append(x[3])\n",
    "    \n",
    "    if(x[-2] == 'Non Europe'):\n",
    "       nonEuropScore.append(x[2])\n",
    "    \n",
    "newData['European_Score'] = europScore\n",
    "newData['NonEuropean_Score'] = nonEuropScore\n",
    "newData['diffScore'] = newData['European_Score'] - newData['NonEuropean_Score']"
   ]
  },
  {
   "cell_type": "markdown",
   "id": "848e28c2",
   "metadata": {},
   "source": [
    "Removing unwanted columns in the newData"
   ]
  },
  {
   "cell_type": "code",
   "execution_count": 37,
   "id": "3f0d666d",
   "metadata": {},
   "outputs": [],
   "source": [
    "drop_columns = ['home_team', \n",
    "                'away_team', \n",
    "                'home_score', \n",
    "                'away_score']\n",
    "\n",
    "newData.drop(drop_columns, axis=1, inplace=True)"
   ]
  },
  {
   "cell_type": "markdown",
   "id": "5d598714",
   "metadata": {},
   "source": [
    "**plotData** stores the copy of newData\n",
    "\n",
    "Removing unwanted columns in the plotData"
   ]
  },
  {
   "cell_type": "code",
   "execution_count": 38,
   "id": "687571ef",
   "metadata": {},
   "outputs": [],
   "source": [
    "plotData = newData.copy()\n",
    "drop_columns = ['home_teams', \n",
    "                'away_teams']\n",
    "\n",
    "plotData.drop(drop_columns, axis=1, inplace=True)"
   ]
  },
  {
   "cell_type": "markdown",
   "id": "e9165f7a",
   "metadata": {},
   "source": [
    "**means** stores all the mean value of each and every columns"
   ]
  },
  {
   "cell_type": "code",
   "execution_count": 39,
   "id": "9f2ab668",
   "metadata": {},
   "outputs": [
    {
     "data": {
      "text/plain": [
       "European_Score       1.413313\n",
       "NonEuropean_Score    1.159302\n",
       "diffScore            0.254011\n",
       "dtype: float64"
      ]
     },
     "execution_count": 39,
     "metadata": {},
     "output_type": "execute_result"
    }
   ],
   "source": [
    "means = plotData.mean()\n",
    "means"
   ]
  },
  {
   "cell_type": "markdown",
   "id": "222713b4",
   "metadata": {},
   "source": [
    "Poisson Distribution histogram for European Country Goal Score table"
   ]
  },
  {
   "cell_type": "code",
   "execution_count": 40,
   "id": "d01ea338",
   "metadata": {},
   "outputs": [
    {
     "data": {
      "image/png": "[encoded data removed]",
      "text/plain": [
       "<Figure size 432x288 with 1 Axes>"
      ]
     },
     "metadata": {
      "needs_background": "light"
     },
     "output_type": "display_data"
    }
   ],
   "source": [
    "x = Poisson.dist(mu=means.European_Score)\n",
    "samples = x.random(size=len(plotData.European_Score))\n",
    "plt.hist(samples, bins=len(set(samples)));"
   ]
  },
  {
   "cell_type": "markdown",
   "id": "492d44a2",
   "metadata": {},
   "source": [
    "Poisson Distribution histogram for Non European Country Goal Score table"
   ]
  },
  {
   "cell_type": "code",
   "execution_count": 41,
   "id": "b7cf74f6",
   "metadata": {},
   "outputs": [
    {
     "data": {
      "image/png": "[encoded data removed]",
      "text/plain": [
       "<Figure size 432x288 with 1 Axes>"
      ]
     },
     "metadata": {
      "needs_background": "light"
     },
     "output_type": "display_data"
    }
   ],
   "source": [
    "x = Poisson.dist(mu=means.NonEuropean_Score)\n",
    "samples = x.random(size=len(plotData.NonEuropean_Score))\n",
    "plt.hist(samples, bins=len(set(samples)));"
   ]
  },
  {
   "cell_type": "markdown",
   "id": "1aa846f7",
   "metadata": {},
   "source": [
    "Skellam has three variables **mu1 and mu2** i.e. λ1 and λ2 whose value is equal to **European_Score and NonEuropean_Score means** and **x**\n",
    "\n",
    "Then plot the skellam pmf and frozen pmf"
   ]
  },
  {
   "cell_type": "code",
   "execution_count": 42,
   "id": "a34b9bd0",
   "metadata": {},
   "outputs": [
    {
     "data": {
      "image/png": "[encoded data removed]",
      "text/plain": [
       "<Figure size 432x288 with 1 Axes>"
      ]
     },
     "metadata": {
      "needs_background": "light"
     },
     "output_type": "display_data"
    }
   ],
   "source": [
    "fig, ax = plt.subplots(1, 1)\n",
    "\n",
    "mu1, mu2 = means[0], means[1]\n",
    "\n",
    "x = np.arange(skellam.ppf(0.01, mu1, mu2), skellam.ppf(0.99, mu1, mu2))\n",
    "\n",
    "ax.plot(x, skellam.pmf(x, mu1, mu2), 'bo', ms=5, label='skellam pmf')\n",
    "\n",
    "ax.vlines(x, 0, skellam.pmf(x, mu1, mu2), colors='b', lw=5, alpha=0.5)\n",
    "\n",
    "rv = skellam(mu1, mu2)\n",
    "\n",
    "ax.vlines(x, 0, rv.pmf(x), colors='k', linestyles='-', lw=3, label='frozen pmf')\n",
    "\n",
    "ax.legend(loc='best', frameon=False)\n",
    "\n",
    "plt.show() "
   ]
  },
  {
   "cell_type": "markdown",
   "id": "9dbbd51e",
   "metadata": {},
   "source": [
    "# The Method Of Moments (MOM) \n",
    "\n",
    "For ***discrete random variables***, the Poisson distribution models **unbounded counts**:\n",
    "\n",
    "$$X = \\{0,1,2,3,\\ldots \\}$$\n",
    "\n",
    "$$Y = \\{\\ldots,-2,-1,0,1,2,\\ldots\\}$$\n",
    "\n",
    "Its **probability *mass* function**: \n",
    "\n",
    "$$Pr(X=x) = f(x\\;|\\; \\lambda)$$\n",
    "\n",
    "$$Pr(X=x)=\\frac{e^{-\\lambda}\\lambda^x}{x!}$$\n",
    "\n",
    "* $X=\\{0,1,2,\\ldots\\}$\n",
    "* $\\lambda > 0$\n",
    "\n",
    "One useful property of the Poisson distribution is that its **expectation** (or first moment) as well as its **standard deviation** (or second moment) are equal to its *sole* parameter, i.e.:\n",
    "\n",
    "$$E(X) = \\text{Var}(X) = \\lambda$$"
   ]
  },
  {
   "cell_type": "markdown",
   "id": "dcd2c1a8",
   "metadata": {},
   "source": [
    "Skellam has three variables **mu1 and mu2** i.e. λ1 and λ2 whose value is equal to **European_Score and NonEuropean_Score means** and **x**"
   ]
  },
  {
   "cell_type": "code",
   "execution_count": 43,
   "id": "73dedc87",
   "metadata": {},
   "outputs": [
    {
     "data": {
      "text/plain": [
       "(array([0.01097664, 0.        , 0.0247678 , 0.        , 0.079651  ,\n",
       "        0.        , 0.18603997, 0.        , 0.32986209, 0.        ,\n",
       "        0.49507458, 0.        , 0.42443006, 0.        , 0.25584014,\n",
       "        0.        , 0.12609063, 0.        , 0.04784689, 0.01942021]),\n",
       " array([-5. , -4.5, -4. , -3.5, -3. , -2.5, -2. , -1.5, -1. , -0.5,  0. ,\n",
       "         0.5,  1. ,  1.5,  2. ,  2.5,  3. ,  3.5,  4. ,  4.5,  5. ]),\n",
       " <BarContainer object of 20 artists>)"
      ]
     },
     "execution_count": 43,
     "metadata": {},
     "output_type": "execute_result"
    },
    {
     "data": {
      "image/png": "[encoded data removed]",
      "text/plain": [
       "<Figure size 432x288 with 1 Axes>"
      ]
     },
     "metadata": {
      "needs_background": "light"
     },
     "output_type": "display_data"
    }
   ],
   "source": [
    "fig, ax = plt.subplots(1, 1)\n",
    "\n",
    "model = skellam(mu1, mu2)\n",
    "\n",
    "x = np.arange(skellam.ppf(0.01, mu1, mu2), skellam.ppf(0.99, mu1, mu2))\n",
    "\n",
    "ax.plot(x, skellam.pmf(x, mu1, mu2), 'bo', ms=8, label='skellam pmf', linestyle='solid', color='red')\n",
    "\n",
    "ax.hist(plotData.diffScore,density=True, bins=20)"
   ]
  },
  {
   "cell_type": "markdown",
   "id": "57076348",
   "metadata": {},
   "source": [
    "The probability of a draw is simply the sum of the events where the two teams score the same amount of goals."
   ]
  },
  {
   "cell_type": "code",
   "execution_count": 44,
   "id": "7e91a828",
   "metadata": {},
   "outputs": [
    {
     "data": {
      "text/plain": [
       "0.2629872751227682"
      ]
     },
     "execution_count": 44,
     "metadata": {},
     "output_type": "execute_result"
    }
   ],
   "source": [
    "skellam.pmf(0, mu1, mu2)"
   ]
  },
  {
   "cell_type": "markdown",
   "id": "fc8f65f5",
   "metadata": {},
   "source": [
    "# Prediction Model\n",
    "\n",
    "For prediction I'm using GaussianNB from sklearn\n",
    "\n",
    "X stores two independent values list **European and Non European Goal Scores**\n",
    "\n",
    "y is dependent variable of X and store value list **Difference of score** "
   ]
  },
  {
   "cell_type": "code",
   "execution_count": 45,
   "id": "f2c26d06",
   "metadata": {},
   "outputs": [
    {
     "name": "stdout",
     "output_type": "stream",
     "text": [
      "Model Accuracy is: 65.40084388185655 %\n"
     ]
    }
   ],
   "source": [
    "from sklearn.model_selection import train_test_split\n",
    "from sklearn.naive_bayes import GaussianNB\n",
    "from sklearn.metrics import accuracy_score\n",
    "\n",
    "\n",
    "X = newData.drop([\"home_teams\", \"away_teams\", \"diffScore\"], axis=1)\n",
    "\n",
    "y = newData[\"diffScore\"]\n",
    "\n",
    "X_train, X_test, y_train, y_test = train_test_split(X, y, test_size=0.1, random_state=0)\n",
    "\n",
    "gnb = GaussianNB()\n",
    "\n",
    "gnb_fit= gnb.fit(X_train, y_train)\n",
    "\n",
    "y_pred = gnb_fit.predict(X_test)\n",
    "\n",
    "percentage = accuracy_score(y_test, y_pred)\n",
    "\n",
    "print(\"Model Accuracy is:\", percentage * 100, \"%\")"
   ]
  }
 ],
 "metadata": {
  "kernelspec": {
   "display_name": "Python 3",
   "language": "python",
   "name": "python3"
  },
  "language_info": {
   "codemirror_mode": {
    "name": "ipython",
    "version": 3
   },
   "file_extension": ".py",
   "mimetype": "text/x-python",
   "name": "python",
   "nbconvert_exporter": "python",
   "pygments_lexer": "ipython3",
   "version": "3.8.8"
  }
 },
 "nbformat": 4,
 "nbformat_minor": 5
}
