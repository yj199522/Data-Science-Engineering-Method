{
 "cells": [
  {
   "cell_type": "markdown",
   "id": "89000ea5",
   "metadata": {},
   "source": [
    "# Final Project Team 5\n",
    "\n",
    "<h4>Sushrut Mujumdar - 001563244 </h4>\n",
    "<h4> Tarun Palakaru - 001586111 </h4>\n",
    "<h4> Yash Jain - 001521876 </h4>"
   ]
  },
  {
   "cell_type": "markdown",
   "id": "cd4c09fb",
   "metadata": {},
   "source": [
    "<h3>Problem Statement</h3>\n",
    "\n",
    "<h2>Climate Change:</h2>\n",
    "\n",
    "Climate change/ global warming has led to the emergence of large-scale environmental hazards to human health; such as extreme weather, increased danger of wildfires, loss of biodiversity, stresses to food-producing systems, and the global spread of infectious diseases.\n",
    "\n",
    "<br/>\n",
    "<center>\n",
    "<img src=\"Images/leod.webp\" width=\"450\" />\n",
    "</center>"
   ]
  },
  {
   "cell_type": "markdown",
   "id": "653f6408",
   "metadata": {},
   "source": [
    "<h2>Abstract</h2>\n",
    "\n",
    "<strong>Outcomes of the Glasgow Climate Change Conference</strong><br>\n",
    "Nations took a range of decisions in the collective effort to limit global temperature rise to 1.5 degrees. <br>\n",
    "Aiming to turn the 2020s into a decade of climate action and support.<br/>\n",
    "\n",
    "\n",
    "To Keep in line with the goals of COP26, we researched for a dataset that could provide us with a large dataset size with average temperatures of different cities during a specific time frame.<br/>\n",
    "\n",
    "\n",
    "We start off with <strong>EDA</strong> on the data downloaded.<br/>\n",
    "\n",
    "\n",
    "Next we make the data <strong>stationary</strong> to eliminate trends for good modelling. <br/>\n",
    "\n",
    "\n",
    "We will then build an <strong>Autoregressive integrated moving average</strong> or ARIMA model to forecast the Avg_Temp over the next 5 years to check if we are on track towards the COP26 goal of limiting the global temperature rise to 1.5 degrees"
   ]
  },
  {
   "cell_type": "markdown",
   "id": "e14c56fd",
   "metadata": {},
   "source": [
    "### What you can expect from today's notebook???\n",
    "\n",
    "<br/>\n",
    "<center>\n",
    "<img src=\"Images/thinking.gif\" width=\"450\" />\n",
    "</center>\n",
    "\n",
    "1. Why is Time-Series analysis important? \n",
    "2. What is Time-Series?\n",
    "3. Component of Time Series \n",
    "4. When not to use Time-Series?\n",
    "5. What is stationary and why?\n",
    "6. Arima Model "
   ]
  },
  {
   "cell_type": "markdown",
   "id": "2bd66b92",
   "metadata": {},
   "source": [
    "### What is Time-Series?\n",
    "\n",
    "Time series is a sequence of data points recorded in time order, often taken at successive equally spaced points in time. Time series data can be taken yearly, monthly, weekly, hourly, or even by the minute.\n",
    "\n",
    "Time Series Analysis comprised methods for analyzing time-series data to extract meaningful statistics and other characteristics of the data. It is different from Time Series forecasting which is the use of a model to predict future values based on previously observed values. While time series analysis is mostly statistics, time series forecasting enters Machine Learning. Time series analysis is a preparatory step to time series forecasting.\n",
    "\n",
    "### Why is Time-Series analysis important?\n",
    "\n",
    "Because time series forecasting is important! Business forecasting, understanding past behavior, and planning for the future especially for policymakers heavily rely on time series analysis.\n",
    "\n",
    "<br/>\n",
    "<center>\n",
    "<img src=\"Images/timeseries.gif\" width=\"500\" />\n",
    "</center>\n",
    "\n",
    "#### Component of Time Series \n",
    "\n",
    "These four components are:\n",
    "\n",
    "+ Secular trend, which describes the movement along with the term;\n",
    "+ Seasonal variations, which represent seasonal changes;\n",
    "+ Cyclical fluctuations, which correspond to periodical but not seasonal variations;\n",
    "+ Irregular variations, which are other nonrandom sources of variations of series.\n",
    "\n",
    "#### When not to use Time-Series?\n",
    "\n",
    "<br/>\n",
    "<center>\n",
    "<img src=\"Images/nottouse.png\" width=\"700\" />\n",
    "</center>\n",
    "<br/>\n",
    "\n",
    "+ When the values are constant-This means they are not dependent on time so 1, the data is not time series data and 2 it is pointless as the values never change.\n",
    "+ Values in the form of a function - For example sin x, cos x, etc."
   ]
  },
  {
   "cell_type": "markdown",
   "id": "9c279d6d",
   "metadata": {},
   "source": [
    "<br/>\n",
    "<center>\n",
    "<img src=\"Images/letsstart.gif\" width=\"500\" />\n",
    "</center>\n",
    "<br/>"
   ]
  },
  {
   "cell_type": "code",
   "execution_count": 1,
   "id": "eba0e222",
   "metadata": {},
   "outputs": [],
   "source": [
    "#import libraries\n",
    "import pandas as pd\n",
    "import numpy as np\n",
    "from datetime import datetime, timedelta\n",
    "from statsmodels.tsa.seasonal import seasonal_decompose\n",
    "import matplotlib.pyplot as plt\n",
    "import seaborn as sns\n",
    "from statsmodels.tsa.stattools import adfuller, acf, pacf\n",
    "from statsmodels.tsa.arima_model import ARIMA\n",
    "\n",
    "%matplotlib inline\n",
    "\n",
    "import warnings\n",
    "\n",
    "warnings.filterwarnings('ignore')"
   ]
  },
  {
   "cell_type": "markdown",
   "id": "410f8500",
   "metadata": {},
   "source": [
    "##### Loading global temperature dataset"
   ]
  },
  {
   "cell_type": "code",
   "execution_count": 2,
   "id": "52df5cbc",
   "metadata": {},
   "outputs": [],
   "source": [
    "temp = pd.read_csv('./dataset.csv')"
   ]
  },
  {
   "cell_type": "code",
   "execution_count": 3,
   "id": "885ec1a8",
   "metadata": {},
   "outputs": [
    {
     "data": {
      "text/html": [
       "<div>\n",
       "<style scoped>\n",
       "    .dataframe tbody tr th:only-of-type {\n",
       "        vertical-align: middle;\n",
       "    }\n",
       "\n",
       "    .dataframe tbody tr th {\n",
       "        vertical-align: top;\n",
       "    }\n",
       "\n",
       "    .dataframe thead th {\n",
       "        text-align: right;\n",
       "    }\n",
       "</style>\n",
       "<table border=\"1\" class=\"dataframe\">\n",
       "  <thead>\n",
       "    <tr style=\"text-align: right;\">\n",
       "      <th></th>\n",
       "      <th>Region</th>\n",
       "      <th>Country</th>\n",
       "      <th>State</th>\n",
       "      <th>City</th>\n",
       "      <th>Month</th>\n",
       "      <th>Day</th>\n",
       "      <th>Year</th>\n",
       "      <th>AvgTemperature</th>\n",
       "      <th>Date</th>\n",
       "    </tr>\n",
       "  </thead>\n",
       "  <tbody>\n",
       "    <tr>\n",
       "      <th>0</th>\n",
       "      <td>Africa</td>\n",
       "      <td>Algeria</td>\n",
       "      <td>NaN</td>\n",
       "      <td>Algiers</td>\n",
       "      <td>1</td>\n",
       "      <td>1</td>\n",
       "      <td>2020</td>\n",
       "      <td>46.3</td>\n",
       "      <td>1-1-2020</td>\n",
       "    </tr>\n",
       "    <tr>\n",
       "      <th>1</th>\n",
       "      <td>Africa</td>\n",
       "      <td>Algeria</td>\n",
       "      <td>NaN</td>\n",
       "      <td>Algiers</td>\n",
       "      <td>1</td>\n",
       "      <td>2</td>\n",
       "      <td>2020</td>\n",
       "      <td>45.4</td>\n",
       "      <td>2-1-2020</td>\n",
       "    </tr>\n",
       "    <tr>\n",
       "      <th>2</th>\n",
       "      <td>Africa</td>\n",
       "      <td>Algeria</td>\n",
       "      <td>NaN</td>\n",
       "      <td>Algiers</td>\n",
       "      <td>1</td>\n",
       "      <td>3</td>\n",
       "      <td>2020</td>\n",
       "      <td>48.0</td>\n",
       "      <td>3-1-2020</td>\n",
       "    </tr>\n",
       "    <tr>\n",
       "      <th>3</th>\n",
       "      <td>Africa</td>\n",
       "      <td>Algeria</td>\n",
       "      <td>NaN</td>\n",
       "      <td>Algiers</td>\n",
       "      <td>1</td>\n",
       "      <td>4</td>\n",
       "      <td>2020</td>\n",
       "      <td>53.4</td>\n",
       "      <td>4-1-2020</td>\n",
       "    </tr>\n",
       "    <tr>\n",
       "      <th>4</th>\n",
       "      <td>Africa</td>\n",
       "      <td>Algeria</td>\n",
       "      <td>NaN</td>\n",
       "      <td>Algiers</td>\n",
       "      <td>1</td>\n",
       "      <td>5</td>\n",
       "      <td>2020</td>\n",
       "      <td>47.3</td>\n",
       "      <td>5-1-2020</td>\n",
       "    </tr>\n",
       "  </tbody>\n",
       "</table>\n",
       "</div>"
      ],
      "text/plain": [
       "   Region  Country  State     City  Month  Day  Year  AvgTemperature      Date\n",
       "0  Africa  Algeria    NaN  Algiers      1    1  2020            46.3  1-1-2020\n",
       "1  Africa  Algeria    NaN  Algiers      1    2  2020            45.4  2-1-2020\n",
       "2  Africa  Algeria    NaN  Algiers      1    3  2020            48.0  3-1-2020\n",
       "3  Africa  Algeria    NaN  Algiers      1    4  2020            53.4  4-1-2020\n",
       "4  Africa  Algeria    NaN  Algiers      1    5  2020            47.3  5-1-2020"
      ]
     },
     "execution_count": 3,
     "metadata": {},
     "output_type": "execute_result"
    }
   ],
   "source": [
    "temp.head()"
   ]
  },
  {
   "cell_type": "markdown",
   "id": "b8195f60",
   "metadata": {},
   "source": [
    "Checking of all the datatype"
   ]
  },
  {
   "cell_type": "code",
   "execution_count": 4,
   "id": "0f87723d",
   "metadata": {},
   "outputs": [
    {
     "data": {
      "text/plain": [
       "Region             object\n",
       "Country            object\n",
       "State             float64\n",
       "City               object\n",
       "Month               int64\n",
       "Day                 int64\n",
       "Year                int64\n",
       "AvgTemperature    float64\n",
       "Date               object\n",
       "dtype: object"
      ]
     },
     "execution_count": 4,
     "metadata": {},
     "output_type": "execute_result"
    }
   ],
   "source": [
    "temp.dtypes"
   ]
  },
  {
   "cell_type": "code",
   "execution_count": 5,
   "id": "2c66e72a",
   "metadata": {},
   "outputs": [
    {
     "data": {
      "text/plain": [
       "(1048575, 9)"
      ]
     },
     "execution_count": 5,
     "metadata": {},
     "output_type": "execute_result"
    }
   ],
   "source": [
    "temp.shape"
   ]
  },
  {
   "cell_type": "markdown",
   "id": "aa7c4205",
   "metadata": {},
   "source": [
    "## Data Cleaning\n",
    "\n",
    "Data cleaning is the process of preparing data for analysis by removing or modifying data that is incorrect, incomplete, irrelevant, duplicated, or improperly formatted.\n",
    "\n",
    "###### What is an outlier?\n",
    "An outlier is an observation that lies an abnormal distance from other values in a random sample from a population."
   ]
  },
  {
   "cell_type": "markdown",
   "id": "f23be71c",
   "metadata": {},
   "source": [
    "Dropping **unwanted** columns from dataset "
   ]
  },
  {
   "cell_type": "code",
   "execution_count": 6,
   "id": "0d9ef7f9",
   "metadata": {},
   "outputs": [
    {
     "data": {
      "text/html": [
       "<div>\n",
       "<style scoped>\n",
       "    .dataframe tbody tr th:only-of-type {\n",
       "        vertical-align: middle;\n",
       "    }\n",
       "\n",
       "    .dataframe tbody tr th {\n",
       "        vertical-align: top;\n",
       "    }\n",
       "\n",
       "    .dataframe thead th {\n",
       "        text-align: right;\n",
       "    }\n",
       "</style>\n",
       "<table border=\"1\" class=\"dataframe\">\n",
       "  <thead>\n",
       "    <tr style=\"text-align: right;\">\n",
       "      <th></th>\n",
       "      <th>Region</th>\n",
       "      <th>Year</th>\n",
       "      <th>AvgTemperature</th>\n",
       "      <th>Date</th>\n",
       "    </tr>\n",
       "  </thead>\n",
       "  <tbody>\n",
       "    <tr>\n",
       "      <th>0</th>\n",
       "      <td>Africa</td>\n",
       "      <td>2020</td>\n",
       "      <td>46.3</td>\n",
       "      <td>1-1-2020</td>\n",
       "    </tr>\n",
       "    <tr>\n",
       "      <th>1</th>\n",
       "      <td>Africa</td>\n",
       "      <td>2020</td>\n",
       "      <td>45.4</td>\n",
       "      <td>2-1-2020</td>\n",
       "    </tr>\n",
       "    <tr>\n",
       "      <th>2</th>\n",
       "      <td>Africa</td>\n",
       "      <td>2020</td>\n",
       "      <td>48.0</td>\n",
       "      <td>3-1-2020</td>\n",
       "    </tr>\n",
       "    <tr>\n",
       "      <th>3</th>\n",
       "      <td>Africa</td>\n",
       "      <td>2020</td>\n",
       "      <td>53.4</td>\n",
       "      <td>4-1-2020</td>\n",
       "    </tr>\n",
       "    <tr>\n",
       "      <th>4</th>\n",
       "      <td>Africa</td>\n",
       "      <td>2020</td>\n",
       "      <td>47.3</td>\n",
       "      <td>5-1-2020</td>\n",
       "    </tr>\n",
       "    <tr>\n",
       "      <th>...</th>\n",
       "      <td>...</td>\n",
       "      <td>...</td>\n",
       "      <td>...</td>\n",
       "      <td>...</td>\n",
       "    </tr>\n",
       "    <tr>\n",
       "      <th>1048570</th>\n",
       "      <td>Europe</td>\n",
       "      <td>200</td>\n",
       "      <td>-99.0</td>\n",
       "      <td>27-12-200</td>\n",
       "    </tr>\n",
       "    <tr>\n",
       "      <th>1048571</th>\n",
       "      <td>Europe</td>\n",
       "      <td>200</td>\n",
       "      <td>-99.0</td>\n",
       "      <td>28-12-200</td>\n",
       "    </tr>\n",
       "    <tr>\n",
       "      <th>1048572</th>\n",
       "      <td>Europe</td>\n",
       "      <td>200</td>\n",
       "      <td>-99.0</td>\n",
       "      <td>29-12-200</td>\n",
       "    </tr>\n",
       "    <tr>\n",
       "      <th>1048573</th>\n",
       "      <td>Europe</td>\n",
       "      <td>200</td>\n",
       "      <td>-99.0</td>\n",
       "      <td>30-12-200</td>\n",
       "    </tr>\n",
       "    <tr>\n",
       "      <th>1048574</th>\n",
       "      <td>Europe</td>\n",
       "      <td>200</td>\n",
       "      <td>-99.0</td>\n",
       "      <td>31-12-200</td>\n",
       "    </tr>\n",
       "  </tbody>\n",
       "</table>\n",
       "<p>1048575 rows × 4 columns</p>\n",
       "</div>"
      ],
      "text/plain": [
       "         Region  Year  AvgTemperature       Date\n",
       "0        Africa  2020            46.3   1-1-2020\n",
       "1        Africa  2020            45.4   2-1-2020\n",
       "2        Africa  2020            48.0   3-1-2020\n",
       "3        Africa  2020            53.4   4-1-2020\n",
       "4        Africa  2020            47.3   5-1-2020\n",
       "...         ...   ...             ...        ...\n",
       "1048570  Europe   200           -99.0  27-12-200\n",
       "1048571  Europe   200           -99.0  28-12-200\n",
       "1048572  Europe   200           -99.0  29-12-200\n",
       "1048573  Europe   200           -99.0  30-12-200\n",
       "1048574  Europe   200           -99.0  31-12-200\n",
       "\n",
       "[1048575 rows x 4 columns]"
      ]
     },
     "execution_count": 6,
     "metadata": {},
     "output_type": "execute_result"
    }
   ],
   "source": [
    "temp = temp.drop(columns=[\"State\", \"Day\", \"Month\", \"Country\", \"City\"])\n",
    "temp"
   ]
  },
  {
   "cell_type": "markdown",
   "id": "095341fc",
   "metadata": {},
   "source": [
    "Checking if any **null value outliers** need to be removed"
   ]
  },
  {
   "cell_type": "code",
   "execution_count": 7,
   "id": "72bf4d1d",
   "metadata": {},
   "outputs": [
    {
     "data": {
      "text/plain": [
       "Region            0\n",
       "Year              0\n",
       "AvgTemperature    0\n",
       "Date              0\n",
       "dtype: int64"
      ]
     },
     "execution_count": 7,
     "metadata": {},
     "output_type": "execute_result"
    }
   ],
   "source": [
    "temp.isnull().sum()"
   ]
  },
  {
   "cell_type": "markdown",
   "id": "15b86df8",
   "metadata": {},
   "source": [
    "Making the three new columns in the temp table namely **X-mean**,**1.96 * std**, and **Outlier**\n",
    "\n",
    "In **X-mean** we are storing the difference between values of each column and the mean of the entire column.\n",
    "\n",
    "In the **1.96 * std** column, we are storing data by multiplying the standard deviation of each column by 1.96 (i.e. approximate value of the 97.5 percentile point of the standard normal distribution.)\n",
    "\n",
    "In the ***Outlier*** column, we are checking if the value of **X-mean** is greater than **1.96 * std** then the data is outlier else not."
   ]
  },
  {
   "cell_type": "code",
   "execution_count": 8,
   "id": "9823c495",
   "metadata": {},
   "outputs": [],
   "source": [
    "temp['X-Mean'] = abs(temp['AvgTemperature'] - temp['AvgTemperature'].mean())\n",
    "temp['1.96 * std'] = 1.96 * temp['AvgTemperature'].std()\n",
    "temp['Outlier'] = temp['X-Mean'] > temp['1.96 * std']"
   ]
  },
  {
   "cell_type": "markdown",
   "id": "2f4b4fc9",
   "metadata": {},
   "source": [
    "**Dropping** the rows in temp table whose **Outlier** values is **true**"
   ]
  },
  {
   "cell_type": "code",
   "execution_count": 9,
   "id": "136718e8",
   "metadata": {},
   "outputs": [],
   "source": [
    "temp = temp.loc[temp['Outlier']== False]"
   ]
  },
  {
   "cell_type": "code",
   "execution_count": 10,
   "id": "ae0bd1ca",
   "metadata": {},
   "outputs": [
    {
     "data": {
      "text/plain": [
       "(992003, 7)"
      ]
     },
     "execution_count": 10,
     "metadata": {},
     "output_type": "execute_result"
    }
   ],
   "source": [
    "temp.shape"
   ]
  },
  {
   "cell_type": "code",
   "execution_count": 11,
   "id": "1ee699b9",
   "metadata": {},
   "outputs": [],
   "source": [
    "## rename of column\n",
    "temp.rename(columns = \n",
    "            {\n",
    "             'AvgTemperature':'Avg_temp'\n",
    "            }, inplace=True)"
   ]
  },
  {
   "cell_type": "code",
   "execution_count": 12,
   "id": "436b8005",
   "metadata": {},
   "outputs": [
    {
     "data": {
      "text/html": [
       "<div>\n",
       "<style scoped>\n",
       "    .dataframe tbody tr th:only-of-type {\n",
       "        vertical-align: middle;\n",
       "    }\n",
       "\n",
       "    .dataframe tbody tr th {\n",
       "        vertical-align: top;\n",
       "    }\n",
       "\n",
       "    .dataframe thead th {\n",
       "        text-align: right;\n",
       "    }\n",
       "</style>\n",
       "<table border=\"1\" class=\"dataframe\">\n",
       "  <thead>\n",
       "    <tr style=\"text-align: right;\">\n",
       "      <th></th>\n",
       "      <th>Region</th>\n",
       "      <th>Year</th>\n",
       "      <th>Avg_temp</th>\n",
       "      <th>Date</th>\n",
       "      <th>X-Mean</th>\n",
       "      <th>1.96 * std</th>\n",
       "      <th>Outlier</th>\n",
       "    </tr>\n",
       "  </thead>\n",
       "  <tbody>\n",
       "    <tr>\n",
       "      <th>0</th>\n",
       "      <td>Africa</td>\n",
       "      <td>2020</td>\n",
       "      <td>46.3</td>\n",
       "      <td>1-1-2020</td>\n",
       "      <td>8.367848</td>\n",
       "      <td>79.690012</td>\n",
       "      <td>False</td>\n",
       "    </tr>\n",
       "    <tr>\n",
       "      <th>1</th>\n",
       "      <td>Africa</td>\n",
       "      <td>2020</td>\n",
       "      <td>45.4</td>\n",
       "      <td>2-1-2020</td>\n",
       "      <td>9.267848</td>\n",
       "      <td>79.690012</td>\n",
       "      <td>False</td>\n",
       "    </tr>\n",
       "    <tr>\n",
       "      <th>2</th>\n",
       "      <td>Africa</td>\n",
       "      <td>2020</td>\n",
       "      <td>48.0</td>\n",
       "      <td>3-1-2020</td>\n",
       "      <td>6.667848</td>\n",
       "      <td>79.690012</td>\n",
       "      <td>False</td>\n",
       "    </tr>\n",
       "    <tr>\n",
       "      <th>3</th>\n",
       "      <td>Africa</td>\n",
       "      <td>2020</td>\n",
       "      <td>53.4</td>\n",
       "      <td>4-1-2020</td>\n",
       "      <td>1.267848</td>\n",
       "      <td>79.690012</td>\n",
       "      <td>False</td>\n",
       "    </tr>\n",
       "    <tr>\n",
       "      <th>4</th>\n",
       "      <td>Africa</td>\n",
       "      <td>2020</td>\n",
       "      <td>47.3</td>\n",
       "      <td>5-1-2020</td>\n",
       "      <td>7.367848</td>\n",
       "      <td>79.690012</td>\n",
       "      <td>False</td>\n",
       "    </tr>\n",
       "  </tbody>\n",
       "</table>\n",
       "</div>"
      ],
      "text/plain": [
       "   Region  Year  Avg_temp      Date    X-Mean  1.96 * std  Outlier\n",
       "0  Africa  2020      46.3  1-1-2020  8.367848   79.690012    False\n",
       "1  Africa  2020      45.4  2-1-2020  9.267848   79.690012    False\n",
       "2  Africa  2020      48.0  3-1-2020  6.667848   79.690012    False\n",
       "3  Africa  2020      53.4  4-1-2020  1.267848   79.690012    False\n",
       "4  Africa  2020      47.3  5-1-2020  7.367848   79.690012    False"
      ]
     },
     "execution_count": 12,
     "metadata": {},
     "output_type": "execute_result"
    }
   ],
   "source": [
    "temp.head()"
   ]
  },
  {
   "cell_type": "code",
   "execution_count": 13,
   "id": "b0679e04",
   "metadata": {},
   "outputs": [
    {
     "data": {
      "text/html": [
       "<div>\n",
       "<style scoped>\n",
       "    .dataframe tbody tr th:only-of-type {\n",
       "        vertical-align: middle;\n",
       "    }\n",
       "\n",
       "    .dataframe tbody tr th {\n",
       "        vertical-align: top;\n",
       "    }\n",
       "\n",
       "    .dataframe thead th {\n",
       "        text-align: right;\n",
       "    }\n",
       "</style>\n",
       "<table border=\"1\" class=\"dataframe\">\n",
       "  <thead>\n",
       "    <tr style=\"text-align: right;\">\n",
       "      <th></th>\n",
       "      <th>Region</th>\n",
       "      <th>Year</th>\n",
       "      <th>Avg_temp</th>\n",
       "      <th>Date</th>\n",
       "    </tr>\n",
       "  </thead>\n",
       "  <tbody>\n",
       "    <tr>\n",
       "      <th>0</th>\n",
       "      <td>Africa</td>\n",
       "      <td>2020</td>\n",
       "      <td>46.3</td>\n",
       "      <td>1-1-2020</td>\n",
       "    </tr>\n",
       "    <tr>\n",
       "      <th>1</th>\n",
       "      <td>Africa</td>\n",
       "      <td>2020</td>\n",
       "      <td>45.4</td>\n",
       "      <td>2-1-2020</td>\n",
       "    </tr>\n",
       "    <tr>\n",
       "      <th>2</th>\n",
       "      <td>Africa</td>\n",
       "      <td>2020</td>\n",
       "      <td>48.0</td>\n",
       "      <td>3-1-2020</td>\n",
       "    </tr>\n",
       "    <tr>\n",
       "      <th>3</th>\n",
       "      <td>Africa</td>\n",
       "      <td>2020</td>\n",
       "      <td>53.4</td>\n",
       "      <td>4-1-2020</td>\n",
       "    </tr>\n",
       "    <tr>\n",
       "      <th>4</th>\n",
       "      <td>Africa</td>\n",
       "      <td>2020</td>\n",
       "      <td>47.3</td>\n",
       "      <td>5-1-2020</td>\n",
       "    </tr>\n",
       "    <tr>\n",
       "      <th>...</th>\n",
       "      <td>...</td>\n",
       "      <td>...</td>\n",
       "      <td>...</td>\n",
       "      <td>...</td>\n",
       "    </tr>\n",
       "    <tr>\n",
       "      <th>1047798</th>\n",
       "      <td>Middle East</td>\n",
       "      <td>1995</td>\n",
       "      <td>60.9</td>\n",
       "      <td>31-12-1995</td>\n",
       "    </tr>\n",
       "    <tr>\n",
       "      <th>1047907</th>\n",
       "      <td>Middle East</td>\n",
       "      <td>1995</td>\n",
       "      <td>82.8</td>\n",
       "      <td>19-4-1995</td>\n",
       "    </tr>\n",
       "    <tr>\n",
       "      <th>1048065</th>\n",
       "      <td>Middle East</td>\n",
       "      <td>1995</td>\n",
       "      <td>94.5</td>\n",
       "      <td>24-9-1995</td>\n",
       "    </tr>\n",
       "    <tr>\n",
       "      <th>1048066</th>\n",
       "      <td>Middle East</td>\n",
       "      <td>1995</td>\n",
       "      <td>92.6</td>\n",
       "      <td>25-9-1995</td>\n",
       "    </tr>\n",
       "    <tr>\n",
       "      <th>1048072</th>\n",
       "      <td>Middle East</td>\n",
       "      <td>1995</td>\n",
       "      <td>93.1</td>\n",
       "      <td>1-10-1995</td>\n",
       "    </tr>\n",
       "  </tbody>\n",
       "</table>\n",
       "<p>992003 rows × 4 columns</p>\n",
       "</div>"
      ],
      "text/plain": [
       "              Region  Year  Avg_temp        Date\n",
       "0             Africa  2020      46.3    1-1-2020\n",
       "1             Africa  2020      45.4    2-1-2020\n",
       "2             Africa  2020      48.0    3-1-2020\n",
       "3             Africa  2020      53.4    4-1-2020\n",
       "4             Africa  2020      47.3    5-1-2020\n",
       "...              ...   ...       ...         ...\n",
       "1047798  Middle East  1995      60.9  31-12-1995\n",
       "1047907  Middle East  1995      82.8   19-4-1995\n",
       "1048065  Middle East  1995      94.5   24-9-1995\n",
       "1048066  Middle East  1995      92.6   25-9-1995\n",
       "1048072  Middle East  1995      93.1   1-10-1995\n",
       "\n",
       "[992003 rows x 4 columns]"
      ]
     },
     "execution_count": 13,
     "metadata": {},
     "output_type": "execute_result"
    }
   ],
   "source": [
    "# Removing unwanted columns\n",
    "temp = temp.drop(columns=[\"X-Mean\", \"1.96 * std\", \"Outlier\"])\n",
    "temp"
   ]
  },
  {
   "cell_type": "code",
   "execution_count": 14,
   "id": "4b0aac9a",
   "metadata": {},
   "outputs": [
    {
     "data": {
      "text/plain": [
       "DatetimeIndex(['2020-01-01', '2020-02-01', '2020-03-01', '2020-04-01',\n",
       "               '2020-05-01', '2020-06-01', '2020-07-01', '2020-08-01',\n",
       "               '2020-09-01', '2020-10-01',\n",
       "               ...\n",
       "               '1995-12-26', '1995-12-27', '1995-12-28', '1995-12-29',\n",
       "               '1995-12-30', '1995-12-31', '1995-04-19', '1995-09-24',\n",
       "               '1995-09-25', '1995-01-10'],\n",
       "              dtype='datetime64[ns]', name='Date', length=992003, freq=None)"
      ]
     },
     "execution_count": 14,
     "metadata": {},
     "output_type": "execute_result"
    }
   ],
   "source": [
    "# Setting date as index of the table\n",
    "temp['Date'] = pd.to_datetime(temp['Date'])\n",
    "temp.set_index('Date', inplace=True)\n",
    "temp.index"
   ]
  },
  {
   "cell_type": "code",
   "execution_count": 15,
   "id": "6d6838ed",
   "metadata": {},
   "outputs": [
    {
     "data": {
      "text/html": [
       "<div>\n",
       "<style scoped>\n",
       "    .dataframe tbody tr th:only-of-type {\n",
       "        vertical-align: middle;\n",
       "    }\n",
       "\n",
       "    .dataframe tbody tr th {\n",
       "        vertical-align: top;\n",
       "    }\n",
       "\n",
       "    .dataframe thead th {\n",
       "        text-align: right;\n",
       "    }\n",
       "</style>\n",
       "<table border=\"1\" class=\"dataframe\">\n",
       "  <thead>\n",
       "    <tr style=\"text-align: right;\">\n",
       "      <th></th>\n",
       "      <th>Year</th>\n",
       "      <th>Avg_temp</th>\n",
       "    </tr>\n",
       "  </thead>\n",
       "  <tbody>\n",
       "    <tr>\n",
       "      <th>count</th>\n",
       "      <td>992003.000000</td>\n",
       "      <td>992003.000000</td>\n",
       "    </tr>\n",
       "    <tr>\n",
       "      <th>mean</th>\n",
       "      <td>2007.090161</td>\n",
       "      <td>63.425031</td>\n",
       "    </tr>\n",
       "    <tr>\n",
       "      <th>std</th>\n",
       "      <td>7.276367</td>\n",
       "      <td>18.041225</td>\n",
       "    </tr>\n",
       "    <tr>\n",
       "      <th>min</th>\n",
       "      <td>1995.000000</td>\n",
       "      <td>-25.000000</td>\n",
       "    </tr>\n",
       "    <tr>\n",
       "      <th>25%</th>\n",
       "      <td>2001.000000</td>\n",
       "      <td>51.600000</td>\n",
       "    </tr>\n",
       "    <tr>\n",
       "      <th>50%</th>\n",
       "      <td>2007.000000</td>\n",
       "      <td>66.000000</td>\n",
       "    </tr>\n",
       "    <tr>\n",
       "      <th>75%</th>\n",
       "      <td>2013.000000</td>\n",
       "      <td>78.700000</td>\n",
       "    </tr>\n",
       "    <tr>\n",
       "      <th>max</th>\n",
       "      <td>2020.000000</td>\n",
       "      <td>110.000000</td>\n",
       "    </tr>\n",
       "  </tbody>\n",
       "</table>\n",
       "</div>"
      ],
      "text/plain": [
       "                Year       Avg_temp\n",
       "count  992003.000000  992003.000000\n",
       "mean     2007.090161      63.425031\n",
       "std         7.276367      18.041225\n",
       "min      1995.000000     -25.000000\n",
       "25%      2001.000000      51.600000\n",
       "50%      2007.000000      66.000000\n",
       "75%      2013.000000      78.700000\n",
       "max      2020.000000     110.000000"
      ]
     },
     "execution_count": 15,
     "metadata": {},
     "output_type": "execute_result"
    }
   ],
   "source": [
    "temp.describe()"
   ]
  },
  {
   "cell_type": "code",
   "execution_count": 16,
   "id": "366c7c82",
   "metadata": {},
   "outputs": [
    {
     "data": {
      "text/html": [
       "<div>\n",
       "<style scoped>\n",
       "    .dataframe tbody tr th:only-of-type {\n",
       "        vertical-align: middle;\n",
       "    }\n",
       "\n",
       "    .dataframe tbody tr th {\n",
       "        vertical-align: top;\n",
       "    }\n",
       "\n",
       "    .dataframe thead th {\n",
       "        text-align: right;\n",
       "    }\n",
       "</style>\n",
       "<table border=\"1\" class=\"dataframe\">\n",
       "  <thead>\n",
       "    <tr style=\"text-align: right;\">\n",
       "      <th></th>\n",
       "      <th>Region</th>\n",
       "      <th>Year</th>\n",
       "      <th>Avg_temp</th>\n",
       "    </tr>\n",
       "    <tr>\n",
       "      <th>Date</th>\n",
       "      <th></th>\n",
       "      <th></th>\n",
       "      <th></th>\n",
       "    </tr>\n",
       "  </thead>\n",
       "  <tbody>\n",
       "    <tr>\n",
       "      <th>2019-01-01</th>\n",
       "      <td>Africa</td>\n",
       "      <td>2019</td>\n",
       "      <td>50.6</td>\n",
       "    </tr>\n",
       "    <tr>\n",
       "      <th>2019-02-01</th>\n",
       "      <td>Africa</td>\n",
       "      <td>2019</td>\n",
       "      <td>49.9</td>\n",
       "    </tr>\n",
       "    <tr>\n",
       "      <th>2019-03-01</th>\n",
       "      <td>Africa</td>\n",
       "      <td>2019</td>\n",
       "      <td>50.9</td>\n",
       "    </tr>\n",
       "    <tr>\n",
       "      <th>2019-04-01</th>\n",
       "      <td>Africa</td>\n",
       "      <td>2019</td>\n",
       "      <td>50.6</td>\n",
       "    </tr>\n",
       "    <tr>\n",
       "      <th>2019-05-01</th>\n",
       "      <td>Africa</td>\n",
       "      <td>2019</td>\n",
       "      <td>49.7</td>\n",
       "    </tr>\n",
       "  </tbody>\n",
       "</table>\n",
       "</div>"
      ],
      "text/plain": [
       "            Region  Year  Avg_temp\n",
       "Date                              \n",
       "2019-01-01  Africa  2019      50.6\n",
       "2019-02-01  Africa  2019      49.9\n",
       "2019-03-01  Africa  2019      50.9\n",
       "2019-04-01  Africa  2019      50.6\n",
       "2019-05-01  Africa  2019      49.7"
      ]
     },
     "execution_count": 16,
     "metadata": {},
     "output_type": "execute_result"
    }
   ],
   "source": [
    "#Taking data from 1995 to 2019 for analysis\n",
    "latest_temp_data = temp.loc['1995':'2019']\n",
    "latest_temp_data.head()"
   ]
  },
  {
   "cell_type": "code",
   "execution_count": 17,
   "id": "85b3a1a8",
   "metadata": {
    "scrolled": true
   },
   "outputs": [
    {
     "data": {
      "text/html": [
       "<div>\n",
       "<style scoped>\n",
       "    .dataframe tbody tr th:only-of-type {\n",
       "        vertical-align: middle;\n",
       "    }\n",
       "\n",
       "    .dataframe tbody tr th {\n",
       "        vertical-align: top;\n",
       "    }\n",
       "\n",
       "    .dataframe thead th {\n",
       "        text-align: right;\n",
       "    }\n",
       "</style>\n",
       "<table border=\"1\" class=\"dataframe\">\n",
       "  <thead>\n",
       "    <tr style=\"text-align: right;\">\n",
       "      <th></th>\n",
       "      <th>Avg_temp</th>\n",
       "    </tr>\n",
       "    <tr>\n",
       "      <th>Region</th>\n",
       "      <th></th>\n",
       "    </tr>\n",
       "  </thead>\n",
       "  <tbody>\n",
       "    <tr>\n",
       "      <th>Europe</th>\n",
       "      <td>52.038714</td>\n",
       "    </tr>\n",
       "    <tr>\n",
       "      <th>Australia/South Pacific</th>\n",
       "      <td>62.217824</td>\n",
       "    </tr>\n",
       "    <tr>\n",
       "      <th>Asia</th>\n",
       "      <td>68.228770</td>\n",
       "    </tr>\n",
       "    <tr>\n",
       "      <th>Middle East</th>\n",
       "      <td>73.927026</td>\n",
       "    </tr>\n",
       "    <tr>\n",
       "      <th>Africa</th>\n",
       "      <td>74.390962</td>\n",
       "    </tr>\n",
       "  </tbody>\n",
       "</table>\n",
       "</div>"
      ],
      "text/plain": [
       "                          Avg_temp\n",
       "Region                            \n",
       "Europe                   52.038714\n",
       "Australia/South Pacific  62.217824\n",
       "Asia                     68.228770\n",
       "Middle East              73.927026\n",
       "Africa                   74.390962"
      ]
     },
     "execution_count": 17,
     "metadata": {},
     "output_type": "execute_result"
    }
   ],
   "source": [
    "# Grouping the data based on the region\n",
    "latest_temp_data[['Region','Avg_temp']].groupby(['Region']).mean().sort_values('Avg_temp')"
   ]
  },
  {
   "cell_type": "markdown",
   "id": "fdabf2ad",
   "metadata": {},
   "source": [
    "<br/>\n",
    "<center>\n",
    "<img src=\"Images/dataclean.gif\" width=\"500\" />\n",
    "</center>\n",
    "<br/>"
   ]
  },
  {
   "cell_type": "code",
   "execution_count": 18,
   "id": "5ff75063",
   "metadata": {},
   "outputs": [
    {
     "data": {
      "image/png": "[encoded data removed]",
      "text/plain": [
       "<Figure size 648x288 with 1 Axes>"
      ]
     },
     "metadata": {
      "needs_background": "light"
     },
     "output_type": "display_data"
    }
   ],
   "source": [
    "#plotting:\n",
    "plt.figure(figsize=(9,4))\n",
    "sns.lineplot(x='Year', y='Avg_temp', data=latest_temp_data)\n",
    "plt.show()"
   ]
  },
  {
   "cell_type": "code",
   "execution_count": 19,
   "id": "69c59304",
   "metadata": {},
   "outputs": [],
   "source": [
    "# Resampling annual data\n",
    "resample_temp = latest_temp_data[['Avg_temp']].resample('A').mean()"
   ]
  },
  {
   "cell_type": "code",
   "execution_count": 20,
   "id": "1b3f9067",
   "metadata": {},
   "outputs": [
    {
     "data": {
      "text/html": [
       "<div>\n",
       "<style scoped>\n",
       "    .dataframe tbody tr th:only-of-type {\n",
       "        vertical-align: middle;\n",
       "    }\n",
       "\n",
       "    .dataframe tbody tr th {\n",
       "        vertical-align: top;\n",
       "    }\n",
       "\n",
       "    .dataframe thead th {\n",
       "        text-align: right;\n",
       "    }\n",
       "</style>\n",
       "<table border=\"1\" class=\"dataframe\">\n",
       "  <thead>\n",
       "    <tr style=\"text-align: right;\">\n",
       "      <th></th>\n",
       "      <th>Avg_temp</th>\n",
       "    </tr>\n",
       "    <tr>\n",
       "      <th>Date</th>\n",
       "      <th></th>\n",
       "    </tr>\n",
       "  </thead>\n",
       "  <tbody>\n",
       "    <tr>\n",
       "      <th>1995-12-31</th>\n",
       "      <td>62.621505</td>\n",
       "    </tr>\n",
       "    <tr>\n",
       "      <th>1996-12-31</th>\n",
       "      <td>62.274865</td>\n",
       "    </tr>\n",
       "    <tr>\n",
       "      <th>1997-12-31</th>\n",
       "      <td>62.541204</td>\n",
       "    </tr>\n",
       "    <tr>\n",
       "      <th>1998-12-31</th>\n",
       "      <td>63.038620</td>\n",
       "    </tr>\n",
       "    <tr>\n",
       "      <th>1999-12-31</th>\n",
       "      <td>63.027891</td>\n",
       "    </tr>\n",
       "  </tbody>\n",
       "</table>\n",
       "</div>"
      ],
      "text/plain": [
       "             Avg_temp\n",
       "Date                 \n",
       "1995-12-31  62.621505\n",
       "1996-12-31  62.274865\n",
       "1997-12-31  62.541204\n",
       "1998-12-31  63.038620\n",
       "1999-12-31  63.027891"
      ]
     },
     "execution_count": 20,
     "metadata": {},
     "output_type": "execute_result"
    }
   ],
   "source": [
    "resample_temp.head()"
   ]
  },
  {
   "cell_type": "code",
   "execution_count": 21,
   "id": "9c59cac5",
   "metadata": {},
   "outputs": [
    {
     "data": {
      "text/plain": [
       "<matplotlib.legend.Legend at 0x7ff03002d910>"
      ]
     },
     "execution_count": 21,
     "metadata": {},
     "output_type": "execute_result"
    },
    {
     "data": {
      "image/png": "[encoded data removed]",
      "text/plain": [
       "<Figure size 576x360 with 1 Axes>"
      ]
     },
     "metadata": {
      "needs_background": "light"
     },
     "output_type": "display_data"
    }
   ],
   "source": [
    "resample_temp.plot(title='Temperature changes from 1995 - 2019', figsize=(8,5))\n",
    "plt.ylabel=('Temperature')\n",
    "plt.xlabel=('Year')\n",
    "plt.legend()"
   ]
  },
  {
   "cell_type": "markdown",
   "id": "d43536d6",
   "metadata": {},
   "source": [
    "<h2>What is stationary and why?</h2>\n",
    "\n",
    "A time series has stationarity if a shift in time doesn’t cause a change in the shape of the distribution. Basic properties of the distribution like the mean, variance, and covariance are constant over time.\n",
    "\n",
    "Most forecasting methods assume that distribution has stationarity. For example, autocovariance and autocorrelations rely on the assumption of stationarity. An absence of stationarity can cause unexpected or bizarre behaviors, like t-ratios not following t-distribution or high r-squared values assigned to variables that aren’t correlated at all.\n",
    "\n",
    "\n",
    "\n",
    "<h4>Dickey-Fuller test (ADCF)</h4>\n",
    "\n",
    "An augmented Dickey-Fuller test (ADCF) tests the null hypothesis that a unit root is present in a time series sample. The alternative hypothesis is different depending on which version of the test is used but is usually stationarity or trend-stationarity.\n",
    "\n",
    "\n",
    "\n",
    "<h4>Null Hypothesis</h4>\n",
    "\n",
    "The null hypothesis (often denoted H0) is that there is no difference between the two possibilities.\n",
    "\n",
    "\n",
    "To perform the ADF test in any time series package, the stats model provides the implementation function adfuller().\n",
    "\n",
    "Function adfuller() provides the following information.\n",
    "\n",
    "+ p-value\n",
    "\n",
    "+ Value of the test statistic\n",
    "\n",
    "+ Number of lags for testing consideration\n",
    "\n",
    "+ The critical values\n",
    "\n",
    "+ Number of observation used"
   ]
  },
  {
   "cell_type": "markdown",
   "id": "92882eee",
   "metadata": {},
   "source": [
    "In the Dickey-Fuller test for auto lag, we are using the **Akaike information criterion (AIC)**. AIC gives use the information that you want in the time series the exact value and the actual value and analyses the difference between them."
   ]
  },
  {
   "cell_type": "code",
   "execution_count": 22,
   "id": "736b15f3",
   "metadata": {},
   "outputs": [
    {
     "name": "stdout",
     "output_type": "stream",
     "text": [
      "Results of Dickey-Fuller Test:\n",
      "Test Statistics               -1.330100\n",
      "p-value                        0.615292\n",
      "Lag Used                       0.000000\n",
      "Number of Observation Used    24.000000\n",
      "Critical Value (1%)           -3.737709\n",
      "Critical Value (5%)           -2.992216\n",
      "Critical Value (10%)          -2.635747\n",
      "dtype: float64\n"
     ]
    }
   ],
   "source": [
    "# Perform Dickey-Fuller Test\n",
    "print('Results of Dickey-Fuller Test:')\n",
    "\n",
    "test_temp = adfuller(resample_temp['Avg_temp'], autolag='AIC')\n",
    "temp_output = pd.Series(test_temp[:4], index=['Test Statistics','p-value','Lag Used','Number of Observation Used'])\n",
    "for key, value in test_temp[4].items():\n",
    "    temp_output['Critical Value (%s)' %key] = value\n",
    "print(temp_output)"
   ]
  },
  {
   "cell_type": "markdown",
   "id": "41b1d192",
   "metadata": {},
   "source": [
    "We are taking the log of the resample data"
   ]
  },
  {
   "cell_type": "code",
   "execution_count": 23,
   "id": "ea859a13",
   "metadata": {},
   "outputs": [
    {
     "data": {
      "text/plain": [
       "[<matplotlib.lines.Line2D at 0x7ff071d4dd30>]"
      ]
     },
     "execution_count": 23,
     "metadata": {},
     "output_type": "execute_result"
    },
    {
     "data": {
      "image/png": "[encoded data removed]",
      "text/plain": [
       "<Figure size 432x288 with 1 Axes>"
      ]
     },
     "metadata": {
      "needs_background": "light"
     },
     "output_type": "display_data"
    }
   ],
   "source": [
    "#Estimating trend\n",
    "\n",
    "resample_temp_logScale = np.log(resample_temp)\n",
    "plt.plot(resample_temp_logScale)"
   ]
  },
  {
   "cell_type": "markdown",
   "id": "6294f55c",
   "metadata": {},
   "source": [
    "<h3>Moving Average</h3>\n",
    "\n",
    "A moving average (rolling average or running average) is a calculation to analyze data points by creating a series of averages of different subsets of the full data set.\n",
    "\n",
    "\n",
    "\n",
    "<h3>Moving Standard Deviation</h3>\n",
    "\n",
    "Standard deviation is a statistical term that provides a good indication of volatility. It measures how widely values are dispersed from the average. Dispersion is the difference between the actual value and the average value. The larger the difference between the values and the average value, the higher the standard deviation will be and the higher the volatility. The closer the actual value is to the average value, the lower the standard deviation and the lower the volatility."
   ]
  },
  {
   "cell_type": "code",
   "execution_count": 24,
   "id": "765217df",
   "metadata": {},
   "outputs": [
    {
     "data": {
      "text/plain": [
       "[<matplotlib.lines.Line2D at 0x7ff0602c48b0>]"
      ]
     },
     "execution_count": 24,
     "metadata": {},
     "output_type": "execute_result"
    },
    {
     "data": {
      "image/png": "[encoded data removed]",
      "text/plain": [
       "<Figure size 432x288 with 1 Axes>"
      ]
     },
     "metadata": {
      "needs_background": "light"
     },
     "output_type": "display_data"
    }
   ],
   "source": [
    "movingAverage = resample_temp_logScale.rolling(window = 3).mean()\n",
    "movingSTD = resample_temp_logScale.rolling(window = 3).std()\n",
    "plt.plot(resample_temp_logScale)\n",
    "plt.plot(movingAverage, color='red')"
   ]
  },
  {
   "cell_type": "markdown",
   "id": "1c639d69",
   "metadata": {},
   "source": [
    "From the above plot, we can conclude that the **mean** is non-stationary as it moves with time and has an **upward trend**."
   ]
  },
  {
   "cell_type": "markdown",
   "id": "7aef4bd9",
   "metadata": {},
   "source": [
    "We are taking the difference between the log dataset and the moving average. The purpose of doing this all transformation is to prove that the dataset is stationary without this transformation we will not able to prove it."
   ]
  },
  {
   "cell_type": "code",
   "execution_count": 25,
   "id": "bf1dc60e",
   "metadata": {},
   "outputs": [
    {
     "data": {
      "text/html": [
       "<div>\n",
       "<style scoped>\n",
       "    .dataframe tbody tr th:only-of-type {\n",
       "        vertical-align: middle;\n",
       "    }\n",
       "\n",
       "    .dataframe tbody tr th {\n",
       "        vertical-align: top;\n",
       "    }\n",
       "\n",
       "    .dataframe thead th {\n",
       "        text-align: right;\n",
       "    }\n",
       "</style>\n",
       "<table border=\"1\" class=\"dataframe\">\n",
       "  <thead>\n",
       "    <tr style=\"text-align: right;\">\n",
       "      <th></th>\n",
       "      <th>Avg_temp</th>\n",
       "    </tr>\n",
       "    <tr>\n",
       "      <th>Date</th>\n",
       "      <th></th>\n",
       "    </tr>\n",
       "  </thead>\n",
       "  <tbody>\n",
       "    <tr>\n",
       "      <th>1995-12-31</th>\n",
       "      <td>NaN</td>\n",
       "    </tr>\n",
       "    <tr>\n",
       "      <th>1996-12-31</th>\n",
       "      <td>NaN</td>\n",
       "    </tr>\n",
       "    <tr>\n",
       "      <th>1997-12-31</th>\n",
       "      <td>0.000995</td>\n",
       "    </tr>\n",
       "    <tr>\n",
       "      <th>1998-12-31</th>\n",
       "      <td>0.006704</td>\n",
       "    </tr>\n",
       "    <tr>\n",
       "      <th>1999-12-31</th>\n",
       "      <td>0.002527</td>\n",
       "    </tr>\n",
       "    <tr>\n",
       "      <th>2000-12-31</th>\n",
       "      <td>-0.001210</td>\n",
       "    </tr>\n",
       "    <tr>\n",
       "      <th>2001-12-31</th>\n",
       "      <td>-0.000023</td>\n",
       "    </tr>\n",
       "    <tr>\n",
       "      <th>2002-12-31</th>\n",
       "      <td>0.002688</td>\n",
       "    </tr>\n",
       "    <tr>\n",
       "      <th>2003-12-31</th>\n",
       "      <td>0.001212</td>\n",
       "    </tr>\n",
       "    <tr>\n",
       "      <th>2004-12-31</th>\n",
       "      <td>0.000993</td>\n",
       "    </tr>\n",
       "  </tbody>\n",
       "</table>\n",
       "</div>"
      ],
      "text/plain": [
       "            Avg_temp\n",
       "Date                \n",
       "1995-12-31       NaN\n",
       "1996-12-31       NaN\n",
       "1997-12-31  0.000995\n",
       "1998-12-31  0.006704\n",
       "1999-12-31  0.002527\n",
       "2000-12-31 -0.001210\n",
       "2001-12-31 -0.000023\n",
       "2002-12-31  0.002688\n",
       "2003-12-31  0.001212\n",
       "2004-12-31  0.000993"
      ]
     },
     "execution_count": 25,
     "metadata": {},
     "output_type": "execute_result"
    }
   ],
   "source": [
    "#Data Transformation\n",
    "resampleLogScaleMinusMovingAverage = resample_temp_logScale - movingAverage\n",
    "resampleLogScaleMinusMovingAverage.head(10)"
   ]
  },
  {
   "cell_type": "code",
   "execution_count": 26,
   "id": "de8d0d38",
   "metadata": {},
   "outputs": [
    {
     "data": {
      "text/html": [
       "<div>\n",
       "<style scoped>\n",
       "    .dataframe tbody tr th:only-of-type {\n",
       "        vertical-align: middle;\n",
       "    }\n",
       "\n",
       "    .dataframe tbody tr th {\n",
       "        vertical-align: top;\n",
       "    }\n",
       "\n",
       "    .dataframe thead th {\n",
       "        text-align: right;\n",
       "    }\n",
       "</style>\n",
       "<table border=\"1\" class=\"dataframe\">\n",
       "  <thead>\n",
       "    <tr style=\"text-align: right;\">\n",
       "      <th></th>\n",
       "      <th>Avg_temp</th>\n",
       "    </tr>\n",
       "    <tr>\n",
       "      <th>Date</th>\n",
       "      <th></th>\n",
       "    </tr>\n",
       "  </thead>\n",
       "  <tbody>\n",
       "    <tr>\n",
       "      <th>1997-12-31</th>\n",
       "      <td>0.000995</td>\n",
       "    </tr>\n",
       "    <tr>\n",
       "      <th>1998-12-31</th>\n",
       "      <td>0.006704</td>\n",
       "    </tr>\n",
       "    <tr>\n",
       "      <th>1999-12-31</th>\n",
       "      <td>0.002527</td>\n",
       "    </tr>\n",
       "    <tr>\n",
       "      <th>2000-12-31</th>\n",
       "      <td>-0.001210</td>\n",
       "    </tr>\n",
       "    <tr>\n",
       "      <th>2001-12-31</th>\n",
       "      <td>-0.000023</td>\n",
       "    </tr>\n",
       "    <tr>\n",
       "      <th>2002-12-31</th>\n",
       "      <td>0.002688</td>\n",
       "    </tr>\n",
       "    <tr>\n",
       "      <th>2003-12-31</th>\n",
       "      <td>0.001212</td>\n",
       "    </tr>\n",
       "    <tr>\n",
       "      <th>2004-12-31</th>\n",
       "      <td>0.000993</td>\n",
       "    </tr>\n",
       "    <tr>\n",
       "      <th>2005-12-31</th>\n",
       "      <td>0.000035</td>\n",
       "    </tr>\n",
       "    <tr>\n",
       "      <th>2006-12-31</th>\n",
       "      <td>0.004541</td>\n",
       "    </tr>\n",
       "  </tbody>\n",
       "</table>\n",
       "</div>"
      ],
      "text/plain": [
       "            Avg_temp\n",
       "Date                \n",
       "1997-12-31  0.000995\n",
       "1998-12-31  0.006704\n",
       "1999-12-31  0.002527\n",
       "2000-12-31 -0.001210\n",
       "2001-12-31 -0.000023\n",
       "2002-12-31  0.002688\n",
       "2003-12-31  0.001212\n",
       "2004-12-31  0.000993\n",
       "2005-12-31  0.000035\n",
       "2006-12-31  0.004541"
      ]
     },
     "execution_count": 26,
     "metadata": {},
     "output_type": "execute_result"
    }
   ],
   "source": [
    "#Remove NaN Values\n",
    "resampleLogScaleMinusMovingAverage.dropna(inplace = True)\n",
    "resampleLogScaleMinusMovingAverage.head(10)"
   ]
  },
  {
   "cell_type": "code",
   "execution_count": 27,
   "id": "90b891b6",
   "metadata": {},
   "outputs": [],
   "source": [
    "# Dickey-Fuller testing function\n",
    "def test_stationarity(timeseries):\n",
    "    #Perform Dickey-Fuller test:\n",
    "    print('Results of Dickey-Fuller Test:')\n",
    "\n",
    "    temp_data = adfuller(timeseries, autolag = 'AIC')\n",
    "    temp_output = pd.Series(temp_data[:4], index=['Test Statistics','p-value','Lag Used','Number of Observation Used'])\n",
    "    for key, value in test_temp[4].items():\n",
    "        temp_output['Critical Value (%s)' %key] = value\n",
    "    print(temp_output)"
   ]
  },
  {
   "cell_type": "code",
   "execution_count": 28,
   "id": "33ecc546",
   "metadata": {},
   "outputs": [
    {
     "name": "stdout",
     "output_type": "stream",
     "text": [
      "Results of Dickey-Fuller Test:\n",
      "Test Statistics               -3.914394\n",
      "p-value                        0.001931\n",
      "Lag Used                       0.000000\n",
      "Number of Observation Used    22.000000\n",
      "Critical Value (1%)           -3.737709\n",
      "Critical Value (5%)           -2.992216\n",
      "Critical Value (10%)          -2.635747\n",
      "dtype: float64\n"
     ]
    }
   ],
   "source": [
    "test_stationarity(resampleLogScaleMinusMovingAverage)"
   ]
  },
  {
   "cell_type": "markdown",
   "id": "9f14f681",
   "metadata": {},
   "source": [
    "<center>\n",
    "<img src=\"Images/yes.gif\" width=\"300\" />\n",
    "</center>"
   ]
  },
  {
   "cell_type": "markdown",
   "id": "389bc643",
   "metadata": {},
   "source": [
    "Calculate the weighted average of time series why we have done this is because we need to see the trend that is present inside the time series."
   ]
  },
  {
   "cell_type": "code",
   "execution_count": 29,
   "id": "43e865e7",
   "metadata": {},
   "outputs": [
    {
     "data": {
      "text/plain": [
       "[<matplotlib.lines.Line2D at 0x7ff060327b80>]"
      ]
     },
     "execution_count": 29,
     "metadata": {},
     "output_type": "execute_result"
    },
    {
     "data": {
      "image/png": "[encoded data removed]",
      "text/plain": [
       "<Figure size 432x288 with 1 Axes>"
      ]
     },
     "metadata": {
      "needs_background": "light"
     },
     "output_type": "display_data"
    }
   ],
   "source": [
    "expDecayWeightAverage = resample_temp_logScale.ewm(halflife=3, min_periods=0, adjust=True).mean()\n",
    "plt.plot(resample_temp_logScale)\n",
    "plt.plot(expDecayWeightAverage, color='red')"
   ]
  },
  {
   "cell_type": "markdown",
   "id": "119e82e4",
   "metadata": {},
   "source": [
    "As you can see here as the time series is progressive the average is also progressing towards the higher side so here is your trend is upwards and keep on increasing with time."
   ]
  },
  {
   "cell_type": "markdown",
   "id": "82acf544",
   "metadata": {},
   "source": [
    "We are shifting the value in time series so we can use the data for forecasting. \n",
    "\n",
    "So what we have done earlier we have subtracted the value of mean from the actual value. \n",
    "\n",
    "Now what we will do we will use the function called to shift to shift all of those values."
   ]
  },
  {
   "cell_type": "code",
   "execution_count": 30,
   "id": "e6b30cc5",
   "metadata": {},
   "outputs": [
    {
     "data": {
      "text/plain": [
       "[<matplotlib.lines.Line2D at 0x7ff083207d30>]"
      ]
     },
     "execution_count": 30,
     "metadata": {},
     "output_type": "execute_result"
    },
    {
     "data": {
      "image/png": "[encoded data removed]",
      "text/plain": [
       "<Figure size 432x288 with 1 Axes>"
      ]
     },
     "metadata": {
      "needs_background": "light"
     },
     "output_type": "display_data"
    }
   ],
   "source": [
    "# Data Shifting for forecasting\n",
    "tempsetLogDiffShifting = resample_temp_logScale - resample_temp_logScale.shift()\n",
    "\n",
    "plt.plot(tempsetLogDiffShifting)"
   ]
  },
  {
   "cell_type": "markdown",
   "id": "16f50787",
   "metadata": {},
   "source": [
    "Here we have taken a lag of 1 so here we have shifted the value by 1 or you can say difference the time series by 1.\n",
    "\n",
    "For ARIMA model has three models in it i.e. AR model stands for autoregressive, the MA model stands for moving average and the I model stands for integration.\n",
    "\n",
    "So ARIMA model takes three parameters and **d** stands for integration part or you can say how many times you have differentiated a time series so here the value is **1**"
   ]
  },
  {
   "cell_type": "code",
   "execution_count": 31,
   "id": "e66c65fa",
   "metadata": {},
   "outputs": [
    {
     "name": "stdout",
     "output_type": "stream",
     "text": [
      "Results of Dickey-Fuller Test:\n",
      "Test Statistics              -6.041363e+00\n",
      "p-value                       1.343549e-07\n",
      "Lag Used                      0.000000e+00\n",
      "Number of Observation Used    2.300000e+01\n",
      "Critical Value (1%)          -3.737709e+00\n",
      "Critical Value (5%)          -2.992216e+00\n",
      "Critical Value (10%)         -2.635747e+00\n",
      "dtype: float64\n"
     ]
    }
   ],
   "source": [
    "## Remove NaN values\n",
    "tempsetLogDiffShifting.dropna(inplace=True)\n",
    "test_stationarity(tempsetLogDiffShifting)"
   ]
  },
  {
   "cell_type": "code",
   "execution_count": 32,
   "id": "1114ebb2",
   "metadata": {},
   "outputs": [
    {
     "data": {
      "image/png": "[encoded data removed]",
      "text/plain": [
       "<Figure size 432x288 with 1 Axes>"
      ]
     },
     "metadata": {
      "needs_background": "light"
     },
     "output_type": "display_data"
    },
    {
     "data": {
      "image/png": "[encoded data removed]",
      "text/plain": [
       "<Figure size 432x360 with 1 Axes>"
      ]
     },
     "metadata": {
      "needs_background": "light"
     },
     "output_type": "display_data"
    },
    {
     "data": {
      "image/png": "[encoded data removed]",
      "text/plain": [
       "<Figure size 432x360 with 1 Axes>"
      ]
     },
     "metadata": {
      "needs_background": "light"
     },
     "output_type": "display_data"
    },
    {
     "data": {
      "image/png": "[encoded data removed]",
      "text/plain": [
       "<Figure size 432x360 with 1 Axes>"
      ]
     },
     "metadata": {
      "needs_background": "light"
     },
     "output_type": "display_data"
    },
    {
     "data": {
      "text/plain": [
       "<Figure size 432x360 with 0 Axes>"
      ]
     },
     "metadata": {},
     "output_type": "display_data"
    }
   ],
   "source": [
    "# Component of time series\n",
    "decomp = seasonal_decompose(resample_temp_logScale, freq=3)\n",
    "\n",
    "trend = decomp.trend\n",
    "seasonal = decomp.seasonal\n",
    "residual = decomp.resid\n",
    "\n",
    "plt.subplot(411)\n",
    "plt.plot(resample_temp)\n",
    "plt.title('Original')\n",
    "plt.figure(figsize=(6,5))\n",
    "\n",
    "plt.subplot(412)\n",
    "plt.plot(trend)\n",
    "plt.title('Trend')\n",
    "plt.figure(figsize=(6,5))\n",
    "\n",
    "plt.subplot(413)\n",
    "plt.plot(seasonal)\n",
    "plt.title('Seasonal')\n",
    "plt.figure(figsize=(6,5))\n",
    "\n",
    "plt.subplot(414)\n",
    "plt.plot(residual)\n",
    "plt.title('Residual')\n",
    "plt.figure(figsize=(6,5))\n",
    "\n",
    "plt.tight_layout()"
   ]
  },
  {
   "cell_type": "code",
   "execution_count": 33,
   "id": "69084ee6",
   "metadata": {},
   "outputs": [
    {
     "data": {
      "image/png": "[encoded data removed]",
      "text/plain": [
       "<Figure size 432x288 with 1 Axes>"
      ]
     },
     "metadata": {
      "needs_background": "light"
     },
     "output_type": "display_data"
    },
    {
     "name": "stdout",
     "output_type": "stream",
     "text": [
      "Results of Dickey-Fuller Test:\n",
      "Test Statistics               -5.127845\n",
      "p-value                        0.000012\n",
      "Lag Used                       6.000000\n",
      "Number of Observation Used    16.000000\n",
      "Critical Value (1%)           -3.737709\n",
      "Critical Value (5%)           -2.992216\n",
      "Critical Value (10%)          -2.635747\n",
      "dtype: float64\n"
     ]
    }
   ],
   "source": [
    "# Check noise in the data if its stationary or not\n",
    "decomposedLogData = residual\n",
    "decomposedLogData.dropna(inplace=True)\n",
    "\n",
    "#Plotting\n",
    "movingAverage = decomposedLogData.rolling(window=3).mean()\n",
    "movingSTD = decomposedLogData.rolling(window=3).std()\n",
    "\n",
    "orig = plt.plot(decomposedLogData, color = 'blue' , label = 'Original')\n",
    "mean = plt.plot(movingAverage, color = 'red' , label = 'Original')\n",
    "std = plt.plot(movingSTD, color = 'black' , label = 'Original')\n",
    "\n",
    "plt.legend(loc='best')\n",
    "plt.title('Rolling Mean & Standard Deviation')\n",
    "plt.show(block = False)\n",
    "\n",
    "# Testing Stationary\n",
    "test_stationarity(decomposedLogData)"
   ]
  },
  {
   "cell_type": "markdown",
   "id": "16911a63",
   "metadata": {},
   "source": [
    "Looking at the graph we can see this is not stationary so we need to have a moving average parameter in place so that it smoothes it out and predict what happens next."
   ]
  },
  {
   "cell_type": "markdown",
   "id": "a10c4cda",
   "metadata": {},
   "source": [
    "Now we are plotting the Auto correlation graph (ACF) and Partial Autocorrelation graph (PACF) to find the two remaining parameters of the ARIMA model. \n",
    "\n",
    "For PACF we are using **Ordinary least square method (ols)**.\n",
    "\n",
    "In order to find **p** and **q** values we need to check where the graph drops to zero for the first time.\n",
    "\n",
    "+ **p** value can be found by PACF\n",
    "+ **q** value can be found by ACF"
   ]
  },
  {
   "cell_type": "code",
   "execution_count": 34,
   "id": "18dbda88",
   "metadata": {},
   "outputs": [
    {
     "data": {
      "image/png": "[encoded data removed]",
      "text/plain": [
       "<Figure size 432x288 with 2 Axes>"
      ]
     },
     "metadata": {
      "needs_background": "light"
     },
     "output_type": "display_data"
    }
   ],
   "source": [
    "#ACF and PACF plot:\n",
    "\n",
    "lag_acf = acf(tempsetLogDiffShifting, nlags=10)\n",
    "lag_pacf = pacf(tempsetLogDiffShifting, nlags=10, method='ols')\n",
    "\n",
    "#plot acf:\n",
    "plt.subplot(121)\n",
    "plt.plot(lag_acf)\n",
    "plt.axhline(y= 0, linestyle='--', color='gray')\n",
    "plt.axhline(y= -1.96/np.sqrt(len(tempsetLogDiffShifting)), linestyle='--',color='gray')\n",
    "plt.axhline(y= 1.96/np.sqrt(len(tempsetLogDiffShifting)), linestyle='--',color='gray')\n",
    "plt.title('Autocorrelation Function')\n",
    "\n",
    "plt.subplot(122)\n",
    "plt.plot(lag_pacf)\n",
    "plt.axhline(y= 0, linestyle='--', color='gray')\n",
    "plt.axhline(y= -1.96/np.sqrt(len(tempsetLogDiffShifting)), linestyle='--',color='gray')\n",
    "plt.axhline(y= 1.96/np.sqrt(len(tempsetLogDiffShifting)), linestyle='--',color='gray')\n",
    "plt.title('Partial Autocorrelation Function')\n",
    "plt.tight_layout()"
   ]
  },
  {
   "cell_type": "markdown",
   "id": "bb0ba3a2",
   "metadata": {},
   "source": [
    "For the graph, we can see that **p** and **q** values is also around **2**."
   ]
  },
  {
   "cell_type": "markdown",
   "id": "d61d3a2d",
   "metadata": {},
   "source": [
    "<h2>ARIMA</h2> \n",
    "\n",
    "An autoregressive integrated moving average (ARIMA) model is a generalization of an autoregressive moving average (ARMA) model. \n",
    "\n",
    "Both of these models are fitted to time series data either to better understand the data or to predict future points in the series (forecasting). \n",
    "\n",
    "ARIMA models are applied in cases where data show evidence of non-stationarity in the sense of mean (but not variance/autocovariance), <br>\n",
    "\n",
    "where an initial differencing step (corresponding to the \"integrated\" part of the model) can be applied one or more times to eliminate the non-stationarity of the mean function (i.e., the trend).<br>\n",
    "\n",
    "When the seasonality shows in a time series, the seasonal-differencing could be applied to eliminate the seasonal component.\n",
    "\n",
    "<br/>\n",
    "<center>\n",
    "<img src=\"Images/arima.png\" width=\"590\" />\n",
    "</center>\n",
    "<br/>\n",
    "\n",
    "This acronym is descriptive, capturing the key aspects of the model itself. Briefly, they are:\n",
    "\n",
    "**Autoregression (AR) :** A model that uses the dependent relationship between an observation and some number of lagged observations.\n",
    "\n",
    "**Integrated (I) :** The use of differencing of raw observations (e.g. subtracting an observation from observation at the previous time step) in order to make the time series stationary.\n",
    "\n",
    "**Moving Average (MA) :** A model that uses the dependency between an observation and a residual error from a moving average model applied to lagged observations\n",
    "\n",
    "The parameters of the ARIMA model are defined as follows:\n",
    "\n",
    "**p:** The number of lag observations included in the model, also called the lag order. \n",
    "\n",
    "**d:** The number of times that the raw observations are differenced, also called the degree of differencing. \n",
    "\n",
    "**q:** The size of the moving average window, also called the order of moving average."
   ]
  },
  {
   "cell_type": "code",
   "execution_count": 35,
   "id": "29c688eb",
   "metadata": {},
   "outputs": [
    {
     "name": "stdout",
     "output_type": "stream",
     "text": [
      "Plotting AR model\n"
     ]
    },
    {
     "data": {
      "image/png": "[encoded data removed]",
      "text/plain": [
       "<Figure size 432x288 with 1 Axes>"
      ]
     },
     "metadata": {
      "needs_background": "light"
     },
     "output_type": "display_data"
    }
   ],
   "source": [
    "#AR Model\n",
    "model = ARIMA(resample_temp_logScale, order=(2, 1, 0))\n",
    "result_AR = model.fit(dis=-1)\n",
    "plt.plot(tempsetLogDiffShifting)\n",
    "plt.plot(result_AR.fittedvalues, color='red')\n",
    "plt.title('RSS: %4f' %sum((result_AR.fittedvalues - tempsetLogDiffShifting['Avg_temp']) **2 ))\n",
    "print('Plotting AR model')"
   ]
  },
  {
   "cell_type": "code",
   "execution_count": 36,
   "id": "63b7cc9f",
   "metadata": {},
   "outputs": [
    {
     "name": "stdout",
     "output_type": "stream",
     "text": [
      "Plotting MA model\n"
     ]
    },
    {
     "data": {
      "image/png": "[encoded data removed]",
      "text/plain": [
       "<Figure size 432x288 with 1 Axes>"
      ]
     },
     "metadata": {
      "needs_background": "light"
     },
     "output_type": "display_data"
    }
   ],
   "source": [
    "#MA Model\n",
    "model = ARIMA(resample_temp_logScale, order=(0, 1, 2))\n",
    "result_MA = model.fit(dis=-1)\n",
    "plt.plot(tempsetLogDiffShifting)\n",
    "plt.plot(result_MA.fittedvalues, color='red')\n",
    "plt.title('RSS: %4f' %sum((result_MA.fittedvalues - tempsetLogDiffShifting['Avg_temp']) **2 ))\n",
    "print('Plotting MA model')"
   ]
  },
  {
   "cell_type": "markdown",
   "id": "87be30e5",
   "metadata": {},
   "source": [
    "We can conclude that we respect to the **Auto Regressive** part we have RSS of **0.000387** and for **Moving average** is **0.000412** and if we combined both of them and make ARIMA out of them i.e. 2, 1, 2 then we have less RSS value."
   ]
  },
  {
   "cell_type": "code",
   "execution_count": 37,
   "id": "b003a94e",
   "metadata": {},
   "outputs": [
    {
     "name": "stdout",
     "output_type": "stream",
     "text": [
      "Plotting AR model\n"
     ]
    },
    {
     "data": {
      "image/png": "[encoded data removed]",
      "text/plain": [
       "<Figure size 432x288 with 1 Axes>"
      ]
     },
     "metadata": {
      "needs_background": "light"
     },
     "output_type": "display_data"
    }
   ],
   "source": [
    "model = ARIMA(resample_temp_logScale, order=(2, 1, 2))\n",
    "results_ARIMA = model.fit(dis=-1)\n",
    "plt.plot(tempsetLogDiffShifting)\n",
    "plt.plot(result_AR.fittedvalues, color='red')\n",
    "plt.title('RSS: %4f' %sum((results_ARIMA.fittedvalues - tempsetLogDiffShifting['Avg_temp']) **2 ))\n",
    "print('Plotting AR model')"
   ]
  },
  {
   "cell_type": "markdown",
   "id": "3e112538",
   "metadata": {},
   "source": [
    "Coverted the fitted value in series format"
   ]
  },
  {
   "cell_type": "code",
   "execution_count": 38,
   "id": "ed285b31",
   "metadata": {},
   "outputs": [
    {
     "name": "stdout",
     "output_type": "stream",
     "text": [
      "Date\n",
      "1996-12-31    0.001114\n",
      "1997-12-31    0.002548\n",
      "1998-12-31    0.001859\n",
      "1999-12-31   -0.000465\n",
      "2000-12-31   -0.000390\n",
      "Freq: A-DEC, dtype: float64\n"
     ]
    }
   ],
   "source": [
    "predictions_ARIMA_diff = pd.Series(results_ARIMA.fittedvalues, copy=True)\n",
    "print(predictions_ARIMA_diff.head())"
   ]
  },
  {
   "cell_type": "code",
   "execution_count": 39,
   "id": "0b0f486f",
   "metadata": {},
   "outputs": [
    {
     "name": "stdout",
     "output_type": "stream",
     "text": [
      "Date\n",
      "1996-12-31    0.001114\n",
      "1997-12-31    0.003662\n",
      "1998-12-31    0.005521\n",
      "1999-12-31    0.005056\n",
      "2000-12-31    0.004666\n",
      "Freq: A-DEC, dtype: float64\n"
     ]
    }
   ],
   "source": [
    "# convert to cumulative sum\n",
    "predictions_ARIMA_diff_cumsum = predictions_ARIMA_diff.cumsum()\n",
    "print(predictions_ARIMA_diff_cumsum.head())"
   ]
  },
  {
   "cell_type": "code",
   "execution_count": 40,
   "id": "93b82689",
   "metadata": {},
   "outputs": [
    {
     "data": {
      "text/plain": [
       "Date\n",
       "1995-12-31    4.137109\n",
       "1996-12-31    4.132672\n",
       "1997-12-31    4.139488\n",
       "1998-12-31    4.149268\n",
       "1999-12-31    4.148634\n",
       "Freq: A-DEC, dtype: float64"
      ]
     },
     "execution_count": 40,
     "metadata": {},
     "output_type": "execute_result"
    }
   ],
   "source": [
    "# Prediction done for the fitted value\n",
    "predictions_ARIMA_log = pd.Series(resample_temp_logScale['Avg_temp'], index=resample_temp_logScale.index)\n",
    "predictions_ARIMA_log = predictions_ARIMA_log.add(predictions_ARIMA_diff_cumsum, fill_value=0)\n",
    "predictions_ARIMA_log.head()"
   ]
  },
  {
   "cell_type": "markdown",
   "id": "d8f84279",
   "metadata": {},
   "source": [
    "After all this transformation we also need exponential of the whole dataset so that it comes back to its original form.\n",
    "\n",
    "This are the three step very important for data transformation\n",
    "+ Finding cumulative sum\n",
    "+ Doing Prediction\n",
    "+ Calculate exponent of it to get your data in your original format"
   ]
  },
  {
   "cell_type": "code",
   "execution_count": 41,
   "id": "c48b591e",
   "metadata": {},
   "outputs": [
    {
     "data": {
      "image/png": "[encoded data removed]",
      "text/plain": [
       "<Figure size 432x288 with 1 Axes>"
      ]
     },
     "metadata": {
      "needs_background": "light"
     },
     "output_type": "display_data"
    }
   ],
   "source": [
    "predictions_ARIMA = np.exp(predictions_ARIMA_log)\n",
    "plt.plot(resample_temp, label='Original')\n",
    "plt.plot(predictions_ARIMA, label='Prediction')\n",
    "plt.legend(loc='best')\n",
    "plt.show(block=False)"
   ]
  },
  {
   "cell_type": "markdown",
   "id": "4119a966",
   "metadata": {},
   "source": [
    "As you can see only the magnitude is varying and the shape is properly captured by the ARIMA model."
   ]
  },
  {
   "cell_type": "code",
   "execution_count": 42,
   "id": "6cac5621",
   "metadata": {},
   "outputs": [
    {
     "data": {
      "text/plain": [
       "(25, 1)"
      ]
     },
     "execution_count": 42,
     "metadata": {},
     "output_type": "execute_result"
    }
   ],
   "source": [
    "resample_temp_logScale.shape"
   ]
  },
  {
   "cell_type": "markdown",
   "id": "3aa2710a",
   "metadata": {},
   "source": [
    "You can see they are 25 rows in the dataset to predict for the next 10 years so the number of data points will be 10. So using **plot_predict** we can predict the future."
   ]
  },
  {
   "cell_type": "code",
   "execution_count": 43,
   "id": "21111fc2",
   "metadata": {},
   "outputs": [
    {
     "data": {
      "image/png": "[encoded data removed]",
      "text/plain": [
       "<Figure size 432x288 with 1 Axes>"
      ]
     },
     "execution_count": 43,
     "metadata": {},
     "output_type": "execute_result"
    },
    {
     "data": {
      "image/png": "[encoded data removed]",
      "text/plain": [
       "<Figure size 432x288 with 1 Axes>"
      ]
     },
     "metadata": {
      "needs_background": "light"
     },
     "output_type": "display_data"
    }
   ],
   "source": [
    "results_ARIMA.plot_predict(1, 35)"
   ]
  },
  {
   "cell_type": "markdown",
   "id": "833e8159",
   "metadata": {},
   "source": [
    "<center>\n",
    "<img src=\"Images/giphy.gif\" width=\"450\" />\n",
    "</center>\n",
    "<br>\n",
    "You can see the blue is the forecast value and gray part is the confidence."
   ]
  },
  {
   "cell_type": "markdown",
   "id": "1f5ad359",
   "metadata": {},
   "source": [
    "<h3>Conclusion:</h3>\n",
    "\n",
    "We have walked through a python tutorial and learned the **why and what Time Series** is, **components of time-series**, What is **Stationarity**, and **making stationary data using the dickey-fuller test** and **ARIMA model** while implementing weather forecasting of the world data. If we thoroughly review the temperature prediction graph, the temperature of the world is rising at a high rate. \n",
    "\n",
    "<br/>\n",
    "<center>\n",
    "<img src=\"Images/predict.gif\" width=\"450\" />\n",
    "</center>\n",
    "\n",
    "Soooo.... we are lagging in a timeline but it's not finished yet. So let's do some action to save the earth from raising the temperature.\n",
    "\n",
    "\n",
    "<h3>Citations:</h3>\n",
    "\n",
    "Referred code and knowledge from the following links:\n",
    "\n",
    "**Dataset:** https://www.kaggle.com/sudalairajkumar/daily-temperature-of-major-cities/metadata\n",
    "\n",
    "**Dickey-Fuller Test:** https://www.machinelearningplus.com/time-series/augmented-dickey-fuller-test/\n",
    "\n",
    "**ARIMA:** https://machinelearningmastery.com/arima-for-time-series-forecasting-with-python/\n",
    "\n",
    "**Credit:** Prof. Dino, Gauri Verma & Pratiksha Patole"
   ]
  },
  {
   "cell_type": "markdown",
   "id": "d8c9be5a",
   "metadata": {},
   "source": [
    "<br/>\n",
    "<center>\n",
    "<img src=\"Images/thankyou.gif\" width=\"350\" />\n",
    "</center>"
   ]
  }
 ],
 "metadata": {
  "kernelspec": {
   "display_name": "Python 3",
   "language": "python",
   "name": "python3"
  },
  "language_info": {
   "codemirror_mode": {
    "name": "ipython",
    "version": 3
   },
   "file_extension": ".py",
   "mimetype": "text/x-python",
   "name": "python",
   "nbconvert_exporter": "python",
   "pygments_lexer": "ipython3",
   "version": "3.8.8"
  }
 },
 "nbformat": 4,
 "nbformat_minor": 5
}
