{
 "cells": [
  {
   "cell_type": "markdown",
   "id": "ce69b9dd",
   "metadata": {},
   "source": [
    "# Homework for next week: Introduction to Data Science for Sports\n",
    "\n",
    "You will exercise your knowledge of probabilities and write down logic with python.\n",
    "\n",
    "<br />\n",
    "\n",
    "**Question 1** (20 points) Here are the driver [standings](https://www.formula1.com/en/drivers.html) for the year 2021. What a year it was! Mercedes' Lewis Hamilton *lost* to Red Bull Racing's Max Verstappen!. Here are the last 3 F1 races for the season, that happened while we were learning data science! \n",
    "- Italy GP: Date: September 10\n",
    "- Russia GP: Date: September 24\n",
    "- Turkey GP: Date: October 10\n",
    "\n",
    "Suppose we are just starting the semester, right before the Italy Grand Prix (this coming weekend) and the Russia Grand Prix the weekend after, as you can see [schedule](https://www.formula1.com/en/racing/2021.html). \n",
    "\n",
    "The 2021 driver standings are already [tabulated](https://www.formula1.com/en/drivers.html) and Max beat Lewis! But let's ***assume*** these standings ***before the Italy GP***. \n",
    "\n",
    "Given these standings (please do not use team standings given on the same Web site, use ***driver standings***), what is the Probability Distribution for each F1 driver to win the Italy Grand Prix? \n",
    "\n",
    "What is the Probability Distribution for each F1 driver to win ***both*** the Italy and the Russia Grand Prix? \n",
    "\n",
    "What is the probability for Red Bull Racing to win ***both*** races? \n",
    "\n",
    "What is the probability for Red Bull Racing to win ***at least*** one race? \n",
    "\n",
    "What is the probability for Red Bull Racing to win ***all three*** races? \n",
    "\n",
    "Note that Red Bull Racing, and each other racing team, has ***two*** drivers per race. Use individual driver standings (not team standings), and use the same *final* [standings](https://www.formula1.com/en/results.html/2020/drivers.html) for both races.\n",
    "\n",
    "**Question 2** (30 points) If Red Bull Racing wins the first race, what is the probability that Red Bull Racing wins the next one? If Red Bull Racing wins at least one of these two races, what is the probability Red Bull Racing wins both races? How about Mercedes, McLaren, and Ferrari?\n",
    "\n",
    "**Question 3** (50 points) Red Bull Racing wins at least one of these two races on a ***rainy day***. What is the probability Red Bull Racing wins ***both*** races, assuming races can be held on either rainy, sunny, cloudy, snowy or foggy days? Also assume that rain, sun, clouds, snow, and fog are the *only possible weather conditions* on race tracks, and that they're *equiprobable*.\n",
    "\n",
    "You need to provide *proof* for your answers. `I think it's one in a million because Red Bull Racing ***sucks*** and I like Mercedes ***a lot more***` is not a good answer. Leverage the counting framework in this workbook!"
   ]
  },
  {
   "cell_type": "markdown",
   "id": "6fc2ebf8",
   "metadata": {},
   "source": [
    "Define function that return probability distribution of each and every item"
   ]
  },
  {
   "cell_type": "code",
   "execution_count": 47,
   "id": "ea962bdd",
   "metadata": {},
   "outputs": [],
   "source": [
    "class ProbDist(dict):\n",
    "    \"\"\"A Probability Distribution; an {outcome: probability} mapping.\"\"\"\n",
    "    def __init__(self, mapping=(), **kwargs):\n",
    "        self.update(mapping, **kwargs)\n",
    "        # Make probabilities sum to 1.0; assert no negative probabilities\n",
    "        total = sum(self.values())\n",
    "        for outcome in self:\n",
    "            self[outcome] = self[outcome] / total\n",
    "            assert self[outcome] >= 0"
   ]
  },
  {
   "cell_type": "markdown",
   "id": "b3a90683",
   "metadata": {},
   "source": [
    "**IGP, RGP, and weather** stored the probabilty distribution of italia GP, Russian GP, and wheather\n",
    "\n",
    "**teamPlayer** stored the player belongs to which team"
   ]
  },
  {
   "cell_type": "code",
   "execution_count": 48,
   "id": "558e0c23",
   "metadata": {},
   "outputs": [],
   "source": [
    "IGP = ProbDist(\n",
    "    MV = 287.5,\n",
    "    LH = 275.5,\n",
    "    VB = 185,\n",
    "    LN = 149,\n",
    "    SP = 150,\n",
    "    CS = 122.5,\n",
    "    CL = 128,\n",
    "    DR = 105,\n",
    "    PG = 74,\n",
    "    FA = 58,\n",
    "    EO = 46,\n",
    "    SV = 36,\n",
    "    LS = 26,\n",
    "    YT = 20,\n",
    "    GR = 16,\n",
    "    NL = 7,\n",
    "    KR = 6,\n",
    "    AG = 1,\n",
    "    MS = 0,\n",
    "    NM = 0\n",
    ")\n",
    "\n",
    "RGP = IGP\n",
    "teamPlayer = {\n",
    "    'MV': 'Redbull',\n",
    "    'SP': 'Redbull',\n",
    "    'LH': 'Merc',\n",
    "    'VB': 'Merc',\n",
    "    'LN': 'McL',\n",
    "    'CS': 'Fer',\n",
    "    'CL': 'Fer',\n",
    "    'DR': 'McL',\n",
    "    'PG': 'AlpT',\n",
    "    'FA': 'Alp',\n",
    "    'EO': 'Alp',\n",
    "    'SV': 'AM',\n",
    "    'LS': 'AM',\n",
    "    'YT': 'AlpT',\n",
    "    'GR': 'Will',\n",
    "    'NL': 'Will',\n",
    "    'KR': 'AlpR',\n",
    "    'AG': 'AlpR',\n",
    "    'MS': 'Haas',\n",
    "    'NM': 'Haas'\n",
    "}\n",
    "\n",
    "weather = ProbDist(\n",
    "    rain = 1, \n",
    "    sun = 1,\n",
    "    cloudy = 1,\n",
    "    snow = 1,\n",
    "    fog = 1\n",
    ")"
   ]
  },
  {
   "cell_type": "markdown",
   "id": "84de9a0c",
   "metadata": {},
   "source": [
    "Defined function **teamJoin** which return team dictionary along with team performance "
   ]
  },
  {
   "cell_type": "code",
   "execution_count": 49,
   "id": "56b5fe18",
   "metadata": {},
   "outputs": [],
   "source": [
    "team = {}\n",
    "def teamJoin():\n",
    "    for i,v in teamPlayer.items():\n",
    "        if(v not in team):\n",
    "            team[v] = IGP[i]\n",
    "        else:\n",
    "            team[v]+= IGP[i]\n",
    "teamJoin()\n",
    "team = ProbDist(team)"
   ]
  },
  {
   "cell_type": "code",
   "execution_count": 50,
   "id": "acdf6084",
   "metadata": {},
   "outputs": [],
   "source": [
    "def joint(A, B, sep=''):\n",
    "    \"\"\"The joint distribution of two independent probability distributions. \n",
    "    Result is all entries of the form {a+sep+b: P(a)*P(b)}\"\"\"\n",
    "    return ProbDist({a + sep + b: A[a] * B[b]\n",
    "                    for a in A\n",
    "                    for b in B})"
   ]
  },
  {
   "cell_type": "markdown",
   "id": "843136c4",
   "metadata": {},
   "source": [
    "varible stored all the possible combination of the players and teams"
   ]
  },
  {
   "cell_type": "code",
   "execution_count": 51,
   "id": "2417ea6d",
   "metadata": {},
   "outputs": [],
   "source": [
    "P2R = joint(IGP, RGP , ' ')\n",
    "T2R = joint(team, team, ' ')\n",
    "T3R = joint(team, joint(team, team, ' ') , ' ')"
   ]
  },
  {
   "cell_type": "markdown",
   "id": "37ad91af",
   "metadata": {},
   "source": [
    "Defined function **first_race_winner, second_race_winner, and third_race_winner** return the outcome who win the race at given position i.e. player or team name in the given position\n",
    "\n",
    "Defined function **removeData** is used to delete the data which is not needed"
   ]
  },
  {
   "cell_type": "code",
   "execution_count": 52,
   "id": "b439f572",
   "metadata": {},
   "outputs": [],
   "source": [
    "def first_race_winner(outcome, key): return outcome.split(' ')[0] == key\n",
    "def second_race_winner(outcome, key): return outcome.split(' ')[1] == key\n",
    "def third_race_winner(outcome, key): return outcome.split(' ')[2] == key\n",
    "def removeData(outcome, key): return outcome.count(key) == 0"
   ]
  },
  {
   "cell_type": "code",
   "execution_count": 53,
   "id": "687218ea",
   "metadata": {},
   "outputs": [],
   "source": [
    "def p_and(event_collection, space, x): \n",
    "    \"\"\"The probability of an event collection intersection, given a sample space of non-equiprobable outcomes. \n",
    "    event: a collection of predicates that are true of outcomes in the event. \n",
    "    space: a set of outcomes or a probability distribution of {outcome: frequency} pairs.\n",
    "    x: key on which event has to be applied\"\"\"\n",
    "    l = list(map(lambda e: {o for o in space if e(o, x)}, event_collection))\n",
    "    return sum([space[o] for o in l[0].intersection(*l)])\n",
    "\n",
    "def p(event, space, x): \n",
    "    \"\"\"The probability of an event, given a sample space of equiprobable outcomes. \n",
    "    event: a collection of outcomes, or a predicate that is true of outcomes in the event. \n",
    "    space: a set of outcomes or a probability distribution of {outcome: frequency} pairs.\n",
    "    x: key on which event has to be applied\"\"\"\n",
    "    # branch on the type of the first argument\n",
    "    if is_predicate(event):\n",
    "        event = such_that(event, space, x)\n",
    "    if isinstance(space, ProbDist):\n",
    "        return sum([space[o] for o in event])\n",
    "    else:\n",
    "        return Fraction(len(event & space), len(space))\n",
    "\n",
    "is_predicate = callable\n",
    "\n",
    "def such_that(predicate, space, x):\n",
    "    \"\"\"The outcomes in the sample space for which the predicate is true.\n",
    "    If space is a set, return a subset {outcome,...} with outcomes where predicate(element, key) is true;\n",
    "    if space is a ProbDist, return a ProbDist {outcome: frequency,...} with outcomes where predicate(element, key) is true.\"\"\"\n",
    "    if isinstance(space, ProbDist):\n",
    "        return ProbDist({o:space[o] for o in space if predicate(o, x)})\n",
    "    else:\n",
    "        return {o for o in space if predicate(o, x)}"
   ]
  },
  {
   "cell_type": "markdown",
   "id": "13b0a0a0",
   "metadata": {},
   "source": [
    "Given these standings (please do not use team standings given on the same Web site, use driver standings), what is the Probability Distribution for each F1 driver to win the Italy Grand Prix?"
   ]
  },
  {
   "cell_type": "code",
   "execution_count": 54,
   "id": "12764c8f",
   "metadata": {},
   "outputs": [
    {
     "data": {
      "text/plain": [
       "{'MV': 0.16986706056129985,\n",
       " 'LH': 0.16277695716395865,\n",
       " 'VB': 0.10930576070901034,\n",
       " 'LN': 0.0880354505169867,\n",
       " 'SP': 0.08862629246676514,\n",
       " 'CS': 0.0723781388478582,\n",
       " 'CL': 0.07562776957163958,\n",
       " 'DR': 0.0620384047267356,\n",
       " 'PG': 0.04372230428360414,\n",
       " 'FA': 0.03426883308714919,\n",
       " 'EO': 0.027178729689807977,\n",
       " 'SV': 0.021270310192023634,\n",
       " 'LS': 0.01536189069423929,\n",
       " 'YT': 0.011816838995568686,\n",
       " 'GR': 0.009453471196454948,\n",
       " 'NL': 0.00413589364844904,\n",
       " 'KR': 0.0035450516986706058,\n",
       " 'AG': 0.0005908419497784342,\n",
       " 'MS': 0.0,\n",
       " 'NM': 0.0}"
      ]
     },
     "execution_count": 54,
     "metadata": {},
     "output_type": "execute_result"
    }
   ],
   "source": [
    "IGP"
   ]
  },
  {
   "cell_type": "markdown",
   "id": "b75be5b2",
   "metadata": {},
   "source": [
    "What is the Probability Distribution for each F1 driver to win both the Italy and the Russia Grand Prix?"
   ]
  },
  {
   "cell_type": "markdown",
   "id": "dc756f4b",
   "metadata": {},
   "source": [
    "# Solution\n",
    "\n",
    "Mapping as per the teamPlayer keys and **p_and** is passing two event first and second winner, **P2R** is player probability of two races, and **x** is the player name.\n",
    "\n",
    "**p_add** will return probability value of player winning both the races along with values\n",
    "\n",
    "**W2R** stored dictionary with player name and probability winning both the races."
   ]
  },
  {
   "cell_type": "code",
   "execution_count": 55,
   "id": "ce6b4930",
   "metadata": {},
   "outputs": [
    {
     "data": {
      "text/plain": [
       "{'MV': 0.028854818263736343,\n",
       " 'SP': 0.007854619716404599,\n",
       " 'LH': 0.02649633778355726,\n",
       " 'VB': 0.011947749324175442,\n",
       " 'LN': 0.0077502405477288235,\n",
       " 'CS': 0.005238594983079846,\n",
       " 'CL': 0.005719559530381019,\n",
       " 'DR': 0.0038487636610382544,\n",
       " 'PG': 0.0019116398918680708,\n",
       " 'FA': 0.0011743529211548924,\n",
       " 'EO': 0.0007386833475516505,\n",
       " 'SV': 0.00045242609566490495,\n",
       " 'LS': 0.00023598768570175598,\n",
       " 'YT': 0.00013963768384719292,\n",
       " 'GR': 8.936811766220343e-05,\n",
       " 'NL': 1.710561627128113e-05,\n",
       " 'KR': 1.2567391546247361e-05,\n",
       " 'AG': 3.4909420961798214e-07,\n",
       " 'MS': 0.0,\n",
       " 'NM': 0.0}"
      ]
     },
     "execution_count": 55,
     "metadata": {},
     "output_type": "execute_result"
    }
   ],
   "source": [
    "W2R = dict(map(lambda x: (\n",
    "    x, p_and(\n",
    "        {\n",
    "            first_race_winner, \n",
    "            second_race_winner\n",
    "        }, P2R, x)),\n",
    "               teamPlayer.keys()))\n",
    "\n",
    "W2R"
   ]
  },
  {
   "cell_type": "markdown",
   "id": "cd4acf29",
   "metadata": {},
   "source": [
    "What is the probability for Red Bull Racing to win both races?"
   ]
  },
  {
   "cell_type": "markdown",
   "id": "4c98867a",
   "metadata": {},
   "source": [
    "# Solution\n",
    "\n",
    "**p_add** will return probability value of Redbull winning both the races "
   ]
  },
  {
   "cell_type": "code",
   "execution_count": 56,
   "id": "edf366e3",
   "metadata": {},
   "outputs": [
    {
     "data": {
      "text/plain": [
       "0.06681881355969181"
      ]
     },
     "execution_count": 56,
     "metadata": {},
     "output_type": "execute_result"
    }
   ],
   "source": [
    "p_and(\n",
    "    {\n",
    "        first_race_winner, \n",
    "        second_race_winner\n",
    "    }, T2R, 'Redbull')"
   ]
  },
  {
   "cell_type": "markdown",
   "id": "221bc4ce",
   "metadata": {},
   "source": [
    "What is the probability for Red Bull Racing to win all three races?"
   ]
  },
  {
   "cell_type": "markdown",
   "id": "da497c37",
   "metadata": {},
   "source": [
    "# Solution\n",
    "\n",
    "**p_add** will return probability value of Redbull winning all the three races "
   ]
  },
  {
   "cell_type": "code",
   "execution_count": 57,
   "id": "09fb6608",
   "metadata": {},
   "outputs": [
    {
     "data": {
      "text/plain": [
       "0.0172722191624019"
      ]
     },
     "execution_count": 57,
     "metadata": {},
     "output_type": "execute_result"
    }
   ],
   "source": [
    "p_and(\n",
    "    {\n",
    "        first_race_winner, \n",
    "        second_race_winner, \n",
    "        third_race_winner\n",
    "    }, T3R, 'Redbull')"
   ]
  },
  {
   "cell_type": "markdown",
   "id": "b5736575",
   "metadata": {},
   "source": [
    "What is the probability for Red Bull Racing to win at least one race?"
   ]
  },
  {
   "cell_type": "markdown",
   "id": "4d23efd1",
   "metadata": {},
   "source": [
    "# Solution\n",
    "\n",
    "**teamWithNoWin** stored the dictionary with possibility of all the teams winning none races\n",
    "\n",
    "**atleast1W3R** stored the dictionary with possibility of teams who has atleast one win in all the three race\n",
    "\n",
    "We are mapping on team keys list by taking each team not winning any race and subtracting by 1\n",
    "\n",
    "**logic**\n",
    "\n",
    "n = 3\n",
    "\n",
    "A = team winning atleast 1 race \n",
    "\n",
    "B = Other team winning the race\n",
    "\n",
    "**$$P(A) = 1 - P(B) ^ n$$**"
   ]
  },
  {
   "cell_type": "code",
   "execution_count": 58,
   "id": "06f71d89",
   "metadata": {},
   "outputs": [
    {
     "data": {
      "text/plain": [
       "{'Redbull': 0.5922958375675216,\n",
       " 'Merc': 0.6143031505046624,\n",
       " 'McL': 0.3860350673319488,\n",
       " 'Fer': 0.38154265874681315,\n",
       " 'AlpT': 0.1575349563723928,\n",
       " 'Alp': 0.3211326980409567,\n",
       " 'AM': 0.10592000564841664,\n",
       " 'Will': 0.04021659158342705,\n",
       " 'AlpR': 0.012356434843542874,\n",
       " 'Haas': 0.0}"
      ]
     },
     "execution_count": 58,
     "metadata": {},
     "output_type": "execute_result"
    }
   ],
   "source": [
    "teamWithNoWin = dict(map(lambda x: \n",
    "                         (x, \n",
    "                          p(removeData,team, x)\n",
    "                         ), team.keys()))\n",
    "\n",
    "atleast1W3R = dict(map(lambda x: \n",
    "                       (x, \n",
    "                        (1 - (teamWithNoWin[x] ** 3)\n",
    "                        )), team.keys()))\n",
    "atleast1W3R"
   ]
  },
  {
   "cell_type": "markdown",
   "id": "fe7a88e0",
   "metadata": {},
   "source": [
    "If Red Bull Racing wins the first race, what is the probability that Red Bull Racing wins the next one? How about Mercedes, McLaren, and Ferrari?"
   ]
  },
  {
   "cell_type": "markdown",
   "id": "d2e81934",
   "metadata": {},
   "source": [
    "# Solution \n",
    "\n",
    "**P2W** stored dictionary the probability of a team winning both runs\n",
    "\n",
    "**PT2TW** stored dictionary the probability of team wins the second race if first is race is won\n",
    "\n",
    "We are running mapping on findTeam list by taking each team winning both the races and dividing the value by winning one race\n",
    "\n",
    "**Logic**\n",
    "\n",
    "A = Team win the second race\n",
    "\n",
    "B = Team win first race\n",
    "\n",
    "$$ P(A|B) = \\frac{P(AnB)}{P(B)}$$"
   ]
  },
  {
   "cell_type": "code",
   "execution_count": 59,
   "id": "da9256c4",
   "metadata": {},
   "outputs": [
    {
     "data": {
      "text/plain": [
       "{'Redbull': 0.258493353028065,\n",
       " 'Merc': 0.272082717872969,\n",
       " 'McL': 0.1500738552437223,\n",
       " 'Fer': 0.1480059084194978}"
      ]
     },
     "execution_count": 59,
     "metadata": {},
     "output_type": "execute_result"
    }
   ],
   "source": [
    "findTeam = ['Redbull','Merc','McL','Fer']\n",
    "P2W = dict(map(lambda x: \n",
    "               (x, \n",
    "                (p_and(\n",
    "                    {\n",
    "                        first_race_winner, \n",
    "                        second_race_winner\n",
    "                    }, T2R, x)\n",
    "                )), findTeam))\n",
    "\n",
    "PT2TW = dict(map(lambda x: (x,  P2W[x] / team[x]), findTeam))\n",
    "PT2TW"
   ]
  },
  {
   "cell_type": "markdown",
   "id": "f4c1c032",
   "metadata": {},
   "source": [
    "If Red Bull Racing wins at least one of these two races, what is the probability Red Bull Racing wins both races? How about Mercedes, McLaren, and Ferrari?"
   ]
  },
  {
   "cell_type": "markdown",
   "id": "c7166a43",
   "metadata": {},
   "source": [
    "# Solution\n",
    "\n",
    "**atLeastOne** stored dictionary possibility of each team winning at least one race\n",
    "\n",
    "**BothRace** stored dictionary possibility of each team winning both the race\n",
    "\n",
    "We are running mapping on findTeam list by taking each team intersection of 2 race wins and at least one win and dividing the value by at least one win\n",
    "\n",
    "**Logic**\n",
    "\n",
    "A = Both races win by a team\n",
    "\n",
    "B = At least one race won by a team\n",
    "\n",
    "$$ P(A|B) = \\frac{P(AnB)}{P(B)}$$"
   ]
  },
  {
   "cell_type": "code",
   "execution_count": 60,
   "id": "6adec253",
   "metadata": {},
   "outputs": [
    {
     "data": {
      "text/plain": [
       "{'Redbull': 0.1484308736217132,\n",
       " 'Merc': 0.15746281415626603,\n",
       " 'McL': 0.08112424145640364,\n",
       " 'Fer': 0.07991705216142923}"
      ]
     },
     "execution_count": 60,
     "metadata": {},
     "output_type": "execute_result"
    }
   ],
   "source": [
    "atLeastOne = dict(map(lambda x: \n",
    "                      (x, \n",
    "                       1 - (teamWithNoWin[x] ** 2))\n",
    "                      , findTeam))\n",
    "\n",
    "BothRace = dict(map(lambda x : (x, P2W[x] / atLeastOne[x]), findTeam))\n",
    "BothRace"
   ]
  },
  {
   "cell_type": "markdown",
   "id": "330f0843",
   "metadata": {},
   "source": [
    "Red Bull Racing wins at least one of these two races on a rainy day. What is the probability Red Bull Racing wins both races, assuming races can be held on either rainy, sunny, cloudy, snowy or foggy days? "
   ]
  },
  {
   "cell_type": "markdown",
   "id": "fa280cd9",
   "metadata": {},
   "source": [
    "# Solution\n",
    "\n",
    "Define function **filteringData** return filter data where at least one key is **Redbull rain**\n",
    "\n",
    "Define function **filterRBW2Race** return data where Redbull won both races\n",
    "\n",
    "**P2TWW** stored joint probability of team and weather condition for two race\n",
    "\n",
    "The probability is found out by first filtering out the data set as per Redbull win at least one of the races on a rainy day then this data is pass and we further filter that data to find Redbull win both the race that returns probability value of Redbull winning both at least on one rainy date.\n",
    "\n",
    "**Logic**\n",
    "\n",
    "A = Both races win by Redbull team in either weather condition\n",
    "\n",
    "B = At least one race won by Redbull team in rain weather condition\n",
    "\n",
    "$$ P(A|B) = \\frac{P(AnB)}{P(B)}$$"
   ]
  },
  {
   "cell_type": "code",
   "execution_count": 61,
   "id": "aa17e04f",
   "metadata": {},
   "outputs": [],
   "source": [
    "def filteringData(outcome,x): \n",
    "    return outcome.count(x) > 0\n",
    "def filterRBW2Race(outcome,x): \n",
    "    return outcome.count(x) == 2"
   ]
  },
  {
   "cell_type": "code",
   "execution_count": 65,
   "id": "3627976a",
   "metadata": {},
   "outputs": [
    {
     "data": {
      "text/plain": [
       "0.23881728582259273"
      ]
     },
     "execution_count": 65,
     "metadata": {},
     "output_type": "execute_result"
    }
   ],
   "source": [
    "P2TWW = joint(joint(team,weather,' '), joint(team,weather,' '), ' ')\n",
    "p(filterRBW2Race, such_that(filteringData, P2TWW, 'Redbull rain'), 'Redbull')\n"
   ]
  }
 ],
 "metadata": {
  "kernelspec": {
   "display_name": "Python 3",
   "language": "python",
   "name": "python3"
  },
  "language_info": {
   "codemirror_mode": {
    "name": "ipython",
    "version": 3
   },
   "file_extension": ".py",
   "mimetype": "text/x-python",
   "name": "python",
   "nbconvert_exporter": "python",
   "pygments_lexer": "ipython3",
   "version": "3.8.8"
  }
 },
 "nbformat": 4,
 "nbformat_minor": 5
}
