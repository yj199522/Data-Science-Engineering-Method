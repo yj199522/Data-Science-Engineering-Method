{
 "cells": [
  {
   "cell_type": "markdown",
   "metadata": {},
   "source": [
    "**Group No** - 11\n",
    "\n",
    "**Name** - Yash Jain \n",
    "\n",
    "\n",
    "**Team Member Name** - Shreya Patil"
   ]
  },
  {
   "cell_type": "markdown",
   "metadata": {},
   "source": [
    "<div style=\"text-align: right\">INFO 6105 Data Science Eng Methods and Tools, Lecture 2 Day 1</div>\n",
    "<div style=\"text-align: right\">Dino Konstantopoulos, 20 September 2021</div>\n",
    "\n",
    "## A brief introduction to the language Python in 10 chapters, Part 2"
   ]
  },
  {
   "cell_type": "markdown",
   "metadata": {},
   "source": [
    "Golden ratio is a rectangle with one side = $a$ and the other side = $a+b$.\n",
    "\n",
    "Golden ratio is also:\n",
    "\n",
    "$$g = 1 + \\frac{1}{1 + \\frac{1}{1 + \\frac{1}{\\cdots}}}$$\n",
    "\n",
    "Same thing as:\n",
    "\n",
    "$$ g = 1 + \\frac{1}{g}$$\n",
    "\n",
    "Let me show you something beautiful:\n",
    "\n",
    "GR is defined by:\n",
    "\n",
    "$$\\frac{a}{b} = \\frac{a+b}{a}$$\n",
    "\n",
    "This can be rewritten as:\n",
    "\n",
    "$$\\frac{a}{b} = \\frac{a}{a} + \\frac{b}{a}$$\n",
    "\n",
    "$$\\frac{a}{b} = 1 + \\frac{b}{a}$$\n",
    "\n",
    "$$\\frac{a}{b} = 1 + \\frac{1}{\\frac{a}{b}}$$\n",
    "\n",
    "If i say $x = \\frac{a}{b}$ then\n",
    "\n",
    "$$x = 1 + \\frac{1}{x}$$\n",
    "\n",
    "$$x^2 = x + \\frac{x}{x}$$\n",
    "\n",
    "$$x^2 -x -1 = 0$$"
   ]
  },
  {
   "cell_type": "code",
   "execution_count": 6,
   "metadata": {},
   "outputs": [
    {
     "data": {
      "text/latex": [
       "$\\displaystyle 3 \\sqrt{2}$"
      ],
      "text/plain": [
       "3*sqrt(2)"
      ]
     },
     "execution_count": 6,
     "metadata": {},
     "output_type": "execute_result"
    }
   ],
   "source": [
    "from sympy import *\n",
    "sqrt(18)"
   ]
  },
  {
   "cell_type": "code",
   "execution_count": 7,
   "metadata": {},
   "outputs": [
    {
     "data": {
      "text/latex": [
       "$\\displaystyle \\frac{5}{3}$"
      ],
      "text/plain": [
       "5/3"
      ]
     },
     "execution_count": 7,
     "metadata": {},
     "output_type": "execute_result"
    }
   ],
   "source": [
    "Rational(25,15)"
   ]
  },
  {
   "cell_type": "code",
   "execution_count": 8,
   "metadata": {},
   "outputs": [],
   "source": [
    "x,y = symbols('x y')"
   ]
  },
  {
   "cell_type": "code",
   "execution_count": 9,
   "metadata": {},
   "outputs": [
    {
     "data": {
      "text/latex": [
       "$\\displaystyle 2 x + y + 2$"
      ],
      "text/plain": [
       "2*x + y + 2"
      ]
     },
     "execution_count": 9,
     "metadata": {},
     "output_type": "execute_result"
    }
   ],
   "source": [
    "expr = 2*x + y\n",
    "expr + 2"
   ]
  },
  {
   "cell_type": "code",
   "execution_count": 10,
   "metadata": {},
   "outputs": [
    {
     "data": {
      "text/latex": [
       "$\\displaystyle 2 x^{2} + x y$"
      ],
      "text/plain": [
       "2*x**2 + x*y"
      ]
     },
     "execution_count": 10,
     "metadata": {},
     "output_type": "execute_result"
    }
   ],
   "source": [
    "expansion = expand(x*expr)\n",
    "expansion"
   ]
  },
  {
   "cell_type": "code",
   "execution_count": 11,
   "metadata": {},
   "outputs": [
    {
     "data": {
      "text/latex": [
       "$\\displaystyle x \\left(2 x + y\\right)$"
      ],
      "text/plain": [
       "x*(2*x + y)"
      ]
     },
     "execution_count": 11,
     "metadata": {},
     "output_type": "execute_result"
    }
   ],
   "source": [
    "factor(expansion)"
   ]
  },
  {
   "cell_type": "code",
   "execution_count": 12,
   "metadata": {},
   "outputs": [
    {
     "data": {
      "text/latex": [
       "$\\displaystyle 3 x + 2$"
      ],
      "text/plain": [
       "3*x + 2"
      ]
     },
     "execution_count": 12,
     "metadata": {},
     "output_type": "execute_result"
    }
   ],
   "source": [
    "expr = (6*x**2 + 4*x)/(2*x)\n",
    "simplify(expr)"
   ]
  },
  {
   "cell_type": "code",
   "execution_count": 13,
   "metadata": {},
   "outputs": [
    {
     "data": {
      "text/latex": [
       "$\\displaystyle x^{2} - x - 1$"
      ],
      "text/plain": [
       "x**2 - x - 1"
      ]
     },
     "execution_count": 13,
     "metadata": {},
     "output_type": "execute_result"
    }
   ],
   "source": [
    "eq = x**2 - x -1\n",
    "eq"
   ]
  },
  {
   "cell_type": "code",
   "execution_count": 14,
   "metadata": {},
   "outputs": [
    {
     "data": {
      "text/plain": [
       "[1/2 - sqrt(5)/2, 1/2 + sqrt(5)/2]"
      ]
     },
     "execution_count": 14,
     "metadata": {},
     "output_type": "execute_result"
    }
   ],
   "source": [
    "solve(eq,x)"
   ]
  },
  {
   "cell_type": "markdown",
   "metadata": {},
   "source": [
    "Ok Prof, but what's the relationship between GR and Fibonacci?\n",
    "\n",
    "What we know for Fibonacci: \n",
    "\n",
    "$$F_n = F_{n-1} + F_{n-2}$$\n",
    "\n",
    "We want to study:\n",
    "\n",
    "$$lim_{n \\rightarrow \\infty} \\frac{F_n}{F_{n-1}}$$\n",
    "\n",
    "So we do:\n",
    "\n",
    "$$\\frac{F_n}{F_{n-1}} = 1 + \\frac{F_{n-2}}{F_{n-1}}$$\n",
    "\n",
    "***If*** the the fraction converges to a fixed number $x$, then:\n",
    "\n",
    "$$lim_{n \\rightarrow \\infty} \\frac{F_n}{F_{n-1}} = lim_{n \\rightarrow \\infty} \\frac{F_{n-1}}{F_{n-2}}$$\n",
    "\n",
    "Then, to the limit:\n",
    "\n",
    "$$\\frac{F_n}{F_{n-1}} = 1 + \\frac{F_{n-1}}{F_{n}}$$\n",
    "\n",
    "$$x = 1 + \\frac{1}{x}$$"
   ]
  },
  {
   "cell_type": "markdown",
   "metadata": {},
   "source": [
    "### List comprehensions\n",
    "\n",
    "List comprehensions are one of the most useful and compact Python expressions. They allow you to loop over container types without writing any ugly loop structures. We'll use this ***a ton*** in class, and the more loops you transform into list comprehensions, the faster your program runs."
   ]
  },
  {
   "cell_type": "code",
   "execution_count": 15,
   "metadata": {},
   "outputs": [],
   "source": [
    "str_list = ['things', 'stuff', 'Jones']"
   ]
  },
  {
   "cell_type": "code",
   "execution_count": 16,
   "metadata": {},
   "outputs": [
    {
     "data": {
      "text/plain": [
       "['things', 'stuff', 'Jones']"
      ]
     },
     "execution_count": 16,
     "metadata": {},
     "output_type": "execute_result"
    }
   ],
   "source": [
    "str_list"
   ]
  },
  {
   "cell_type": "markdown",
   "metadata": {},
   "source": [
    "Pretty:"
   ]
  },
  {
   "cell_type": "code",
   "execution_count": 17,
   "metadata": {},
   "outputs": [
    {
     "data": {
      "text/plain": [
       "['(things)', '(stuff)', '(Jones)']"
      ]
     },
     "execution_count": 17,
     "metadata": {},
     "output_type": "execute_result"
    }
   ],
   "source": [
    "['(' + x + ')' for x in str_list]"
   ]
  },
  {
   "cell_type": "code",
   "execution_count": 18,
   "metadata": {},
   "outputs": [
    {
     "data": {
      "text/plain": [
       "['element (0): things', 'element (1): stuff', 'element (2): Jones']"
      ]
     },
     "execution_count": 18,
     "metadata": {},
     "output_type": "execute_result"
    }
   ],
   "source": [
    "['element (' + str(i) + '): ' + x for i,x in enumerate(str_list)]"
   ]
  },
  {
   "cell_type": "markdown",
   "metadata": {},
   "source": [
    "Ugly:"
   ]
  },
  {
   "cell_type": "code",
   "execution_count": 19,
   "metadata": {},
   "outputs": [
    {
     "data": {
      "text/plain": [
       "['my 0:things', 'my 1:stuff', 'my 2:Jones']"
      ]
     },
     "execution_count": 19,
     "metadata": {},
     "output_type": "execute_result"
    }
   ],
   "source": [
    "mylist = []\n",
    "i = 0\n",
    "for x in str_list:\n",
    "    mylist.append('my ' + str(i) + ':' + x)\n",
    "    i += 1\n",
    "mylist"
   ]
  },
  {
   "cell_type": "code",
   "execution_count": 20,
   "metadata": {},
   "outputs": [
    {
     "data": {
      "text/plain": [
       "['THINGS', 'STUFF', 'JONES']"
      ]
     },
     "execution_count": 20,
     "metadata": {},
     "output_type": "execute_result"
    }
   ],
   "source": [
    "[x.upper() for x in str_list]"
   ]
  },
  {
   "cell_type": "code",
   "execution_count": 21,
   "metadata": {},
   "outputs": [
    {
     "data": {
      "text/plain": [
       "[(0, 5), (1, 6), (2, 7), (3, 8), (4, 9)]"
      ]
     },
     "execution_count": 21,
     "metadata": {},
     "output_type": "execute_result"
    }
   ],
   "source": [
    "a = [0,1,2,3,4]\n",
    "b = [5,6,7,8,9]\n",
    "list(zip(a,b))"
   ]
  },
  {
   "cell_type": "code",
   "execution_count": 22,
   "metadata": {},
   "outputs": [
    {
     "data": {
      "text/plain": [
       "[5, 7, 9, 11, 13]"
      ]
     },
     "execution_count": 22,
     "metadata": {},
     "output_type": "execute_result"
    }
   ],
   "source": [
    "[x+y for x,y in zip(a,b)] # using zip (above)"
   ]
  },
  {
   "cell_type": "code",
   "execution_count": 23,
   "metadata": {},
   "outputs": [
    {
     "data": {
      "text/plain": [
       "[10, 11, 12, 13, 14]"
      ]
     },
     "execution_count": 23,
     "metadata": {},
     "output_type": "execute_result"
    }
   ],
   "source": [
    "a = [10,11,12,13,14]\n",
    "a"
   ]
  },
  {
   "cell_type": "code",
   "execution_count": 24,
   "metadata": {},
   "outputs": [
    {
     "data": {
      "text/plain": [
       "[13, 14, 15, 16, 17]"
      ]
     },
     "execution_count": 24,
     "metadata": {},
     "output_type": "execute_result"
    }
   ],
   "source": [
    "[x + 3 if (x > 3) else x for x in a]"
   ]
  },
  {
   "cell_type": "markdown",
   "metadata": {},
   "source": [
    "And this is how you do the above in the traditional ***ugly*** way of classical computer languages: Using **loops**:"
   ]
  },
  {
   "cell_type": "code",
   "execution_count": 25,
   "metadata": {},
   "outputs": [
    {
     "name": "stdout",
     "output_type": "stream",
     "text": [
      "10\n",
      "11\n",
      "12\n",
      "13\n",
      "14\n"
     ]
    }
   ],
   "source": [
    "for x in a:\n",
    "    if (x < 3):\n",
    "        print (x + 6)\n",
    "    else:\n",
    "        print(x)"
   ]
  },
  {
   "cell_type": "markdown",
   "metadata": {},
   "source": [
    "oopsie.. still not there! Can you modify the code above to print ***exactly*** the same result as in cell ```Out[5]``` above?"
   ]
  },
  {
   "cell_type": "markdown",
   "metadata": {},
   "source": [
    "<div style=\"visibility: hidden\">\n",
    "answer = []\n",
    "for x in a:\n",
    "    if (x < 3):\n",
    "        answer.append(x + 6)\n",
    "    else:\n",
    "        answer.append(x)\n",
    "answer  \n",
    "</div>"
   ]
  },
  {
   "cell_type": "code",
   "execution_count": 26,
   "metadata": {},
   "outputs": [
    {
     "data": {
      "text/plain": [
       "[10, 11, 12, 13, 14]"
      ]
     },
     "execution_count": 26,
     "metadata": {},
     "output_type": "execute_result"
    }
   ],
   "source": [
    "answer = []\n",
    "for x in a:\n",
    "    if (x < 3):\n",
    "        answer.append(x + 6)\n",
    "    else:\n",
    "        answer.append(x)\n",
    "answer"
   ]
  },
  {
   "cell_type": "markdown",
   "metadata": {},
   "source": [
    "### Dictionaries "
   ]
  },
  {
   "cell_type": "markdown",
   "metadata": {},
   "source": [
    "One of the more flexible built-in data structures is the **dictionary**. A dictionary maps a collection of values to a set of associated keys. These mappings are mutable, and unlike lists or tuples, are unordered. Hence, rather than using the sequence index to return elements of the collection, the corresponding key must be used. \n",
    "\n",
    "Dictionaries are specified by a comma-separated sequence of keys and values, which are separated in turn by colons. The dictionary is enclosed by curly braces. Dictionaries are also the general JSON format of the Web. For example:"
   ]
  },
  {
   "cell_type": "code",
   "execution_count": 148,
   "metadata": {},
   "outputs": [
    {
     "data": {
      "text/plain": [
       "{'a': 16,\n",
       " 'b': (4, 5),\n",
       " 'c': 1,\n",
       " 'foo': '(noun) a term used as a universal substitute \\n           for something real, especially when discussing technological ideas and \\n           problems'}"
      ]
     },
     "execution_count": 148,
     "metadata": {},
     "output_type": "execute_result"
    }
   ],
   "source": [
    "my_dict = {'a':16, 'b':(4,5), 'c': 1, 'foo':'''(noun) a term used as a universal substitute \n",
    "           for something real, especially when discussing technological ideas and \n",
    "           problems'''}\n",
    "my_dict"
   ]
  },
  {
   "cell_type": "code",
   "execution_count": 28,
   "metadata": {},
   "outputs": [
    {
     "name": "stdout",
     "output_type": "stream",
     "text": [
      "no\n"
     ]
    }
   ],
   "source": [
    "if 'k' in my_dict:\n",
    "    print('yes')\n",
    "else:\n",
    "    print('no')"
   ]
  },
  {
   "cell_type": "code",
   "execution_count": 29,
   "metadata": {},
   "outputs": [
    {
     "name": "stdout",
     "output_type": "stream",
     "text": [
      "(4, 5)\n"
     ]
    }
   ],
   "source": [
    "if 'b' in my_dict:\n",
    "    print(my_dict['b'])"
   ]
  },
  {
   "cell_type": "code",
   "execution_count": 30,
   "metadata": {},
   "outputs": [
    {
     "data": {
      "text/plain": [
       "True"
      ]
     },
     "execution_count": 30,
     "metadata": {},
     "output_type": "execute_result"
    }
   ],
   "source": [
    "'a' in my_dict\t# Checks to see if ‘a’ is in my_dict"
   ]
  },
  {
   "cell_type": "code",
   "execution_count": 31,
   "metadata": {},
   "outputs": [
    {
     "data": {
      "text/plain": [
       "dict_items([('a', 16), ('b', (4, 5)), ('foo', '(noun) a term used as a universal substitute \\n           for something real, especially when discussing technological ideas and \\n           problems')])"
      ]
     },
     "execution_count": 31,
     "metadata": {},
     "output_type": "execute_result"
    }
   ],
   "source": [
    "my_dict.items()\t\t# Returns key/value pairs as list of tuples"
   ]
  },
  {
   "cell_type": "code",
   "execution_count": 32,
   "metadata": {},
   "outputs": [
    {
     "data": {
      "text/plain": [
       "dict_keys(['a', 'b', 'foo'])"
      ]
     },
     "execution_count": 32,
     "metadata": {},
     "output_type": "execute_result"
    }
   ],
   "source": [
    "my_dict.keys()\t\t# Returns list of keys"
   ]
  },
  {
   "cell_type": "code",
   "execution_count": 33,
   "metadata": {},
   "outputs": [
    {
     "data": {
      "text/plain": [
       "dict_values([16, (4, 5), '(noun) a term used as a universal substitute \\n           for something real, especially when discussing technological ideas and \\n           problems'])"
      ]
     },
     "execution_count": 33,
     "metadata": {},
     "output_type": "execute_result"
    }
   ],
   "source": [
    "my_dict.values()\t# Returns list of values"
   ]
  },
  {
   "cell_type": "code",
   "execution_count": 149,
   "metadata": {},
   "outputs": [
    {
     "data": {
      "text/plain": [
       "1"
      ]
     },
     "execution_count": 149,
     "metadata": {},
     "output_type": "execute_result"
    }
   ],
   "source": [
    "my_dict['c']"
   ]
  },
  {
   "cell_type": "markdown",
   "metadata": {},
   "source": [
    "If we would rather not get the error, we can use the `get` method, which returns `None` if the value is not present, or a value of your choice"
   ]
  },
  {
   "cell_type": "code",
   "execution_count": 35,
   "metadata": {},
   "outputs": [
    {
     "data": {
      "text/plain": [
       "16"
      ]
     },
     "execution_count": 35,
     "metadata": {},
     "output_type": "execute_result"
    }
   ],
   "source": [
    "my_dict.get('a')"
   ]
  },
  {
   "cell_type": "code",
   "execution_count": 36,
   "metadata": {},
   "outputs": [
    {
     "data": {
      "text/plain": [
       "-1"
      ]
     },
     "execution_count": 36,
     "metadata": {},
     "output_type": "execute_result"
    }
   ],
   "source": [
    "my_dict.get('k', -1)"
   ]
  },
  {
   "cell_type": "code",
   "execution_count": 37,
   "metadata": {},
   "outputs": [
    {
     "name": "stdout",
     "output_type": "stream",
     "text": [
      "a 16\n",
      "b (4, 5)\n",
      "foo (noun) a term used as a universal substitute \n",
      "           for something real, especially when discussing technological ideas and \n",
      "           problems\n"
     ]
    }
   ],
   "source": [
    "for (k,v) in my_dict.items():\n",
    "    print(k,v)"
   ]
  },
  {
   "cell_type": "code",
   "execution_count": 38,
   "metadata": {},
   "outputs": [
    {
     "name": "stdout",
     "output_type": "stream",
     "text": [
      "a 16\n",
      "b (4, 5)\n",
      "foo (noun) a term used as a universal substitute \n",
      "           for something real, especially when discussing technological ideas and \n",
      "           problems\n"
     ]
    }
   ],
   "source": [
    "for k in my_dict.keys():\n",
    "    print(k, my_dict[k])"
   ]
  },
  {
   "cell_type": "code",
   "execution_count": 39,
   "metadata": {},
   "outputs": [
    {
     "name": "stdout",
     "output_type": "stream",
     "text": [
      "16\n",
      "(4, 5)\n",
      "(noun) a term used as a universal substitute \n",
      "           for something real, especially when discussing technological ideas and \n",
      "           problems\n"
     ]
    }
   ],
   "source": [
    "for v in my_dict.values():\n",
    "    print(v)"
   ]
  },
  {
   "cell_type": "markdown",
   "metadata": {},
   "source": [
    "## 7. Logical operators "
   ]
  },
  {
   "cell_type": "markdown",
   "metadata": {},
   "source": [
    "Logical operators will **test** for some condition and return a boolean (True, False)"
   ]
  },
  {
   "cell_type": "markdown",
   "metadata": {},
   "source": [
    "#### Comparison operators\n",
    "\n",
    "+ `>` : Greater than\n",
    "+ `>=` : Greater than or equal to\n",
    "+ `<` : Less than\n",
    "+ `<=` : Less than or equal to\n",
    "+ `==` : Equal to\n",
    "+ `!=` : Not equal to"
   ]
  },
  {
   "cell_type": "markdown",
   "metadata": {},
   "source": [
    "**is / is not**\n",
    "\n",
    "Use **==** (**!=**) when comparing values and **is** (**is not**) when comparing **identities**."
   ]
  },
  {
   "cell_type": "code",
   "execution_count": 40,
   "metadata": {},
   "outputs": [],
   "source": [
    "x = 5."
   ]
  },
  {
   "cell_type": "code",
   "execution_count": 41,
   "metadata": {},
   "outputs": [
    {
     "data": {
      "text/plain": [
       "float"
      ]
     },
     "execution_count": 41,
     "metadata": {},
     "output_type": "execute_result"
    }
   ],
   "source": [
    "type(x)"
   ]
  },
  {
   "cell_type": "code",
   "execution_count": 42,
   "metadata": {},
   "outputs": [],
   "source": [
    "y = 5"
   ]
  },
  {
   "cell_type": "code",
   "execution_count": 43,
   "metadata": {},
   "outputs": [
    {
     "data": {
      "text/plain": [
       "int"
      ]
     },
     "execution_count": 43,
     "metadata": {},
     "output_type": "execute_result"
    }
   ],
   "source": [
    "type(y)"
   ]
  },
  {
   "cell_type": "code",
   "execution_count": 44,
   "metadata": {},
   "outputs": [
    {
     "data": {
      "text/plain": [
       "True"
      ]
     },
     "execution_count": 44,
     "metadata": {},
     "output_type": "execute_result"
    }
   ],
   "source": [
    "x == y"
   ]
  },
  {
   "cell_type": "markdown",
   "metadata": {},
   "source": [
    "x is a float, y is a int, they point to different addresses in memory!"
   ]
  },
  {
   "cell_type": "code",
   "execution_count": 45,
   "metadata": {},
   "outputs": [
    {
     "data": {
      "text/plain": [
       "False"
      ]
     },
     "execution_count": 45,
     "metadata": {},
     "output_type": "execute_result"
    }
   ],
   "source": [
    "x is y"
   ]
  },
  {
   "cell_type": "markdown",
   "metadata": {},
   "source": [
    "#### Some examples of common comparisons"
   ]
  },
  {
   "cell_type": "code",
   "execution_count": 46,
   "metadata": {},
   "outputs": [],
   "source": [
    "a = 5\n",
    "b = 6"
   ]
  },
  {
   "cell_type": "code",
   "execution_count": 47,
   "metadata": {},
   "outputs": [
    {
     "data": {
      "text/plain": [
       "False"
      ]
     },
     "execution_count": 47,
     "metadata": {},
     "output_type": "execute_result"
    }
   ],
   "source": [
    "a == b"
   ]
  },
  {
   "cell_type": "code",
   "execution_count": 48,
   "metadata": {},
   "outputs": [
    {
     "data": {
      "text/plain": [
       "True"
      ]
     },
     "execution_count": 48,
     "metadata": {},
     "output_type": "execute_result"
    }
   ],
   "source": [
    "a != b"
   ]
  },
  {
   "cell_type": "code",
   "execution_count": 49,
   "metadata": {},
   "outputs": [
    {
     "data": {
      "text/plain": [
       "True"
      ]
     },
     "execution_count": 49,
     "metadata": {},
     "output_type": "execute_result"
    }
   ],
   "source": [
    "(a > 4) and (b < 7)"
   ]
  },
  {
   "cell_type": "code",
   "execution_count": 50,
   "metadata": {},
   "outputs": [
    {
     "data": {
      "text/plain": [
       "False"
      ]
     },
     "execution_count": 50,
     "metadata": {},
     "output_type": "execute_result"
    }
   ],
   "source": [
    "(a > 4) and (b > 7)"
   ]
  },
  {
   "cell_type": "code",
   "execution_count": 51,
   "metadata": {},
   "outputs": [
    {
     "data": {
      "text/plain": [
       "True"
      ]
     },
     "execution_count": 51,
     "metadata": {},
     "output_type": "execute_result"
    }
   ],
   "source": [
    "(a > 4) or (b > 7)"
   ]
  },
  {
   "cell_type": "markdown",
   "metadata": {},
   "source": [
    "**All** and **Any** can be used for a *collection* of booleans"
   ]
  },
  {
   "cell_type": "code",
   "execution_count": 52,
   "metadata": {},
   "outputs": [],
   "source": [
    "x = [5,6,2,3,3]"
   ]
  },
  {
   "cell_type": "code",
   "execution_count": 53,
   "metadata": {},
   "outputs": [],
   "source": [
    "cond = [item > 2 for item in x]"
   ]
  },
  {
   "cell_type": "code",
   "execution_count": 54,
   "metadata": {},
   "outputs": [
    {
     "data": {
      "text/plain": [
       "[True, True, False, True, True]"
      ]
     },
     "execution_count": 54,
     "metadata": {},
     "output_type": "execute_result"
    }
   ],
   "source": [
    "cond"
   ]
  },
  {
   "cell_type": "code",
   "execution_count": 55,
   "metadata": {},
   "outputs": [
    {
     "data": {
      "text/plain": [
       "False"
      ]
     },
     "execution_count": 55,
     "metadata": {},
     "output_type": "execute_result"
    }
   ],
   "source": [
    "all(cond)"
   ]
  },
  {
   "cell_type": "code",
   "execution_count": 56,
   "metadata": {},
   "outputs": [
    {
     "data": {
      "text/plain": [
       "True"
      ]
     },
     "execution_count": 56,
     "metadata": {},
     "output_type": "execute_result"
    }
   ],
   "source": [
    "any(cond)"
   ]
  },
  {
   "cell_type": "markdown",
   "metadata": {},
   "source": [
    "## 8. Control flow structures"
   ]
  },
  {
   "cell_type": "markdown",
   "metadata": {},
   "source": [
    "### Indentation is meaningful\n",
    "\n",
    "In Python, there are no annoying curly braces, parenthesis, brackets etc., as in other languages, to delimitate flow control blocks. Instead, **indentation** plays this role."
   ]
  },
  {
   "cell_type": "code",
   "execution_count": 57,
   "metadata": {},
   "outputs": [
    {
     "data": {
      "text/plain": [
       "'bb'"
      ]
     },
     "execution_count": 57,
     "metadata": {},
     "output_type": "execute_result"
    }
   ],
   "source": [
    "'aa' if False else 'bb'"
   ]
  },
  {
   "cell_type": "code",
   "execution_count": 58,
   "metadata": {},
   "outputs": [
    {
     "name": "stdout",
     "output_type": "stream",
     "text": [
      "some_var is smaller than 10.\n"
     ]
    }
   ],
   "source": [
    "# Let's just make a variable\n",
    "some_var = 5\n",
    "\n",
    "# Here is an if statement. Indentation is significant in python!\n",
    "# prints \"some_var is smaller than 10\"\n",
    "if some_var > 10:\n",
    "    print(\"some_var is totally bigger than 10.\")\n",
    "elif some_var < 10:  # This elif clause is optional.\n",
    "    print(\"some_var is smaller than 10.\")\n",
    "else:  # This is optional too.\n",
    "    print(\"some_var is indeed 10.\")"
   ]
  },
  {
   "cell_type": "code",
   "execution_count": 59,
   "metadata": {},
   "outputs": [
    {
     "name": "stdout",
     "output_type": "stream",
     "text": [
      "0\n",
      "1\n",
      "4\n",
      "9\n",
      "16\n",
      "5\n",
      "6\n",
      "7\n",
      "8\n",
      "9\n"
     ]
    }
   ],
   "source": [
    "for x in range(10): \n",
    "  if x < 5:\n",
    "    print(x**2)\n",
    "  else:\n",
    "    print(x) "
   ]
  },
  {
   "cell_type": "markdown",
   "metadata": {},
   "source": [
    "**Note**: A Jupyter notebook will guess the right indentation :-). When editing a code cell in IPython, the indentation is handled intelligently, try typing in a new blank cell: \n",
    "\n",
    "    for x in xrange(10): \n",
    "        if x < 5:\n",
    "            print x**2\n",
    "        else:\n",
    "            print x \n",
    "            "
   ]
  },
  {
   "cell_type": "code",
   "execution_count": 60,
   "metadata": {},
   "outputs": [
    {
     "ename": "SyntaxError",
     "evalue": "unexpected EOF while parsing (<ipython-input-60-60734ba9811c>, line 3)",
     "output_type": "error",
     "traceback": [
      "\u001b[0;36m  File \u001b[0;32m\"<ipython-input-60-60734ba9811c>\"\u001b[0;36m, line \u001b[0;32m3\u001b[0m\n\u001b[0;31m    \u001b[0m\n\u001b[0m    ^\u001b[0m\n\u001b[0;31mSyntaxError\u001b[0m\u001b[0;31m:\u001b[0m unexpected EOF while parsing\n"
     ]
    }
   ],
   "source": [
    "for x in xrange(10):\n",
    "    if x < 5: \n",
    "        "
   ]
  },
  {
   "cell_type": "markdown",
   "metadata": {},
   "source": [
    "For other editors, the standard is to use 4 spaces (**NOT** tabs) for the indentation, set your favorite editor accordingly. For example in vi / vim: \n",
    "\n",
    "    set tabstop=4\n",
    "    set expandtab\n",
    "    set shiftwidth=4\n",
    "    set softtabstop=4"
   ]
  },
  {
   "cell_type": "markdown",
   "metadata": {},
   "source": [
    "### if ... elif ... else"
   ]
  },
  {
   "cell_type": "code",
   "execution_count": 61,
   "metadata": {},
   "outputs": [
    {
     "name": "stdout",
     "output_type": "stream",
     "text": [
      "20\n"
     ]
    }
   ],
   "source": [
    "x = 10\n",
    "\n",
    "if x < 10: # not met\n",
    "    x = x + 1\n",
    "elif x > 10: \n",
    "    x = x - 1 # not met either \n",
    "else: \n",
    "    x = x * 2\n",
    "    \n",
    "print(x)"
   ]
  },
  {
   "cell_type": "code",
   "execution_count": 62,
   "metadata": {},
   "outputs": [
    {
     "name": "stdout",
     "output_type": "stream",
     "text": [
      "30\n"
     ]
    }
   ],
   "source": [
    "x = 10\n",
    "\n",
    "if (x > 5 and x < 8): \n",
    "    x = x+1\n",
    "elif (x > 5 and x < 12): \n",
    "    x = x * 3\n",
    "else:\n",
    "    x = x-1\n",
    "    \n",
    "print(x)"
   ]
  },
  {
   "cell_type": "markdown",
   "metadata": {},
   "source": [
    "### The For loop "
   ]
  },
  {
   "cell_type": "markdown",
   "metadata": {},
   "source": [
    "The basic structure of FOR loops is\n",
    "\n",
    "    for item in iterable: \n",
    "        expression(s)\n",
    "        "
   ]
  },
  {
   "cell_type": "code",
   "execution_count": 63,
   "metadata": {},
   "outputs": [
    {
     "name": "stdout",
     "output_type": "stream",
     "text": [
      "1\n",
      "3\n",
      "6\n",
      "10\n",
      "15\n",
      "21\n",
      "28\n",
      "36\n",
      "45\n"
     ]
    }
   ],
   "source": [
    "count = 0\n",
    "# x = range(1,10) # range creates a list ... \n",
    "# xrange is a convenience function, it creates an iterator rather than a list\n",
    "# which has a smaller memory footprint\n",
    "x = range(1,10) \n",
    "for i in x:\n",
    "    count += i\n",
    "    print(count)"
   ]
  },
  {
   "cell_type": "markdown",
   "metadata": {},
   "source": [
    "### try ... except\n",
    "\n",
    "You can see it as a generalization of the ```if ... else``` construction, allowing more flexibility in handling failures in code"
   ]
  },
  {
   "cell_type": "code",
   "execution_count": 64,
   "metadata": {},
   "outputs": [
    {
     "name": "stdout",
     "output_type": "stream",
     "text": [
      "a is Not convertible to a float\n",
      "1.0\n",
      "54.1\n",
      "43.a is Not convertible to a float\n"
     ]
    }
   ],
   "source": [
    "text = ('a','1','54.1','43.a')\n",
    "for t in text:\n",
    "    try:\n",
    "        temp = float(t)\n",
    "        print(temp)\n",
    "    except ValueError:\n",
    "        print(str(t) + ' is Not convertible to a float')"
   ]
  },
  {
   "cell_type": "markdown",
   "metadata": {},
   "source": [
    "A list of built-in exceptions is available here \n",
    "\n",
    "[http://docs.python.org/3.1/library/exceptions.html](http://docs.python.org/3.1/library/exceptions.html)"
   ]
  },
  {
   "cell_type": "markdown",
   "metadata": {},
   "source": [
    "## 9. Recycling code in Python\n",
    "\n",
    "As with R, it's a good idea to write **functions** for bits of code that you use often. \n",
    "\n",
    "The syntax for defining a function in Python is: \n",
    "\n",
    "    def name_of_function(arguments): \n",
    "        \"Some code here that works on arguments and produces outputs\"\n",
    "        ...\n",
    "        return outputs\n",
    "\n",
    "Note that the execution block **must be indented** ... \n",
    "\n",
    "You can create a file (a **module**: extension **.py** required) which contains **several** functions, and can also define variables, and import some other functions from other modules."
   ]
  },
  {
   "cell_type": "code",
   "execution_count": 65,
   "metadata": {},
   "outputs": [
    {
     "name": "stdout",
     "output_type": "stream",
     "text": [
      "Overwriting some_module.py\n"
     ]
    }
   ],
   "source": [
    "%%file some_module.py \n",
    "\n",
    "PI = 3.14159 # defining a variable\n",
    "\n",
    "from numpy import arccos # importing a function from another module\n",
    "\n",
    "def f(x): \n",
    "    \"\"\"\n",
    "    This is a function which adds 5 to its argument\n",
    "     \n",
    "    \"\"\"\n",
    "    return x + 5\n",
    "\n",
    "def g(x, y): \n",
    "    \"\"\"\n",
    "    This is a function which sums its 2 arguments\n",
    "    \"\"\"\n",
    "    return x + y"
   ]
  },
  {
   "cell_type": "code",
   "execution_count": 66,
   "metadata": {},
   "outputs": [
    {
     "name": "stdout",
     "output_type": "stream",
     "text": [
      "/Users/yashjain/Desktop/Web Design Assisgnment/W2L1-python\r\n"
     ]
    }
   ],
   "source": [
    "!pwd"
   ]
  },
  {
   "cell_type": "markdown",
   "metadata": {},
   "source": [
    "This is how we import an external module. Can you guess where the files resides?"
   ]
  },
  {
   "cell_type": "code",
   "execution_count": 67,
   "metadata": {},
   "outputs": [],
   "source": [
    "import some_module"
   ]
  },
  {
   "cell_type": "markdown",
   "metadata": {},
   "source": [
    "The magic `%whos` object (all objects preceded by % are called magic) gies us all the valiables we declared in the notebook or imported from external files!"
   ]
  },
  {
   "cell_type": "code",
   "execution_count": 68,
   "metadata": {},
   "outputs": [
    {
     "name": "stdout",
     "output_type": "stream",
     "text": [
      "Variable                         Type                      Data/Info\n",
      "--------------------------------------------------------------------\n",
      "Abs                              FunctionClass             Abs\n",
      "AccumBounds                      ManagedProperties         <class 'sympy.calculus.util.AccumulationBounds'>\n",
      "Add                              ManagedProperties         <class 'sympy.core.add.Add'>\n",
      "Adjoint                          ManagedProperties         <class 'sympy.matrices.ex<...>essions.adjoint.Adjoint'>\n",
      "AlgebraicField                   type                      <class 'sympy.polys.domai<...>aicfield.AlgebraicField'>\n",
      "AlgebraicNumber                  ManagedProperties         <class 'sympy.core.numbers.AlgebraicNumber'>\n",
      "And                              FunctionClass             And\n",
      "AppliedPredicate                 ManagedProperties         <class 'sympy.assumptions<...>assume.AppliedPredicate'>\n",
      "Array                            ManagedProperties         <class 'sympy.tensor.arra<...>ImmutableDenseNDimArray'>\n",
      "AssumptionsContext               type                      <class 'sympy.assumptions<...>sume.AssumptionsContext'>\n",
      "Atom                             ManagedProperties         <class 'sympy.core.basic.Atom'>\n",
      "AtomicExpr                       ManagedProperties         <class 'sympy.core.expr.AtomicExpr'>\n",
      "BasePolynomialError              type                      <class 'sympy.polys.polye<...>ors.BasePolynomialError'>\n",
      "Basic                            ManagedProperties         <class 'sympy.core.basic.Basic'>\n",
      "BlockDiagMatrix                  ManagedProperties         <class 'sympy.matrices.ex<...>kmatrix.BlockDiagMatrix'>\n",
      "BlockMatrix                      ManagedProperties         <class 'sympy.matrices.ex<...>blockmatrix.BlockMatrix'>\n",
      "CC                               ComplexField              CC\n",
      "CRootOf                          ManagedProperties         <class 'sympy.polys.rootoftools.ComplexRootOf'>\n",
      "Catalan                          Catalan                   Catalan\n",
      "Chi                              FunctionClass             Chi\n",
      "Ci                               FunctionClass             Ci\n",
      "Circle                           ManagedProperties         <class 'sympy.geometry.ellipse.Circle'>\n",
      "CoercionFailed                   type                      <class 'sympy.polys.polyerrors.CoercionFailed'>\n",
      "Complement                       ManagedProperties         <class 'sympy.sets.sets.Complement'>\n",
      "ComplexField                     type                      <class 'sympy.polys.domai<...>mplexfield.ComplexField'>\n",
      "ComplexRegion                    ManagedProperties         <class 'sympy.sets.fancysets.ComplexRegion'>\n",
      "ComplexRootOf                    ManagedProperties         <class 'sympy.polys.rootoftools.ComplexRootOf'>\n",
      "Complexes                        Complexes                 S.Complexes\n",
      "ComputationFailed                type                      <class 'sympy.polys.polye<...>rrors.ComputationFailed'>\n",
      "ConditionSet                     ManagedProperties         <class 'sympy.sets.conditionset.ConditionSet'>\n",
      "Contains                         FunctionClass             Contains\n",
      "CosineTransform                  FunctionClass             CosineTransform\n",
      "Curve                            ManagedProperties         <class 'sympy.geometry.curve.Curve'>\n",
      "DeferredVector                   ManagedProperties         <class 'sympy.matrices.matrices.DeferredVector'>\n",
      "DenseNDimArray                   type                      <class 'sympy.tensor.arra<...>im_array.DenseNDimArray'>\n",
      "Derivative                       ManagedProperties         <class 'sympy.core.function.Derivative'>\n",
      "Determinant                      ManagedProperties         <class 'sympy.matrices.ex<...>determinant.Determinant'>\n",
      "DiagMatrix                       ManagedProperties         <class 'sympy.matrices.ex<...>ons.diagonal.DiagMatrix'>\n",
      "DiagonalMatrix                   ManagedProperties         <class 'sympy.matrices.ex<...>diagonal.DiagonalMatrix'>\n",
      "DiagonalOf                       ManagedProperties         <class 'sympy.matrices.ex<...>ons.diagonal.DiagonalOf'>\n",
      "Dict                             ManagedProperties         <class 'sympy.core.containers.Dict'>\n",
      "DiracDelta                       FunctionClass             DiracDelta\n",
      "DisjointUnion                    ManagedProperties         <class 'sympy.sets.sets.DisjointUnion'>\n",
      "Domain                           type                      <class 'sympy.polys.domains.domain.Domain'>\n",
      "DomainError                      type                      <class 'sympy.polys.polyerrors.DomainError'>\n",
      "DotProduct                       ManagedProperties         <class 'sympy.matrices.ex<...>s.dotproduct.DotProduct'>\n",
      "Dummy                            ManagedProperties         <class 'sympy.core.symbol.Dummy'>\n",
      "E                                Exp1                      E\n",
      "E1                               function                  <function E1 at 0x7fb5512ade50>\n",
      "EPath                            type                      <class 'sympy.simplify.epathtools.EPath'>\n",
      "EX                               ExpressionDomain          EX\n",
      "Ei                               FunctionClass             Ei\n",
      "Eijk                             function                  <function Eijk at 0x7fb5512f5160>\n",
      "Ellipse                          ManagedProperties         <class 'sympy.geometry.ellipse.Ellipse'>\n",
      "EmptySequence                    EmptySequence             EmptySequence\n",
      "EmptySet                         EmptySet                  EmptySet\n",
      "Eq                               ManagedProperties         <class 'sympy.core.relational.Equality'>\n",
      "Equality                         ManagedProperties         <class 'sympy.core.relational.Equality'>\n",
      "Equivalent                       FunctionClass             Equivalent\n",
      "EulerGamma                       EulerGamma                EulerGamma\n",
      "EvaluationFailed                 type                      <class 'sympy.polys.polyerrors.EvaluationFailed'>\n",
      "ExactQuotientFailed              type                      <class 'sympy.polys.polye<...>ors.ExactQuotientFailed'>\n",
      "Expr                             ManagedProperties         <class 'sympy.core.expr.Expr'>\n",
      "ExpressionDomain                 type                      <class 'sympy.polys.domai<...>domain.ExpressionDomain'>\n",
      "ExtraneousFactors                type                      <class 'sympy.polys.polye<...>rrors.ExtraneousFactors'>\n",
      "FF                               type                      <class 'sympy.polys.domai<...>tefield.GMPYFiniteField'>\n",
      "FF_gmpy                          type                      <class 'sympy.polys.domai<...>tefield.GMPYFiniteField'>\n",
      "FF_python                        type                      <class 'sympy.polys.domai<...>field.PythonFiniteField'>\n",
      "FU                               dict                      n=24\n",
      "FallingFactorial                 FunctionClass             FallingFactorial\n",
      "FiniteField                      type                      <class 'sympy.polys.domai<...>finitefield.FiniteField'>\n",
      "FiniteSet                        ManagedProperties         <class 'sympy.sets.sets.FiniteSet'>\n",
      "FlagError                        type                      <class 'sympy.polys.polyerrors.FlagError'>\n",
      "Float                            ManagedProperties         <class 'sympy.core.numbers.Float'>\n",
      "FourierTransform                 FunctionClass             FourierTransform\n",
      "FractionField                    type                      <class 'sympy.polys.domai<...>tionfield.FractionField'>\n",
      "Function                         FunctionClass             Function\n",
      "FunctionClass                    type                      <class 'sympy.core.function.FunctionClass'>\n",
      "FunctionMatrix                   ManagedProperties         <class 'sympy.matrices.ex<...>ncmatrix.FunctionMatrix'>\n",
      "GF                               type                      <class 'sympy.polys.domai<...>tefield.GMPYFiniteField'>\n",
      "GMPYFiniteField                  type                      <class 'sympy.polys.domai<...>tefield.GMPYFiniteField'>\n",
      "GMPYIntegerRing                  type                      <class 'sympy.polys.domai<...>gerring.GMPYIntegerRing'>\n",
      "GMPYRationalField                type                      <class 'sympy.polys.domai<...>field.GMPYRationalField'>\n",
      "Ge                               ManagedProperties         <class 'sympy.core.relational.GreaterThan'>\n",
      "GeneratorsError                  type                      <class 'sympy.polys.polyerrors.GeneratorsError'>\n",
      "GeneratorsNeeded                 type                      <class 'sympy.polys.polyerrors.GeneratorsNeeded'>\n",
      "GeometryError                    type                      <class 'sympy.geometry.exceptions.GeometryError'>\n",
      "GoldenRatio                      GoldenRatio               GoldenRatio\n",
      "GramSchmidt                      function                  <function GramSchmidt at 0x7fb55165f700>\n",
      "GreaterThan                      ManagedProperties         <class 'sympy.core.relational.GreaterThan'>\n",
      "GroebnerBasis                    ManagedProperties         <class 'sympy.polys.polytools.GroebnerBasis'>\n",
      "Gt                               ManagedProperties         <class 'sympy.core.relational.StrictGreaterThan'>\n",
      "HadamardPower                    ManagedProperties         <class 'sympy.matrices.ex<...>.hadamard.HadamardPower'>\n",
      "HadamardProduct                  ManagedProperties         <class 'sympy.matrices.ex<...>adamard.HadamardProduct'>\n",
      "HankelTransform                  FunctionClass             HankelTransform\n",
      "Heaviside                        FunctionClass             Heaviside\n",
      "HeuristicGCDFailed               type                      <class 'sympy.polys.polye<...>rors.HeuristicGCDFailed'>\n",
      "HomomorphismFailed               type                      <class 'sympy.polys.polye<...>rors.HomomorphismFailed'>\n",
      "I                                ImaginaryUnit             I\n",
      "ITE                              FunctionClass             ITE\n",
      "Id                               IdentityFunction          Lambda(_x, _x)\n",
      "Identity                         ManagedProperties         <class 'sympy.matrices.ex<...>ssions.special.Identity'>\n",
      "Idx                              ManagedProperties         <class 'sympy.tensor.indexed.Idx'>\n",
      "ImageSet                         ManagedProperties         <class 'sympy.sets.fancysets.ImageSet'>\n",
      "ImmutableDenseMatrix             ManagedProperties         <class 'sympy.matrices.im<...>le.ImmutableDenseMatrix'>\n",
      "ImmutableDenseNDimArray          ManagedProperties         <class 'sympy.tensor.arra<...>ImmutableDenseNDimArray'>\n",
      "ImmutableMatrix                  ManagedProperties         <class 'sympy.matrices.im<...>le.ImmutableDenseMatrix'>\n",
      "ImmutableSparseMatrix            ManagedProperties         <class 'sympy.matrices.im<...>e.ImmutableSparseMatrix'>\n",
      "ImmutableSparseNDimArray         ManagedProperties         <class 'sympy.tensor.arra<...>mmutableSparseNDimArray'>\n",
      "Implies                          FunctionClass             Implies\n",
      "Indexed                          ManagedProperties         <class 'sympy.tensor.indexed.Indexed'>\n",
      "IndexedBase                      ManagedProperties         <class 'sympy.tensor.indexed.IndexedBase'>\n",
      "Integer                          ManagedProperties         <class 'sympy.core.numbers.Integer'>\n",
      "IntegerRing                      type                      <class 'sympy.polys.domai<...>integerring.IntegerRing'>\n",
      "Integers                         Integers                  Integers\n",
      "Integral                         ManagedProperties         <class 'sympy.integrals.integrals.Integral'>\n",
      "Intersection                     ManagedProperties         <class 'sympy.sets.sets.Intersection'>\n",
      "Interval                         ManagedProperties         <class 'sympy.sets.sets.Interval'>\n",
      "Inverse                          ManagedProperties         <class 'sympy.matrices.ex<...>essions.inverse.Inverse'>\n",
      "InverseCosineTransform           FunctionClass             InverseCosineTransform\n",
      "InverseFourierTransform          FunctionClass             InverseFourierTransform\n",
      "InverseHankelTransform           FunctionClass             InverseHankelTransform\n",
      "InverseLaplaceTransform          FunctionClass             InverseLaplaceTransform\n",
      "InverseMellinTransform           FunctionClass             InverseMellinTransform\n",
      "InverseSineTransform             FunctionClass             InverseSineTransform\n",
      "IsomorphismFailed                type                      <class 'sympy.polys.polye<...>rrors.IsomorphismFailed'>\n",
      "KroneckerDelta                   FunctionClass             KroneckerDelta\n",
      "KroneckerProduct                 ManagedProperties         <class 'sympy.matrices.ex<...>necker.KroneckerProduct'>\n",
      "LC                               function                  <function LC at 0x7fb5511d3790>\n",
      "LM                               function                  <function LM at 0x7fb5511d3820>\n",
      "LT                               function                  <function LT at 0x7fb5511d38b0>\n",
      "Lambda                           ManagedProperties         <class 'sympy.core.function.Lambda'>\n",
      "LambertW                         FunctionClass             LambertW\n",
      "LaplaceTransform                 FunctionClass             LaplaceTransform\n",
      "Le                               ManagedProperties         <class 'sympy.core.relational.LessThan'>\n",
      "LessThan                         ManagedProperties         <class 'sympy.core.relational.LessThan'>\n",
      "LeviCivita                       FunctionClass             LeviCivita\n",
      "Li                               FunctionClass             Li\n",
      "Limit                            ManagedProperties         <class 'sympy.series.limits.Limit'>\n",
      "Line                             ManagedProperties         <class 'sympy.geometry.line.Line'>\n",
      "Line2D                           ManagedProperties         <class 'sympy.geometry.line.Line2D'>\n",
      "Line3D                           ManagedProperties         <class 'sympy.geometry.line.Line3D'>\n",
      "Lt                               ManagedProperties         <class 'sympy.core.relational.StrictLessThan'>\n",
      "MatAdd                           ManagedProperties         <class 'sympy.matrices.ex<...>pressions.matadd.MatAdd'>\n",
      "MatMul                           ManagedProperties         <class 'sympy.matrices.ex<...>pressions.matmul.MatMul'>\n",
      "MatPow                           ManagedProperties         <class 'sympy.matrices.ex<...>pressions.matpow.MatPow'>\n",
      "Matrix                           type                      <class 'sympy.matrices.dense.MutableDenseMatrix'>\n",
      "MatrixBase                       type                      <class 'sympy.matrices.matrices.MatrixBase'>\n",
      "MatrixExpr                       ManagedProperties         <class 'sympy.matrices.ex<...>ions.matexpr.MatrixExpr'>\n",
      "MatrixPermute                    ManagedProperties         <class 'sympy.matrices.ex<...>rmutation.MatrixPermute'>\n",
      "MatrixSlice                      ManagedProperties         <class 'sympy.matrices.ex<...>sions.slice.MatrixSlice'>\n",
      "MatrixSymbol                     ManagedProperties         <class 'sympy.matrices.ex<...>ns.matexpr.MatrixSymbol'>\n",
      "Max                              FunctionClass             Max\n",
      "MellinTransform                  FunctionClass             MellinTransform\n",
      "Min                              FunctionClass             Min\n",
      "Mod                              FunctionClass             Mod\n",
      "Monomial                         type                      <class 'sympy.polys.monomials.Monomial'>\n",
      "Mul                              ManagedProperties         <class 'sympy.core.mul.Mul'>\n",
      "MultivariatePolynomialError      type                      <class 'sympy.polys.polye<...>ivariatePolynomialError'>\n",
      "MutableDenseMatrix               type                      <class 'sympy.matrices.dense.MutableDenseMatrix'>\n",
      "MutableDenseNDimArray            type                      <class 'sympy.tensor.arra<...>y.MutableDenseNDimArray'>\n",
      "MutableMatrix                    type                      <class 'sympy.matrices.dense.MutableDenseMatrix'>\n",
      "MutableSparseMatrix              type                      <class 'sympy.matrices.sp<...>rse.MutableSparseMatrix'>\n",
      "MutableSparseNDimArray           type                      <class 'sympy.tensor.arra<...>.MutableSparseNDimArray'>\n",
      "N                                function                  <function N at 0x7fb5408824c0>\n",
      "NDimArray                        type                      <class 'sympy.tensor.array.ndim_array.NDimArray'>\n",
      "Nand                             FunctionClass             Nand\n",
      "Naturals                         Naturals                  Naturals\n",
      "Naturals0                        Naturals0                 Naturals0\n",
      "Ne                               ManagedProperties         <class 'sympy.core.relational.Unequality'>\n",
      "NonSquareMatrixError             type                      <class 'sympy.matrices.co<...>on.NonSquareMatrixError'>\n",
      "Nor                              FunctionClass             Nor\n",
      "Not                              FunctionClass             Not\n",
      "NotAlgebraic                     type                      <class 'sympy.polys.polyerrors.NotAlgebraic'>\n",
      "NotInvertible                    type                      <class 'sympy.polys.polyerrors.NotInvertible'>\n",
      "NotReversible                    type                      <class 'sympy.polys.polyerrors.NotReversible'>\n",
      "Number                           ManagedProperties         <class 'sympy.core.numbers.Number'>\n",
      "NumberSymbol                     ManagedProperties         <class 'sympy.core.numbers.NumberSymbol'>\n",
      "O                                ManagedProperties         <class 'sympy.series.order.Order'>\n",
      "OmegaPower                       ManagedProperties         <class 'sympy.sets.ordinals.OmegaPower'>\n",
      "OneMatrix                        ManagedProperties         <class 'sympy.matrices.ex<...>sions.special.OneMatrix'>\n",
      "OperationNotSupported            type                      <class 'sympy.polys.polye<...>s.OperationNotSupported'>\n",
      "OptionError                      type                      <class 'sympy.polys.polyerrors.OptionError'>\n",
      "Options                          type                      <class 'sympy.polys.polyoptions.Options'>\n",
      "Or                               FunctionClass             Or\n",
      "Order                            ManagedProperties         <class 'sympy.series.order.Order'>\n",
      "Ordinal                          ManagedProperties         <class 'sympy.sets.ordinals.Ordinal'>\n",
      "POSform                          function                  <function POSform at 0x7fb550d858b0>\n",
      "Parabola                         ManagedProperties         <class 'sympy.geometry.parabola.Parabola'>\n",
      "Permanent                        ManagedProperties         <class 'sympy.matrices.ex<...>s.determinant.Permanent'>\n",
      "PermutationMatrix                ManagedProperties         <class 'sympy.matrices.ex<...>ation.PermutationMatrix'>\n",
      "Piecewise                        FunctionClass             Piecewise\n",
      "Plane                            ManagedProperties         <class 'sympy.geometry.plane.Plane'>\n",
      "Point                            ManagedProperties         <class 'sympy.geometry.point.Point'>\n",
      "Point2D                          ManagedProperties         <class 'sympy.geometry.point.Point2D'>\n",
      "Point3D                          ManagedProperties         <class 'sympy.geometry.point.Point3D'>\n",
      "PoleError                        type                      <class 'sympy.core.function.PoleError'>\n",
      "PolificationFailed               type                      <class 'sympy.polys.polye<...>rors.PolificationFailed'>\n",
      "Poly                             ManagedProperties         <class 'sympy.polys.polytools.Poly'>\n",
      "Polygon                          ManagedProperties         <class 'sympy.geometry.polygon.Polygon'>\n",
      "PolynomialDivisionFailed         type                      <class 'sympy.polys.polye<...>olynomialDivisionFailed'>\n",
      "PolynomialError                  type                      <class 'sympy.polys.polyerrors.PolynomialError'>\n",
      "PolynomialRing                   type                      <class 'sympy.polys.domai<...>mialring.PolynomialRing'>\n",
      "Pow                              ManagedProperties         <class 'sympy.core.power.Pow'>\n",
      "PowerSet                         ManagedProperties         <class 'sympy.sets.powerset.PowerSet'>\n",
      "PrecisionExhausted               type                      <class 'sympy.core.evalf.PrecisionExhausted'>\n",
      "Predicate                        PredicateMeta             <class 'sympy.assumptions.assume.Predicate'>\n",
      "Product                          ManagedProperties         <class 'sympy.concrete.products.Product'>\n",
      "ProductSet                       ManagedProperties         <class 'sympy.sets.sets.ProductSet'>\n",
      "PurePoly                         ManagedProperties         <class 'sympy.polys.polytools.PurePoly'>\n",
      "PythonFiniteField                type                      <class 'sympy.polys.domai<...>field.PythonFiniteField'>\n",
      "PythonIntegerRing                type                      <class 'sympy.polys.domai<...>rring.PythonIntegerRing'>\n",
      "PythonRational                   type                      <class 'sympy.polys.domai<...>rational.PythonRational'>\n",
      "Q                                AssumptionKeys            <sympy.assumptions.ask.As<...>object at 0x7fb550ddae50>\n",
      "QQ                               GMPYRationalField         QQ\n",
      "QQ_I                             GaussianRationalField     QQ_I\n",
      "QQ_gmpy                          type                      <class 'sympy.polys.domai<...>field.GMPYRationalField'>\n",
      "QQ_python                        type                      <class 'sympy.polys.domai<...>eld.PythonRationalField'>\n",
      "Quaternion                       ManagedProperties         <class 'sympy.algebras.quaternion.Quaternion'>\n",
      "RR                               RealField                 RR\n",
      "Range                            ManagedProperties         <class 'sympy.sets.fancysets.Range'>\n",
      "Rational                         ManagedProperties         <class 'sympy.core.numbers.Rational'>\n",
      "RationalField                    type                      <class 'sympy.polys.domai<...>onalfield.RationalField'>\n",
      "Rationals                        Rationals                 Rationals\n",
      "Ray                              ManagedProperties         <class 'sympy.geometry.line.Ray'>\n",
      "Ray2D                            ManagedProperties         <class 'sympy.geometry.line.Ray2D'>\n",
      "Ray3D                            ManagedProperties         <class 'sympy.geometry.line.Ray3D'>\n",
      "RealField                        type                      <class 'sympy.polys.domains.realfield.RealField'>\n",
      "RealNumber                       ManagedProperties         <class 'sympy.core.numbers.Float'>\n",
      "Reals                            Reals                     Reals\n",
      "RefinementFailed                 type                      <class 'sympy.polys.polyerrors.RefinementFailed'>\n",
      "RegularPolygon                   ManagedProperties         <class 'sympy.geometry.polygon.RegularPolygon'>\n",
      "Rel                              ManagedProperties         <class 'sympy.core.relational.Relational'>\n",
      "RisingFactorial                  FunctionClass             RisingFactorial\n",
      "RootOf                           ManagedProperties         <class 'sympy.polys.rootoftools.RootOf'>\n",
      "RootSum                          ManagedProperties         <class 'sympy.polys.rootoftools.RootSum'>\n",
      "S                                SingletonRegistry         S\n",
      "SOPform                          function                  <function SOPform at 0x7fb550d85820>\n",
      "Segment                          ManagedProperties         <class 'sympy.geometry.line.Segment'>\n",
      "Segment2D                        ManagedProperties         <class 'sympy.geometry.line.Segment2D'>\n",
      "Segment3D                        ManagedProperties         <class 'sympy.geometry.line.Segment3D'>\n",
      "SeqAdd                           ManagedProperties         <class 'sympy.series.sequences.SeqAdd'>\n",
      "SeqFormula                       ManagedProperties         <class 'sympy.series.sequences.SeqFormula'>\n",
      "SeqMul                           ManagedProperties         <class 'sympy.series.sequences.SeqMul'>\n",
      "SeqPer                           ManagedProperties         <class 'sympy.series.sequences.SeqPer'>\n",
      "Set                              ManagedProperties         <class 'sympy.sets.sets.Set'>\n",
      "ShapeError                       type                      <class 'sympy.matrices.common.ShapeError'>\n",
      "Shi                              FunctionClass             Shi\n",
      "Si                               FunctionClass             Si\n",
      "Sieve                            type                      <class 'sympy.ntheory.generate.Sieve'>\n",
      "SineTransform                    FunctionClass             SineTransform\n",
      "SingularityFunction              FunctionClass             SingularityFunction\n",
      "SparseMatrix                     type                      <class 'sympy.matrices.sp<...>rse.MutableSparseMatrix'>\n",
      "SparseNDimArray                  type                      <class 'sympy.tensor.arra<...>m_array.SparseNDimArray'>\n",
      "StrPrinter                       type                      <class 'sympy.printing.str.StrPrinter'>\n",
      "StrictGreaterThan                ManagedProperties         <class 'sympy.core.relational.StrictGreaterThan'>\n",
      "StrictLessThan                   ManagedProperties         <class 'sympy.core.relational.StrictLessThan'>\n",
      "Subs                             ManagedProperties         <class 'sympy.core.function.Subs'>\n",
      "Sum                              ManagedProperties         <class 'sympy.concrete.summations.Sum'>\n",
      "Symbol                           ManagedProperties         <class 'sympy.core.symbol.Symbol'>\n",
      "SymmetricDifference              ManagedProperties         <class 'sympy.sets.sets.SymmetricDifference'>\n",
      "SympifyError                     type                      <class 'sympy.core.sympify.SympifyError'>\n",
      "TableForm                        type                      <class 'sympy.printing.tableform.TableForm'>\n",
      "Trace                            ManagedProperties         <class 'sympy.matrices.expressions.trace.Trace'>\n",
      "Transpose                        ManagedProperties         <class 'sympy.matrices.ex<...>ons.transpose.Transpose'>\n",
      "Triangle                         ManagedProperties         <class 'sympy.geometry.polygon.Triangle'>\n",
      "TribonacciConstant               TribonacciConstant        TribonacciConstant\n",
      "Tuple                            ManagedProperties         <class 'sympy.core.containers.Tuple'>\n",
      "Unequality                       ManagedProperties         <class 'sympy.core.relational.Unequality'>\n",
      "UnevaluatedExpr                  ManagedProperties         <class 'sympy.core.expr.UnevaluatedExpr'>\n",
      "UnificationFailed                type                      <class 'sympy.polys.polye<...>rrors.UnificationFailed'>\n",
      "Union                            ManagedProperties         <class 'sympy.sets.sets.Union'>\n",
      "UnivariatePolynomialError        type                      <class 'sympy.polys.polye<...>ivariatePolynomialError'>\n",
      "UniversalSet                     UniversalSet              UniversalSet\n",
      "Wild                             ManagedProperties         <class 'sympy.core.symbol.Wild'>\n",
      "WildFunction                     FunctionClass             WildFunction\n",
      "Xor                              FunctionClass             Xor\n",
      "Ynm                              FunctionClass             Ynm\n",
      "Ynm_c                            function                  <function Ynm_c at 0x7fb55134f790>\n",
      "ZZ                               GMPYIntegerRing           ZZ\n",
      "ZZ_I                             GaussianIntegerRing       ZZ_I\n",
      "ZZ_gmpy                          type                      <class 'sympy.polys.domai<...>gerring.GMPYIntegerRing'>\n",
      "ZZ_python                        type                      <class 'sympy.polys.domai<...>rring.PythonIntegerRing'>\n",
      "ZeroMatrix                       ManagedProperties         <class 'sympy.matrices.ex<...>ions.special.ZeroMatrix'>\n",
      "Znm                              FunctionClass             Znm\n",
      "a                                int                       5\n",
      "abundance                        function                  <function abundance at 0x7fb55112fb80>\n",
      "acos                             FunctionClass             acos\n",
      "acosh                            FunctionClass             acosh\n",
      "acot                             FunctionClass             acot\n",
      "acoth                            FunctionClass             acoth\n",
      "acsc                             FunctionClass             acsc\n",
      "acsch                            FunctionClass             acsch\n",
      "adjoint                          FunctionClass             adjoint\n",
      "airyai                           FunctionClass             airyai\n",
      "airyaiprime                      FunctionClass             airyaiprime\n",
      "airybi                           FunctionClass             airybi\n",
      "airybiprime                      FunctionClass             airybiprime\n",
      "algebras                         module                    <module 'sympy.algebras' <...>py/algebras/__init__.py'>\n",
      "answer                           list                      n=5\n",
      "apart                            function                  <function apart at 0x7fb551593ca0>\n",
      "apart_list                       function                  <function apart_list at 0x7fb5516f9670>\n",
      "appellf1                         FunctionClass             appellf1\n",
      "apply_finite_diff                function                  <function apply_finite_diff at 0x7fb551a73670>\n",
      "approximants                     function                  <function approximants at 0x7fb5514ec4c0>\n",
      "are_similar                      function                  <function are_similar at 0x7fb551ab74c0>\n",
      "arg                              FunctionClass             arg\n",
      "arity                            function                  <function arity at 0x7fb530655700>\n",
      "as_finite_diff                   function                  <function _as_finite_diff at 0x7fb551a738b0>\n",
      "asec                             FunctionClass             asec\n",
      "asech                            FunctionClass             asech\n",
      "asin                             FunctionClass             asin\n",
      "asinh                            FunctionClass             asinh\n",
      "ask                              function                  <function ask at 0x7fb550de0a60>\n",
      "assemble_partfrac_list           function                  <function assemble_partfr<...>c_list at 0x7fb5516f9790>\n",
      "assoc_laguerre                   FunctionClass             assoc_laguerre\n",
      "assoc_legendre                   FunctionClass             assoc_legendre\n",
      "assuming                         function                  <function assuming at 0x7fb550dba430>\n",
      "assumptions                      module                    <module 'sympy.assumption<...>assumptions/__init__.py'>\n",
      "atan                             FunctionClass             atan\n",
      "atan2                            FunctionClass             atan2\n",
      "atanh                            FunctionClass             atanh\n",
      "b                                int                       6\n",
      "banded                           function                  <function banded at 0x7fb55166d040>\n",
      "bell                             FunctionClass             bell\n",
      "bernoulli                        FunctionClass             bernoulli\n",
      "besseli                          FunctionClass             besseli\n",
      "besselj                          FunctionClass             besselj\n",
      "besselk                          FunctionClass             besselk\n",
      "besselsimp                       function                  <function besselsimp at 0x7fb5514a2040>\n",
      "bessely                          FunctionClass             bessely\n",
      "beta                             FunctionClass             beta\n",
      "betainc                          FunctionClass             betainc\n",
      "betainc_regularized              FunctionClass             betainc_regularized\n",
      "binomial                         FunctionClass             binomial\n",
      "binomial_coefficients            function                  <function binomial_coeffi<...>cients at 0x7fb551143d30>\n",
      "binomial_coefficients_list       function                  <function binomial_coeffi<...>s_list at 0x7fb551143dc0>\n",
      "block_collapse                   function                  <function block_collapse at 0x7fb5516c3670>\n",
      "blockcut                         function                  <function blockcut at 0x7fb5516dc310>\n",
      "bool_map                         function                  <function bool_map at 0x7fb550d85dc0>\n",
      "bottom_up                        function                  <function bottom_up at 0x7fb5514a1ee0>\n",
      "bspline_basis                    _lru_cache_wrapper        <functools._lru_cache_wra<...>object at 0x7fb5513165e0>\n",
      "bspline_basis_set                function                  <function bspline_basis_set at 0x7fb5513164c0>\n",
      "cacheit                          function                  <function __cacheit.<loca<...>rapper at 0x7fb54071f040>\n",
      "calculus                         module                    <module 'sympy.calculus' <...>py/calculus/__init__.py'>\n",
      "cancel                           function                  <function cancel at 0x7fb5511d55e0>\n",
      "capture                          function                  <function capture at 0x7fb5407c8670>\n",
      "carmichael                       FunctionClass             carmichael\n",
      "cartes                           type                      <class 'itertools.product'>\n",
      "casoratian                       function                  <function casoratian at 0x7fb55165f4c0>\n",
      "catalan                          FunctionClass             catalan\n",
      "cbrt                             function                  <function cbrt at 0x7fb5512188b0>\n",
      "ccode                            function                  <function ccode at 0x7fb550fbaa60>\n",
      "ceiling                          FunctionClass             ceiling\n",
      "centroid                         function                  <function centroid at 0x7fb551ab7550>\n",
      "chebyshevt                       FunctionClass             chebyshevt\n",
      "chebyshevt_poly                  function                  <function chebyshevt_poly at 0x7fb5513313a0>\n",
      "chebyshevt_root                  FunctionClass             chebyshevt_root\n",
      "chebyshevu                       FunctionClass             chebyshevu\n",
      "chebyshevu_poly                  function                  <function chebyshevu_poly at 0x7fb5513314c0>\n",
      "chebyshevu_root                  FunctionClass             chebyshevu_root\n",
      "check_assumptions                function                  <function check_assumptions at 0x7fb54074b310>\n",
      "checkodesol                      function                  <function checkodesol at 0x7fb551a481f0>\n",
      "checkpdesol                      function                  <function checkpdesol at 0x7fb551a3faf0>\n",
      "checksol                         function                  <function checksol at 0x7fb55172dca0>\n",
      "classify_ode                     function                  <function classify_ode at 0x7fb551a48550>\n",
      "classify_pde                     function                  <function classify_pde at 0x7fb551a3fa60>\n",
      "closest_points                   function                  <function closest_points at 0x7fb551ab75e0>\n",
      "cofactors                        function                  <function cofactors at 0x7fb5511d4160>\n",
      "collect                          function                  <function collect at 0x7fb5514650d0>\n",
      "collect_const                    function                  <function collect_const at 0x7fb551465d30>\n",
      "combsimp                         function                  <function combsimp at 0x7fb55141f8b0>\n",
      "comp                             function                  <function comp at 0x7fb5408d3430>\n",
      "compose                          function                  <function compose at 0x7fb5511d4700>\n",
      "composite                        function                  <function composite at 0x7fb54094d0d0>\n",
      "compositepi                      function                  <function compositepi at 0x7fb54094d160>\n",
      "concrete                         module                    <module 'sympy.concrete' <...>py/concrete/__init__.py'>\n",
      "cond                             list                      n=5\n",
      "conjugate                        FunctionClass             conjugate\n",
      "construct_domain                 function                  <function construct_domain at 0x7fb5511b95e0>\n",
      "content                          function                  <function content at 0x7fb5511d45e0>\n",
      "continued_fraction               function                  <function continued_fraction at 0x7fb551145160>\n",
      "continued_fraction_convergents   function                  <function continued_fract<...>rgents at 0x7fb5511453a0>\n",
      "continued_fraction_iterator      function                  <function continued_fract<...>erator at 0x7fb551145310>\n",
      "continued_fraction_periodic      function                  <function continued_fract<...>riodic at 0x7fb5511451f0>\n",
      "continued_fraction_reduce        function                  <function continued_fract<...>reduce at 0x7fb551145280>\n",
      "convex_hull                      function                  <function convex_hull at 0x7fb551ab7670>\n",
      "convolution                      function                  <function convolution at 0x7fb55156e3a0>\n",
      "cos                              FunctionClass             cos\n",
      "cosh                             FunctionClass             cosh\n",
      "cosine_transform                 function                  <function cosine_transform at 0x7fb551728790>\n",
      "cot                              FunctionClass             cot\n",
      "coth                             FunctionClass             coth\n",
      "count                            int                       45\n",
      "count_ops                        function                  <function count_ops at 0x7fb530664af0>\n",
      "count_roots                      function                  <function count_roots at 0x7fb5511d5310>\n",
      "covering_product                 function                  <function covering_product at 0x7fb55156e670>\n",
      "csc                              FunctionClass             csc\n",
      "csch                             FunctionClass             csch\n",
      "cse                              function                  <function cse at 0x7fb551488550>\n",
      "cxxcode                          function                  <function cxxcode at 0x7fb550fd3310>\n",
      "cycle_length                     function                  <function cycle_length at 0x7fb54094d040>\n",
      "cyclotomic_poly                  function                  <function cyclotomic_poly at 0x7fb5511d6670>\n",
      "decompogen                       function                  <function decompogen at 0x7fb551788700>\n",
      "decompose                        function                  <function decompose at 0x7fb5511d4790>\n",
      "default_sort_key                 function                  <function default_sort_key at 0x7fb5407058b0>\n",
      "deg                              function                  <function deg at 0x7fb551af89d0>\n",
      "degree                           function                  <function degree at 0x7fb5511d35e0>\n",
      "degree_list                      function                  <function degree_list at 0x7fb5511d3700>\n",
      "denom                            function                  <function denom at 0x7fb551472040>\n",
      "derive_by_array                  function                  <function derive_by_array at 0x7fb5515338b0>\n",
      "det                              function                  <function det at 0x7fb5516c3f70>\n",
      "det_quick                        function                  <function det_quick at 0x7fb551732310>\n",
      "diag                             function                  <function diag at 0x7fb55165f670>\n",
      "diagonalize_vector               function                  <function diagonalize_vector at 0x7fb5516e8280>\n",
      "dict_merge                       function                  <function dict_merge at 0x7fb5407c8820>\n",
      "diff                             function                  <function diff at 0x7fb5306613a0>\n",
      "difference_delta                 function                  <function difference_delta at 0x7fb551574820>\n",
      "differentiate_finite             function                  <function differentiate_finite at 0x7fb551a73820>\n",
      "digamma                          FunctionClass             digamma\n",
      "diophantine                      function                  <function diophantine at 0x7fb551783700>\n",
      "dirichlet_eta                    FunctionClass             dirichlet_eta\n",
      "discrete                         module                    <module 'sympy.discrete' <...>py/discrete/__init__.py'>\n",
      "discrete_log                     function                  <function discrete_log at 0x7fb551143670>\n",
      "discriminant                     function                  <function discriminant at 0x7fb5511d40d0>\n",
      "div                              function                  <function div at 0x7fb5511d3c10>\n",
      "divisor_count                    function                  <function divisor_count at 0x7fb55112e9d0>\n",
      "divisor_sigma                    FunctionClass             divisor_sigma\n",
      "divisors                         function                  <function divisors at 0x7fb55112e940>\n",
      "doctest                          function                  <function doctest at 0x7fb54087b3a0>\n",
      "dotprint                         function                  <function dotprint at 0x7fb5510a60d0>\n",
      "dsolve                           function                  <function dsolve at 0x7fb551a483a0>\n",
      "egyptian_fraction                function                  <function egyptian_fraction at 0x7fb5511454c0>\n",
      "elliptic_e                       FunctionClass             elliptic_e\n",
      "elliptic_f                       FunctionClass             elliptic_f\n",
      "elliptic_k                       FunctionClass             elliptic_k\n",
      "elliptic_pi                      FunctionClass             elliptic_pi\n",
      "epath                            function                  <function epath at 0x7fb5514b1f70>\n",
      "eq                               Add                       x**2 - x - 1\n",
      "erf                              FunctionClass             erf\n",
      "erf2                             FunctionClass             erf2\n",
      "erf2inv                          FunctionClass             erf2inv\n",
      "erfc                             FunctionClass             erfc\n",
      "erfcinv                          FunctionClass             erfcinv\n",
      "erfi                             FunctionClass             erfi\n",
      "erfinv                           FunctionClass             erfinv\n",
      "euler                            FunctionClass             euler\n",
      "euler_equations                  function                  <function euler_equations at 0x7fb5409e6430>\n",
      "evalf                            module                    <module 'sympy.core.evalf<...>ges/sympy/core/evalf.py'>\n",
      "evaluate                         function                  <function evaluate at 0x7fb54071f1f0>\n",
      "exp                              ExpMeta                   exp\n",
      "exp_polar                        FunctionClass             exp_polar\n",
      "expand                           function                  <function expand at 0x7fb530664550>\n",
      "expand_complex                   function                  <function expand_complex at 0x7fb530664940>\n",
      "expand_func                      function                  <function expand_func at 0x7fb530664820>\n",
      "expand_log                       function                  <function expand_log at 0x7fb530664790>\n",
      "expand_mul                       function                  <function expand_mul at 0x7fb530664670>\n",
      "expand_multinomial               function                  <function expand_multinomial at 0x7fb530664700>\n",
      "expand_power_base                function                  <function expand_power_base at 0x7fb5306649d0>\n",
      "expand_power_exp                 function                  <function expand_power_exp at 0x7fb530664a60>\n",
      "expand_trig                      function                  <function expand_trig at 0x7fb5306648b0>\n",
      "expansion                        Add                       2*x**2 + x*y\n",
      "expint                           FunctionClass             expint\n",
      "expr                             Mul                       (6*x**2 + 4*x)/(2*x)\n",
      "exptrigsimp                      function                  <function exptrigsimp at 0x7fb55149caf0>\n",
      "exquo                            function                  <function exquo at 0x7fb5511d3dc0>\n",
      "external                         module                    <module 'sympy.external' <...>py/external/__init__.py'>\n",
      "eye                              function                  <function eye at 0x7fb55165f5e0>\n",
      "factor                           function                  <function factor at 0x7fb5511d5160>\n",
      "factor_list                      function                  <function factor_list at 0x7fb5511d50d0>\n",
      "factor_nc                        function                  <function factor_nc at 0x7fb550d9d4c0>\n",
      "factor_terms                     function                  <function factor_terms at 0x7fb550d9d3a0>\n",
      "factorial                        FunctionClass             factorial\n",
      "factorial2                       FunctionClass             factorial2\n",
      "factorint                        function                  <function factorint at 0x7fb55112e700>\n",
      "factorrat                        function                  <function factorrat at 0x7fb55112e790>\n",
      "failing_assumptions              function                  <function failing_assumptions at 0x7fb54074b280>\n",
      "false                            BooleanFalse              False\n",
      "farthest_points                  function                  <function farthest_points at 0x7fb551ab7700>\n",
      "fcode                            function                  <function fcode at 0x7fb550fd31f0>\n",
      "ff                               FunctionClass             FallingFactorial\n",
      "fft                              function                  <function fft at 0x7fb55155cd30>\n",
      "fibonacci                        FunctionClass             fibonacci\n",
      "field                            function                  <function field at 0x7fb5516f99d0>\n",
      "field_isomorphism                function                  <function field_isomorphism at 0x7fb5515938b0>\n",
      "filldedent                       function                  <function filldedent at 0x7fb5407cfdc0>\n",
      "finite_diff_weights              function                  <function finite_diff_weights at 0x7fb551a735e0>\n",
      "flatten                          function                  <function flatten at 0x7fb5407cde50>\n",
      "floor                            FunctionClass             floor\n",
      "fourier_series                   function                  <function fourier_series at 0x7fb551552940>\n",
      "fourier_transform                function                  <function fourier_transform at 0x7fb551724670>\n",
      "fps                              function                  <function fps at 0x7fb5515723a0>\n",
      "frac                             FunctionClass             frac\n",
      "fraction                         function                  <function fraction at 0x7fb551465ee0>\n",
      "fresnelc                         FunctionClass             fresnelc\n",
      "fresnels                         FunctionClass             fresnels\n",
      "fu                               function                  <function fu at 0x7fb5514b1700>\n",
      "functions                        module                    <module 'sympy.functions'<...>y/functions/__init__.py'>\n",
      "fwht                             function                  <function fwht at 0x7fb55156e0d0>\n",
      "gamma                            FunctionClass             gamma\n",
      "gammasimp                        function                  <function gammasimp at 0x7fb55141f790>\n",
      "gcd                              function                  <function gcd at 0x7fb5511d4280>\n",
      "gcd_list                         function                  <function gcd_list at 0x7fb5511d41f0>\n",
      "gcd_terms                        function                  <function gcd_terms at 0x7fb550d9d280>\n",
      "gcdex                            function                  <function gcdex at 0x7fb5511d3e50>\n",
      "gegenbauer                       FunctionClass             gegenbauer\n",
      "genocchi                         FunctionClass             genocchi\n",
      "geometry                         module                    <module 'sympy.geometry' <...>py/geometry/__init__.py'>\n",
      "get_contraction_structure        function                  <function get_contraction<...>ucture at 0x7fb55150f8b0>\n",
      "get_indices                      function                  <function get_indices at 0x7fb55150f820>\n",
      "gff                              function                  <function gff at 0x7fb5511d4940>\n",
      "gff_list                         function                  <function gff_list at 0x7fb5511d48b0>\n",
      "glsl_code                        function                  <function glsl_code at 0x7fb550fd94c0>\n",
      "grevlex                          ReversedGradedLexOrder    grevlex\n",
      "grlex                            GradedLexOrder            grlex\n",
      "groebner                         function                  <function groebner at 0x7fb5511d5700>\n",
      "ground_roots                     function                  <function ground_roots at 0x7fb5511d54c0>\n",
      "group                            function                  <function group at 0x7fb5407c8040>\n",
      "gruntz                           function                  <function gruntz at 0x7fb5514ec040>\n",
      "hadamard_product                 function                  <function hadamard_product at 0x7fb5516e15e0>\n",
      "half_gcdex                       function                  <function half_gcdex at 0x7fb5511d3940>\n",
      "hankel1                          FunctionClass             hankel1\n",
      "hankel2                          FunctionClass             hankel2\n",
      "hankel_transform                 function                  <function hankel_transform at 0x7fb551728c10>\n",
      "harmonic                         FunctionClass             harmonic\n",
      "has_dups                         function                  <function has_dups at 0x7fb5407cf310>\n",
      "has_variety                      function                  <function has_variety at 0x7fb5407cf3a0>\n",
      "hermite                          FunctionClass             hermite\n",
      "hermite_poly                     function                  <function hermite_poly at 0x7fb5513315e0>\n",
      "hessian                          function                  <function hessian at 0x7fb55165f790>\n",
      "hn1                              FunctionClass             hn1\n",
      "hn2                              FunctionClass             hn2\n",
      "homogeneous_order                function                  <function homogeneous_order at 0x7fb551a4c4c0>\n",
      "horner                           function                  <function horner at 0x7fb5513c4b80>\n",
      "hyper                            FunctionClass             hyper\n",
      "hyperexpand                      function                  <function hyperexpand at 0x7fb55157e790>\n",
      "hypersimilar                     function                  <function hypersimilar at 0x7fb5514a1790>\n",
      "hypersimp                        function                  <function hypersimp at 0x7fb5514a1700>\n",
      "i                                int                       9\n",
      "idiff                            function                  <function idiff at 0x7fb551ab7790>\n",
      "ifft                             function                  <function ifft at 0x7fb55155cdc0>\n",
      "ifwht                            function                  <function ifwht at 0x7fb55156e160>\n",
      "igcd                             _lru_cache_wrapper        <functools._lru_cache_wra<...>object at 0x7fb5409063a0>\n",
      "igrevlex                         InverseOrder              igrevlex\n",
      "igrlex                           InverseOrder              igrlex\n",
      "ilcm                             function                  <function ilcm at 0x7fb540906430>\n",
      "ilex                             InverseOrder              ilex\n",
      "im                               FunctionClass             im\n",
      "imageset                         function                  <function imageset at 0x7fb551027430>\n",
      "init_printing                    function                  <function init_printing at 0x7fb551b51700>\n",
      "init_session                     function                  <function init_session at 0x7fb551b51e50>\n",
      "integer_log                      function                  <function integer_log at 0x7fb550d8d3a0>\n",
      "integer_nthroot                  function                  <function integer_nthroot at 0x7fb530664c10>\n",
      "integrate                        function                  <function integrate at 0x7fb540a0f310>\n",
      "interactive                      module                    <module 'sympy.interactiv<...>interactive/__init__.py'>\n",
      "interactive_traversal            function                  <function interactive_tra<...>versal at 0x7fb5407c8310>\n",
      "interpolate                      function                  <function interpolate at 0x7fb5513c4c10>\n",
      "interpolating_poly               function                  <function interpolating_poly at 0x7fb55135c4c0>\n",
      "interpolating_spline             function                  <function interpolating_spline at 0x7fb551316670>\n",
      "intersecting_product             function                  <function intersecting_product at 0x7fb55156e700>\n",
      "intersection                     function                  <function intersection at 0x7fb551ab7820>\n",
      "intervals                        function                  <function intervals at 0x7fb5511d51f0>\n",
      "intt                             function                  <function intt at 0x7fb55155cf70>\n",
      "inv_quick                        function                  <function inv_quick at 0x7fb5517323a0>\n",
      "inverse_cosine_transform         function                  <function inverse_cosine_<...>nsform at 0x7fb5517289d0>\n",
      "inverse_fourier_transform        function                  <function inverse_fourier<...>nsform at 0x7fb551724ca0>\n",
      "inverse_hankel_transform         function                  <function inverse_hankel_<...>nsform at 0x7fb55172d160>\n",
      "inverse_laplace_transform        function                  <function inverse_laplace<...>nsform at 0x7fb5517241f0>\n",
      "inverse_mellin_transform         function                  <function inverse_mellin_<...>nsform at 0x7fb5517208b0>\n",
      "inverse_mobius_transform         function                  <function inverse_mobius_<...>nsform at 0x7fb55156e310>\n",
      "inverse_sine_transform           function                  <function inverse_sine_tr<...>nsform at 0x7fb551728550>\n",
      "invert                           function                  <function invert at 0x7fb5511d3ee0>\n",
      "is_abundant                      function                  <function is_abundant at 0x7fb55112fc10>\n",
      "is_amicable                      function                  <function is_amicable at 0x7fb55112fd30>\n",
      "is_convex                        function                  <function is_convex at 0x7fb55177c0d0>\n",
      "is_decreasing                    function                  <function is_decreasing at 0x7fb551a731f0>\n",
      "is_deficient                     function                  <function is_deficient at 0x7fb55112fca0>\n",
      "is_increasing                    function                  <function is_increasing at 0x7fb5409e68b0>\n",
      "is_mersenne_prime                function                  <function is_mersenne_prime at 0x7fb55112faf0>\n",
      "is_monotonic                     function                  <function is_monotonic at 0x7fb551a73310>\n",
      "is_nthpow_residue                function                  <function is_nthpow_residue at 0x7fb551136ca0>\n",
      "is_perfect                       function                  <function is_perfect at 0x7fb55112fa60>\n",
      "is_primitive_root                function                  <function is_primitive_root at 0x7fb551136820>\n",
      "is_quad_residue                  function                  <function is_quad_residue at 0x7fb551136c10>\n",
      "is_strictly_decreasing           function                  <function is_strictly_dec<...>easing at 0x7fb551a73280>\n",
      "is_strictly_increasing           function                  <function is_strictly_inc<...>easing at 0x7fb551a73160>\n",
      "is_zero_dimensional              function                  <function is_zero_dimensional at 0x7fb5511d5790>\n",
      "isolate                          function                  <function isolate at 0x7fb5515939d0>\n",
      "isprime                          function                  <function isprime at 0x7fb54094c280>\n",
      "itermonomials                    function                  <function itermonomials at 0x7fb551117040>\n",
      "jacobi                           FunctionClass             jacobi\n",
      "jacobi_normalized                function                  <function jacobi_normalized at 0x7fb551341af0>\n",
      "jacobi_poly                      function                  <function jacobi_poly at 0x7fb551331160>\n",
      "jacobi_symbol                    function                  <function jacobi_symbol at 0x7fb551143280>\n",
      "jn                               FunctionClass             jn\n",
      "jn_zeros                         function                  <function jn_zeros at 0x7fb551337940>\n",
      "jordan_cell                      function                  <function jordan_cell at 0x7fb55165f820>\n",
      "jscode                           function                  <function jscode at 0x7fb551058790>\n",
      "julia_code                       function                  <function julia_code at 0x7fb55105c670>\n",
      "k                                str                       foo\n",
      "kronecker_product                function                  <function kronecker_product at 0x7fb5516f5040>\n",
      "kroneckersimp                    function                  <function kroneckersimp at 0x7fb5514a1f70>\n",
      "laguerre                         FunctionClass             laguerre\n",
      "laguerre_poly                    function                  <function laguerre_poly at 0x7fb551331820>\n",
      "lambdify                         function                  <function lambdify at 0x7fb54087f3a0>\n",
      "laplace_transform                function                  <function laplace_transform at 0x7fb551720ee0>\n",
      "latex                            _PrintFunction            <function latex at 0x7fb550f819d0>\n",
      "lcm                              function                  <function lcm at 0x7fb5511d43a0>\n",
      "lcm_list                         function                  <function lcm_list at 0x7fb5511d4310>\n",
      "legendre                         FunctionClass             legendre\n",
      "legendre_poly                    function                  <function legendre_poly at 0x7fb551331700>\n",
      "legendre_symbol                  function                  <function legendre_symbol at 0x7fb5511431f0>\n",
      "lerchphi                         FunctionClass             lerchphi\n",
      "lex                              LexOrder                  lex\n",
      "li                               FunctionClass             li\n",
      "limit                            function                  <function limit at 0x7fb5514dedc0>\n",
      "limit_seq                        function                  <function limit_seq at 0x7fb551574af0>\n",
      "line_integrate                   function                  <function line_integrate at 0x7fb540a535e0>\n",
      "linear_eq_to_matrix              function                  <function linear_eq_to_matrix at 0x7fb5517809d0>\n",
      "linsolve                         function                  <function linsolve at 0x7fb551780a60>\n",
      "list2numpy                       function                  <function list2numpy at 0x7fb55165e8b0>\n",
      "ln                               FunctionClass             log\n",
      "log                              FunctionClass             log\n",
      "logcombine                       function                  <function logcombine at 0x7fb5514a1d30>\n",
      "loggamma                         FunctionClass             loggamma\n",
      "lowergamma                       FunctionClass             lowergamma\n",
      "lucas                            FunctionClass             lucas\n",
      "maple_code                       function                  <function maple_code at 0x7fb5510a61f0>\n",
      "marcumq                          FunctionClass             marcumq\n",
      "mathematica_code                 function                  <function mathematica_code at 0x7fb55107bb80>\n",
      "mathieuc                         FunctionClass             mathieuc\n",
      "mathieucprime                    FunctionClass             mathieucprime\n",
      "mathieus                         FunctionClass             mathieus\n",
      "mathieusprime                    FunctionClass             mathieusprime\n",
      "mathml                           _PrintFunction            <function mathml at 0x7fb550fad430>\n",
      "matrix2numpy                     function                  <function matrix2numpy at 0x7fb55165f1f0>\n",
      "matrix_multiply_elementwise      function                  <function matrix_multiply<...>ntwise at 0x7fb55165f8b0>\n",
      "matrix_symbols                   function                  <function matrix_symbols at 0x7fb55168c820>\n",
      "maximum                          function                  <function maximum at 0x7fb55177c1f0>\n",
      "meijerg                          FunctionClass             meijerg\n",
      "mellin_transform                 function                  <function mellin_transform at 0x7fb5517204c0>\n",
      "memoize_property                 function                  <function memoize_property at 0x7fb54087f1f0>\n",
      "mersenne_prime_exponent          function                  <function mersenne_prime_<...>ponent at 0x7fb55112f670>\n",
      "minimal_polynomial               function                  <function minimal_polynomial at 0x7fb551593430>\n",
      "minimum                          function                  <function minimum at 0x7fb55177c280>\n",
      "minpoly                          function                  <function minimal_polynomial at 0x7fb551593430>\n",
      "mobius                           FunctionClass             mobius\n",
      "mobius_transform                 function                  <function mobius_transform at 0x7fb55156e280>\n",
      "mod_inverse                      function                  <function mod_inverse at 0x7fb540906550>\n",
      "monic                            function                  <function monic at 0x7fb5511d4550>\n",
      "motzkin                          FunctionClass             motzkin\n",
      "multigamma                       FunctionClass             multigamma\n",
      "multiline_latex                  function                  <function multiline_latex at 0x7fb550f81a60>\n",
      "multinomial_coefficients         function                  <function multinomial_coe<...>cients at 0x7fb551143e50>\n",
      "multipledispatch                 module                    <module 'sympy.multipledi<...>pledispatch/__init__.py'>\n",
      "multiplicity                     function                  <function multiplicity at 0x7fb55112e280>\n",
      "my_dict                          dict                      n=3\n",
      "mylist                           list                      n=3\n",
      "n_order                          function                  <function n_order at 0x7fb551136670>\n",
      "nan                              NaN                       nan\n",
      "nextprime                        function                  <function nextprime at 0x7fb54094cc10>\n",
      "nfloat                           function                  <function nfloat at 0x7fb530664b80>\n",
      "nonlinsolve                      function                  <function nonlinsolve at 0x7fb551780e50>\n",
      "not_empty_in                     function                  <function not_empty_in at 0x7fb551764e50>\n",
      "npartitions                      function                  <function npartitions at 0x7fb551143b80>\n",
      "nroots                           function                  <function nroots at 0x7fb5511d5430>\n",
      "nsimplify                        function                  <function nsimplify at 0x7fb5514a2160>\n",
      "nsolve                           function                  <function nsolve at 0x7fb551732670>\n",
      "nth_power_roots_poly             function                  <function nth_power_roots_poly at 0x7fb5511d5550>\n",
      "ntheory                          module                    <module 'sympy.ntheory' f<...>mpy/ntheory/__init__.py'>\n",
      "nthroot_mod                      function                  <function nthroot_mod at 0x7fb5511430d0>\n",
      "ntt                              function                  <function ntt at 0x7fb55155cee0>\n",
      "numbered_symbols                 function                  <function numbered_symbols at 0x7fb5407c85e0>\n",
      "numer                            function                  <function numer at 0x7fb551465f70>\n",
      "octave_code                      function                  <function octave_code at 0x7fb55107df70>\n",
      "ode_order                        function                  <function ode_order at 0x7fb551a3f820>\n",
      "ones                             function                  <function ones at 0x7fb55165f940>\n",
      "oo                               Infinity                  oo\n",
      "ord0                             OrdinalZero               ord0\n",
      "ordered                          function                  <function ordered at 0x7fb5407059d0>\n",
      "pager_print                      function                  <function pager_print at 0x7fb550f18670>\n",
      "parallel_poly_from_expr          function                  <function parallel_poly_f<...>m_expr at 0x7fb5511d3430>\n",
      "parse_expr                       function                  <function parse_expr at 0x7fb551b0c550>\n",
      "parsing                          module                    <module 'sympy.parsing' f<...>mpy/parsing/__init__.py'>\n",
      "partition                        FunctionClass             partition\n",
      "pde_separate                     function                  <function pde_separate at 0x7fb551a3fdc0>\n",
      "pde_separate_add                 function                  <function pde_separate_add at 0x7fb551a3fe50>\n",
      "pde_separate_mul                 function                  <function pde_separate_mul at 0x7fb551a3fee0>\n",
      "pdiv                             function                  <function pdiv at 0x7fb5511d39d0>\n",
      "pdsolve                          function                  <function pdsolve at 0x7fb551a3f5e0>\n",
      "per                              function                  <function per at 0x7fb5516d8280>\n",
      "perfect_power                    function                  <function perfect_power at 0x7fb55112e3a0>\n",
      "periodic_argument                FunctionClass             periodic_argument\n",
      "periodicity                      function                  <function periodicity at 0x7fb551764ee0>\n",
      "permutedims                      function                  <function permutedims at 0x7fb551533940>\n",
      "pexquo                           function                  <function pexquo at 0x7fb5511d3b80>\n",
      "pi                               Pi                        pi\n",
      "piecewise_fold                   function                  <function piecewise_fold at 0x7fb5512613a0>\n",
      "plot                             function                  <function plot at 0x7fb551b39ee0>\n",
      "plot_backends                    dict                      n=3\n",
      "plot_implicit                    function                  <function plot_implicit at 0x7fb551b50ee0>\n",
      "plot_parametric                  function                  <function plot_parametric at 0x7fb551b39f70>\n",
      "plotting                         module                    <module 'sympy.plotting' <...>py/plotting/__init__.py'>\n",
      "polar_lift                       FunctionClass             polar_lift\n",
      "polarify                         function                  <function polarify at 0x7fb5512a1dc0>\n",
      "pollard_pm1                      function                  <function pollard_pm1 at 0x7fb55112e4c0>\n",
      "pollard_rho                      function                  <function pollard_rho at 0x7fb55112e430>\n",
      "poly                             function                  <function poly at 0x7fb5511d5820>\n",
      "poly_from_expr                   function                  <function poly_from_expr at 0x7fb5511c6e50>\n",
      "polygamma                        FunctionClass             polygamma\n",
      "polylog                          FunctionClass             polylog\n",
      "polys                            module                    <module 'sympy.polys' fro<...>sympy/polys/__init__.py'>\n",
      "posify                           function                  <function posify at 0x7fb5514a1670>\n",
      "postfixes                        function                  <function postfixes at 0x7fb5407c8a60>\n",
      "postorder_traversal              function                  <function postorder_traversal at 0x7fb5407c8280>\n",
      "powdenest                        function                  <function powdenest at 0x7fb55141fd30>\n",
      "powsimp                          function                  <function powsimp at 0x7fb55141fc10>\n",
      "pprint                           function                  <function pretty_print at 0x7fb550e97dc0>\n",
      "pprint_try_use_unicode           function                  <function pretty_try_use_<...>nicode at 0x7fb550eefa60>\n",
      "pprint_use_unicode               function                  <function pretty_use_unicode at 0x7fb550eef940>\n",
      "pquo                             function                  <function pquo at 0x7fb5511d3af0>\n",
      "prefixes                         function                  <function prefixes at 0x7fb5407c89d0>\n",
      "prem                             function                  <function prem at 0x7fb5511d3a60>\n",
      "preorder_traversal               type                      <class 'sympy.core.basic.preorder_traversal'>\n",
      "pretty                           _PrintFunction            <function pretty at 0x7fb550f185e0>\n",
      "pretty_print                     function                  <function pretty_print at 0x7fb550e97dc0>\n",
      "preview                          function                  <function preview at 0x7fb55109e160>\n",
      "prevprime                        function                  <function prevprime at 0x7fb54094cdc0>\n",
      "prime                            function                  <function prime at 0x7fb54094c4c0>\n",
      "primefactors                     function                  <function primefactors at 0x7fb55112e820>\n",
      "primenu                          FunctionClass             primenu\n",
      "primeomega                       FunctionClass             primeomega\n",
      "primepi                          FunctionClass             primepi\n",
      "primerange                       function                  <function primerange at 0x7fb54094ce50>\n",
      "primitive                        function                  <function primitive at 0x7fb5511d4670>\n",
      "primitive_element                function                  <function primitive_element at 0x7fb551593670>\n",
      "primitive_root                   function                  <function primitive_root at 0x7fb551136790>\n",
      "primorial                        function                  <function primorial at 0x7fb54094cf70>\n",
      "principal_branch                 FunctionClass             principal_branch\n",
      "print_ccode                      function                  <function print_ccode at 0x7fb550fd3160>\n",
      "print_fcode                      function                  <function print_fcode at 0x7fb550fd3280>\n",
      "print_glsl                       function                  <function print_glsl at 0x7fb550fde280>\n",
      "print_gtk                        function                  <function print_gtk at 0x7fb551096a60>\n",
      "print_jscode                     function                  <function print_jscode at 0x7fb55105c430>\n",
      "print_latex                      function                  <function print_latex at 0x7fb550f81940>\n",
      "print_maple_code                 function                  <function print_maple_code at 0x7fb5510ad280>\n",
      "print_mathml                     function                  <function print_mathml at 0x7fb550f93550>\n",
      "print_python                     function                  <function print_python at 0x7fb550fba700>\n",
      "print_rcode                      function                  <function print_rcode at 0x7fb551058700>\n",
      "print_tree                       function                  <function print_tree at 0x7fb55109e3a0>\n",
      "printing                         module                    <module 'sympy.printing' <...>py/printing/__init__.py'>\n",
      "prod                             function                  <function prod at 0x7fb5408b3d30>\n",
      "product                          function                  <function product at 0x7fb5516f9c10>\n",
      "proper_divisor_count             function                  <function proper_divisor_count at 0x7fb55112eaf0>\n",
      "proper_divisors                  function                  <function proper_divisors at 0x7fb55112ea60>\n",
      "public                           function                  <function public at 0x7fb54087f160>\n",
      "pycode                           function                  <function pycode at 0x7fb550fd3430>\n",
      "python                           function                  <function python at 0x7fb550fad5e0>\n",
      "quadratic_congruence             function                  <function quadratic_congruence at 0x7fb551143700>\n",
      "quadratic_residues               function                  <function quadratic_residues at 0x7fb551143160>\n",
      "quo                              function                  <function quo at 0x7fb5511d3d30>\n",
      "rad                              function                  <function rad at 0x7fb551addca0>\n",
      "radsimp                          function                  <function radsimp at 0x7fb551465dc0>\n",
      "randMatrix                       function                  <function randMatrix at 0x7fb55165f9d0>\n",
      "random_poly                      function                  <function random_poly at 0x7fb5511d6820>\n",
      "randprime                        function                  <function randprime at 0x7fb54094cee0>\n",
      "rational_interpolate             function                  <function rational_interpolate at 0x7fb5513c4ca0>\n",
      "ratsimp                          function                  <function ratsimp at 0x7fb5514dee50>\n",
      "ratsimpmodprime                  function                  <function ratsimpmodprime at 0x7fb5514def70>\n",
      "rcode                            function                  <function rcode at 0x7fb550fde430>\n",
      "rcollect                         function                  <function rcollect at 0x7fb551465b80>\n",
      "re                               FunctionClass             re\n",
      "real_root                        function                  <function real_root at 0x7fb5512189d0>\n",
      "real_roots                       function                  <function real_roots at 0x7fb5511d53a0>\n",
      "reduce_abs_inequalities          function                  <function reduce_abs_ineq<...>lities at 0x7fb551713e50>\n",
      "reduce_abs_inequality            function                  <function reduce_abs_ineq<...>uality at 0x7fb551713dc0>\n",
      "reduce_inequalities              function                  <function reduce_inequalities at 0x7fb551720160>\n",
      "reduced                          function                  <function reduced at 0x7fb5511d5670>\n",
      "reduced_totient                  FunctionClass             reduced_totient\n",
      "refine                           function                  <function refine at 0x7fb550de2820>\n",
      "refine_root                      function                  <function refine_root at 0x7fb5511d5280>\n",
      "register_handler                 function                  <function register_handler at 0x7fb550de0b80>\n",
      "release                          module                    <module 'sympy.release' f<...>ckages/sympy/release.py'>\n",
      "rem                              function                  <function rem at 0x7fb5511d3ca0>\n",
      "remove_handler                   function                  <function remove_handler at 0x7fb550de0c10>\n",
      "reshape                          function                  <function reshape at 0x7fb5407cdf70>\n",
      "residue                          function                  <function residue at 0x7fb5514ec670>\n",
      "resultant                        function                  <function resultant at 0x7fb5511d4040>\n",
      "rf                               FunctionClass             RisingFactorial\n",
      "riemann_xi                       FunctionClass             riemann_xi\n",
      "ring                             function                  <function ring at 0x7fb5513795e0>\n",
      "root                             function                  <function root at 0x7fb551218940>\n",
      "rootof                           function                  <function rootof at 0x7fb55157b0d0>\n",
      "roots                            function                  <function roots at 0x7fb55157ed30>\n",
      "rot_axis1                        function                  <function rot_axis1 at 0x7fb55165f3a0>\n",
      "rot_axis2                        function                  <function rot_axis2 at 0x7fb55165f310>\n",
      "rot_axis3                        function                  <function rot_axis3 at 0x7fb55165f280>\n",
      "rotations                        function                  <function rotations at 0x7fb5407cfaf0>\n",
      "rsolve                           function                  <function rsolve at 0x7fb5517885e0>\n",
      "rsolve_hyper                     function                  <function rsolve_hyper at 0x7fb551788550>\n",
      "rsolve_poly                      function                  <function rsolve_poly at 0x7fb551788430>\n",
      "rsolve_ratio                     function                  <function rsolve_ratio at 0x7fb5517884c0>\n",
      "rust_code                        function                  <function rust_code at 0x7fb5510915e0>\n",
      "satisfiable                      function                  <function satisfiable at 0x7fb550d861f0>\n",
      "sec                              FunctionClass             sec\n",
      "sech                             FunctionClass             sech\n",
      "separatevars                     function                  <function separatevars at 0x7fb55141f430>\n",
      "sequence                         function                  <function sequence at 0x7fb5514ecaf0>\n",
      "series                           function                  <function series at 0x7fb5514ec160>\n",
      "seterr                           function                  <function seterr at 0x7fb5409029d0>\n",
      "sfield                           function                  <function sfield at 0x7fb5516f9b80>\n",
      "shape                            function                  <function shape at 0x7fb55151a040>\n",
      "sieve                            Sieve                     <prime sieve (6): 2, 3, 5<...>(6): 0, 1, -1, ... 0, -1>\n",
      "sift                             function                  <function sift at 0x7fb5407c8700>\n",
      "sign                             FunctionClass             sign\n",
      "signsimp                         function                  <function signsimp at 0x7fb5514a1820>\n",
      "simplify                         function                  <function simplify at 0x7fb5514a18b0>\n",
      "simplify_logic                   function                  <function simplify_logic at 0x7fb550d85ca0>\n",
      "sin                              FunctionClass             sin\n",
      "sinc                             FunctionClass             sinc\n",
      "sine_transform                   function                  <function sine_transform at 0x7fb551724ee0>\n",
      "singularities                    function                  <function singularities at 0x7fb5409e6700>\n",
      "singularityintegrate             function                  <function singularityintegrate at 0x7fb55172d3a0>\n",
      "sinh                             FunctionClass             sinh\n",
      "solve                            function                  <function solve at 0x7fb55172dd30>\n",
      "solve_linear                     function                  <function solve_linear at 0x7fb55172dee0>\n",
      "solve_linear_system              function                  <function solve_linear_system at 0x7fb551732040>\n",
      "solve_linear_system_LU           function                  <function solve_linear_sy<...>tem_LU at 0x7fb551732160>\n",
      "solve_poly_inequality            function                  <function solve_poly_ineq<...>uality at 0x7fb551713b80>\n",
      "solve_poly_system                function                  <function solve_poly_system at 0x7fb55172d8b0>\n",
      "solve_rational_inequalities      function                  <function solve_rational_<...>lities at 0x7fb551713ca0>\n",
      "solve_triangulated               function                  <function solve_triangulated at 0x7fb55172da60>\n",
      "solve_undetermined_coeffs        function                  <function solve_undetermi<...>coeffs at 0x7fb5517320d0>\n",
      "solve_univariate_inequality      function                  <function solve_univariat<...>uality at 0x7fb551713ee0>\n",
      "solveset                         function                  <function solveset at 0x7fb551780670>\n",
      "some_module                      module                    <module 'some_module' fro<...>1-python/some_module.py'>\n",
      "some_var                         int                       5\n",
      "source                           function                  <function source at 0x7fb54087fca0>\n",
      "sqf                              function                  <function sqf at 0x7fb5511d5040>\n",
      "sqf_list                         function                  <function sqf_list at 0x7fb5511d4f70>\n",
      "sqf_norm                         function                  <function sqf_norm at 0x7fb5511d49d0>\n",
      "sqf_part                         function                  <function sqf_part at 0x7fb5511d4a60>\n",
      "sqrt                             function                  <function sqrt at 0x7fb551218550>\n",
      "sqrt_mod                         function                  <function sqrt_mod at 0x7fb551136940>\n",
      "sqrt_mod_iter                    function                  <function sqrt_mod_iter at 0x7fb551136a60>\n",
      "sqrtdenest                       function                  <function sqrtdenest at 0x7fb5514655e0>\n",
      "srepr                            _PrintFunction            <function srepr at 0x7fb550fba550>\n",
      "sring                            function                  <function sring at 0x7fb5513be310>\n",
      "sstr                             _PrintFunction            <function sstr at 0x7fb550eebe50>\n",
      "sstrrepr                         _PrintFunction            <function sstrrepr at 0x7fb550eef040>\n",
      "stationary_points                function                  <function stationary_points at 0x7fb55177c160>\n",
      "stieltjes                        FunctionClass             stieltjes\n",
      "str_list                         list                      n=3\n",
      "strategies                       module                    <module 'sympy.strategies<...>/strategies/__init__.py'>\n",
      "sturm                            function                  <function sturm at 0x7fb5511d4820>\n",
      "subfactorial                     FunctionClass             subfactorial\n",
      "subresultants                    function                  <function subresultants at 0x7fb5511d3f70>\n",
      "subsets                          function                  <function subsets at 0x7fb5407c84c0>\n",
      "substitution                     function                  <function substitution at 0x7fb551780b80>\n",
      "summation                        function                  <function summation at 0x7fb5409e6280>\n",
      "swinnerton_dyer_poly             function                  <function swinnerton_dyer_poly at 0x7fb5511d65e0>\n",
      "symarray                         function                  <function symarray at 0x7fb55165f550>\n",
      "symbols                          function                  <function symbols at 0x7fb550d86af0>\n",
      "symmetric_poly                   function                  <function symmetric_poly at 0x7fb5511d6700>\n",
      "symmetrize                       function                  <function symmetrize at 0x7fb5511d6430>\n",
      "sympify                          function                  <function sympify at 0x7fb54071f5e0>\n",
      "t                                str                       43.a\n",
      "take                             function                  <function take at 0x7fb5407c8790>\n",
      "tan                              FunctionClass             tan\n",
      "tanh                             FunctionClass             tanh\n",
      "temp                             float                     54.1\n",
      "tensor                           module                    <module 'sympy.tensor' fr<...>ympy/tensor/__init__.py'>\n",
      "tensorcontraction                function                  <function tensorcontraction at 0x7fb551533790>\n",
      "tensordiagonal                   function                  <function tensordiagonal at 0x7fb551533820>\n",
      "tensorproduct                    function                  <function tensorproduct at 0x7fb551533670>\n",
      "terms_gcd                        function                  <function terms_gcd at 0x7fb5511d4430>\n",
      "test                             function                  <function test at 0x7fb54087b280>\n",
      "text                             tuple                     n=4\n",
      "textplot                         function                  <function textplot at 0x7fb551b328b0>\n",
      "threaded                         function                  <function threaded at 0x7fb5407d4e50>\n",
      "timed                            function                  <function timed at 0x7fb54087fee0>\n",
      "to_cnf                           function                  <function to_cnf at 0x7fb550d82af0>\n",
      "to_dnf                           function                  <function to_dnf at 0x7fb550d82b80>\n",
      "to_nnf                           function                  <function to_nnf at 0x7fb550d82a60>\n",
      "to_number_field                  function                  <function to_number_field at 0x7fb551593940>\n",
      "together                         function                  <function together at 0x7fb5511c6dc0>\n",
      "topological_sort                 function                  <function topological_sort at 0x7fb5407c8af0>\n",
      "total_degree                     function                  <function total_degree at 0x7fb5511d3670>\n",
      "totient                          FunctionClass             totient\n",
      "trace                            function                  <function trace at 0x7fb5516c38b0>\n",
      "trailing                         function                  <function trailing at 0x7fb55112e1f0>\n",
      "transpose                        FunctionClass             transpose\n",
      "tribonacci                       FunctionClass             tribonacci\n",
      "trigamma                         FunctionClass             trigamma\n",
      "trigsimp                         function                  <function trigsimp at 0x7fb55149ca60>\n",
      "true                             BooleanTrue               True\n",
      "trunc                            function                  <function trunc at 0x7fb5511d44c0>\n",
      "unbranched_argument              function                  <function unbranched_argument at 0x7fb55128c790>\n",
      "unflatten                        function                  <function unflatten at 0x7fb5407cdee0>\n",
      "unpolarify                       function                  <function unpolarify at 0x7fb5512a1ee0>\n",
      "uppergamma                       FunctionClass             uppergamma\n",
      "use                              function                  <function use at 0x7fb5514b1ca0>\n",
      "utilities                        module                    <module 'sympy.utilities'<...>y/utilities/__init__.py'>\n",
      "v                                str                       (noun) a term used as a u<...>and \\n           problems\n",
      "var                              function                  <function var at 0x7fb550d8d1f0>\n",
      "variations                       function                  <function variations at 0x7fb5407c8430>\n",
      "vectorize                        type                      <class 'sympy.core.multidimensional.vectorize'>\n",
      "vfield                           function                  <function vfield at 0x7fb5516f9af0>\n",
      "viete                            function                  <function viete at 0x7fb5513c4d30>\n",
      "vring                            function                  <function vring at 0x7fb5513be280>\n",
      "wronskian                        function                  <function wronskian at 0x7fb55165fa60>\n",
      "x                                range                     range(1, 10)\n",
      "xfield                           function                  <function xfield at 0x7fb5516f9a60>\n",
      "xring                            function                  <function xring at 0x7fb5513be160>\n",
      "xthreaded                        function                  <function xthreaded at 0x7fb54087b9d0>\n",
      "y                                int                       5\n",
      "yn                               FunctionClass             yn\n",
      "zeros                            function                  <function zeros at 0x7fb55165faf0>\n",
      "zeta                             FunctionClass             zeta\n",
      "zoo                              ComplexInfinity           zoo\n"
     ]
    }
   ],
   "source": [
    "%whos"
   ]
  },
  {
   "cell_type": "markdown",
   "metadata": {},
   "source": [
    "`dir()` yeilds the functions. Note there are buiilt-in functions, too."
   ]
  },
  {
   "cell_type": "code",
   "execution_count": 69,
   "metadata": {},
   "outputs": [
    {
     "data": {
      "text/plain": [
       "['PI',\n",
       " '__builtins__',\n",
       " '__cached__',\n",
       " '__doc__',\n",
       " '__file__',\n",
       " '__loader__',\n",
       " '__name__',\n",
       " '__package__',\n",
       " '__spec__',\n",
       " 'arccos',\n",
       " 'f',\n",
       " 'g']"
      ]
     },
     "execution_count": 69,
     "metadata": {},
     "output_type": "execute_result"
    }
   ],
   "source": [
    "dir(some_module)"
   ]
  },
  {
   "cell_type": "markdown",
   "metadata": {},
   "source": [
    "And we can get help information from the module, which consits of the triple-quoted comment string for each defined function."
   ]
  },
  {
   "cell_type": "code",
   "execution_count": 70,
   "metadata": {},
   "outputs": [
    {
     "name": "stdout",
     "output_type": "stream",
     "text": [
      "Help on module some_module:\n",
      "\n",
      "NAME\n",
      "    some_module\n",
      "\n",
      "FUNCTIONS\n",
      "    f(x)\n",
      "        This is a function which adds 5 to its argument\n",
      "    \n",
      "    g(x, y)\n",
      "        This is a function which sums its 2 arguments\n",
      "\n",
      "DATA\n",
      "    PI = 3.14159\n",
      "    arccos = <ufunc 'arccos'>\n",
      "\n",
      "FILE\n",
      "    /Users/yashjain/Desktop/Web Design Assisgnment/W2L1-python/some_module.py\n",
      "\n",
      "\n"
     ]
    }
   ],
   "source": [
    "help(some_module)"
   ]
  },
  {
   "cell_type": "markdown",
   "metadata": {},
   "source": [
    "And here's how we use our module, A variable in the module:"
   ]
  },
  {
   "cell_type": "code",
   "execution_count": 71,
   "metadata": {},
   "outputs": [
    {
     "data": {
      "text/plain": [
       "3.14159"
      ]
     },
     "execution_count": 71,
     "metadata": {},
     "output_type": "execute_result"
    }
   ],
   "source": [
    "some_module.PI"
   ]
  },
  {
   "cell_type": "code",
   "execution_count": 72,
   "metadata": {},
   "outputs": [
    {
     "data": {
      "text/plain": [
       "<function some_module.f(x)>"
      ]
     },
     "execution_count": 72,
     "metadata": {},
     "output_type": "execute_result"
    }
   ],
   "source": [
    "some_module.f"
   ]
  },
  {
   "cell_type": "markdown",
   "metadata": {},
   "source": [
    "Notice a cool trick by executing the cell below."
   ]
  },
  {
   "cell_type": "code",
   "execution_count": 73,
   "metadata": {},
   "outputs": [
    {
     "data": {
      "text/plain": [
       "<ufunc 'arccos'>"
      ]
     },
     "execution_count": 73,
     "metadata": {},
     "output_type": "execute_result"
    }
   ],
   "source": [
    "some_module.arccos"
   ]
  },
  {
   "cell_type": "code",
   "execution_count": 74,
   "metadata": {},
   "outputs": [],
   "source": [
    "some_module.arccos?"
   ]
  },
  {
   "cell_type": "markdown",
   "metadata": {},
   "source": [
    "A function in the module. Notice that with a function, we need to give it an input variable, too."
   ]
  },
  {
   "cell_type": "code",
   "execution_count": 75,
   "metadata": {},
   "outputs": [
    {
     "data": {
      "text/plain": [
       "12"
      ]
     },
     "execution_count": 75,
     "metadata": {},
     "output_type": "execute_result"
    }
   ],
   "source": [
    "some_module.f(7)"
   ]
  },
  {
   "cell_type": "code",
   "execution_count": 76,
   "metadata": {},
   "outputs": [
    {
     "name": "stdout",
     "output_type": "stream",
     "text": [
      "Help on function f in module some_module:\n",
      "\n",
      "f(x)\n",
      "    This is a function which adds 5 to its argument\n",
      "\n"
     ]
    }
   ],
   "source": [
    "help(some_module.f)"
   ]
  },
  {
   "cell_type": "markdown",
   "metadata": {},
   "source": [
    "Here are two ways for creating shortcuts to the module:"
   ]
  },
  {
   "cell_type": "code",
   "execution_count": 77,
   "metadata": {},
   "outputs": [],
   "source": [
    "from some_module import f"
   ]
  },
  {
   "cell_type": "code",
   "execution_count": 78,
   "metadata": {},
   "outputs": [
    {
     "data": {
      "text/plain": [
       "10"
      ]
     },
     "execution_count": 78,
     "metadata": {},
     "output_type": "execute_result"
    }
   ],
   "source": [
    "f(5)"
   ]
  },
  {
   "cell_type": "code",
   "execution_count": 79,
   "metadata": {},
   "outputs": [],
   "source": [
    "import some_module as sm"
   ]
  },
  {
   "cell_type": "code",
   "execution_count": 80,
   "metadata": {},
   "outputs": [
    {
     "data": {
      "text/plain": [
       "15"
      ]
     },
     "execution_count": 80,
     "metadata": {},
     "output_type": "execute_result"
    }
   ],
   "source": [
    "sm.f(10)"
   ]
  },
  {
   "cell_type": "markdown",
   "metadata": {},
   "source": [
    "The Zen of python says: \n",
    "    \n",
    "```Namespaces are one honking great idea -- let's do more of those!```\n",
    "    \n",
    "so **don't** do: \n",
    "\n",
    "    from some_module import *\n",
    "    \n",
    "As to avoid names conflicts ..."
   ]
  },
  {
   "cell_type": "markdown",
   "metadata": {},
   "source": [
    "### A bit more on functions: \n",
    "\n",
    "Functions can have **positional** as well as **keyword** arguments (with defaults, can be `None` if that's allowed / tested)\n",
    "\n",
    "Positional arguments must always come before keyword arguments"
   ]
  },
  {
   "cell_type": "code",
   "execution_count": 81,
   "metadata": {},
   "outputs": [
    {
     "data": {
      "text/plain": [
       "float"
      ]
     },
     "execution_count": 81,
     "metadata": {},
     "output_type": "execute_result"
    }
   ],
   "source": [
    "type(1e3)"
   ]
  },
  {
   "cell_type": "code",
   "execution_count": 82,
   "metadata": {},
   "outputs": [
    {
     "data": {
      "text/plain": [
       "int"
      ]
     },
     "execution_count": 82,
     "metadata": {},
     "output_type": "execute_result"
    }
   ],
   "source": [
    "type(10**3)"
   ]
  },
  {
   "cell_type": "code",
   "execution_count": 83,
   "metadata": {},
   "outputs": [],
   "source": [
    "def some_function(a,b,c=5,d=1e3): \n",
    "    res = (a + b) * c * d\n",
    "    return res"
   ]
  },
  {
   "cell_type": "code",
   "execution_count": 84,
   "metadata": {},
   "outputs": [
    {
     "data": {
      "text/plain": [
       "25000.0"
      ]
     },
     "execution_count": 84,
     "metadata": {},
     "output_type": "execute_result"
    }
   ],
   "source": [
    "some_function(2,3)"
   ]
  },
  {
   "cell_type": "code",
   "execution_count": 85,
   "metadata": {},
   "outputs": [
    {
     "data": {
      "text/plain": [
       "0.25"
      ]
     },
     "execution_count": 85,
     "metadata": {},
     "output_type": "execute_result"
    }
   ],
   "source": [
    "some_function(2, 3, c=5, d=0.01)"
   ]
  },
  {
   "cell_type": "markdown",
   "metadata": {},
   "source": [
    "You can return more than one output from a function, and by default it will be a tuple:"
   ]
  },
  {
   "cell_type": "code",
   "execution_count": 86,
   "metadata": {},
   "outputs": [],
   "source": [
    "def some_function(a, b): \n",
    "    return a+1, b+1, a*b"
   ]
  },
  {
   "cell_type": "code",
   "execution_count": 87,
   "metadata": {},
   "outputs": [
    {
     "data": {
      "text/plain": [
       "3"
      ]
     },
     "execution_count": 87,
     "metadata": {},
     "output_type": "execute_result"
    }
   ],
   "source": [
    "a, b, c = some_function(2,3)\n",
    "a"
   ]
  },
  {
   "cell_type": "code",
   "execution_count": 88,
   "metadata": {},
   "outputs": [
    {
     "data": {
      "text/plain": [
       "6"
      ]
     },
     "execution_count": 88,
     "metadata": {},
     "output_type": "execute_result"
    }
   ],
   "source": [
    "c"
   ]
  },
  {
   "cell_type": "code",
   "execution_count": 126,
   "metadata": {},
   "outputs": [
    {
     "data": {
      "text/plain": [
       "int"
      ]
     },
     "execution_count": 126,
     "metadata": {},
     "output_type": "execute_result"
    }
   ],
   "source": [
    "type(a)"
   ]
  },
  {
   "cell_type": "markdown",
   "metadata": {},
   "source": [
    "## 10. Functions and Anonymous Functions are first class in Python\n",
    "\n",
    "Functions in Python are just like data objects, you can create variables to store them and pass them around, even to other functions!"
   ]
  },
  {
   "cell_type": "code",
   "execution_count": 90,
   "metadata": {},
   "outputs": [],
   "source": [
    "# Python has first class functions\n",
    "def create_adder(x):\n",
    "    def adder(y):\n",
    "        return x + y\n",
    "\n",
    "    return adder"
   ]
  },
  {
   "cell_type": "code",
   "execution_count": 91,
   "metadata": {},
   "outputs": [
    {
     "data": {
      "text/plain": [
       "<function __main__.create_adder(x)>"
      ]
     },
     "execution_count": 91,
     "metadata": {},
     "output_type": "execute_result"
    }
   ],
   "source": [
    "create_adder"
   ]
  },
  {
   "cell_type": "code",
   "execution_count": 92,
   "metadata": {},
   "outputs": [
    {
     "data": {
      "text/plain": [
       "<function __main__.create_adder.<locals>.adder(y)>"
      ]
     },
     "execution_count": 92,
     "metadata": {},
     "output_type": "execute_result"
    }
   ],
   "source": [
    "add_10 = create_adder(10)\n",
    "add_10"
   ]
  },
  {
   "cell_type": "code",
   "execution_count": 93,
   "metadata": {},
   "outputs": [
    {
     "data": {
      "text/plain": [
       "13"
      ]
     },
     "execution_count": 93,
     "metadata": {},
     "output_type": "execute_result"
    }
   ],
   "source": [
    "add_10(3)  # => 13"
   ]
  },
  {
   "cell_type": "code",
   "execution_count": 127,
   "metadata": {},
   "outputs": [
    {
     "data": {
      "text/plain": [
       "13"
      ]
     },
     "execution_count": 127,
     "metadata": {},
     "output_type": "execute_result"
    }
   ],
   "source": [
    "create_adder(10)(3)"
   ]
  },
  {
   "cell_type": "markdown",
   "metadata": {},
   "source": [
    "You can define ***anonymous*** functions using `lambdas`:"
   ]
  },
  {
   "cell_type": "code",
   "execution_count": 95,
   "metadata": {},
   "outputs": [],
   "source": [
    "def f(x):\n",
    "    return x > 2"
   ]
  },
  {
   "cell_type": "code",
   "execution_count": 96,
   "metadata": {},
   "outputs": [
    {
     "data": {
      "text/plain": [
       "(True, True)"
      ]
     },
     "execution_count": 96,
     "metadata": {},
     "output_type": "execute_result"
    }
   ],
   "source": [
    "(lambda _: _ > 2)(3), f(3)"
   ]
  },
  {
   "cell_type": "code",
   "execution_count": 97,
   "metadata": {},
   "outputs": [
    {
     "data": {
      "text/plain": [
       "5"
      ]
     },
     "execution_count": 97,
     "metadata": {},
     "output_type": "execute_result"
    }
   ],
   "source": [
    "# There are also anonymous functions C#: x => x> 2     Java: x -> x > 2\n",
    "(lambda _: _ > 2)(3)  # => True\n",
    "(lambda x, y: x ** 2 + y ** 2)(2, 1)  # => 5"
   ]
  },
  {
   "cell_type": "markdown",
   "metadata": {},
   "source": [
    "There are built-in higher order functions you should know of. It's ok if they're still a bit myesterious to you. We'll explore them more in later lectures."
   ]
  },
  {
   "cell_type": "code",
   "execution_count": 98,
   "metadata": {},
   "outputs": [
    {
     "data": {
      "text/plain": [
       "[(1, 4), (2, 5), (3, 6)]"
      ]
     },
     "execution_count": 98,
     "metadata": {},
     "output_type": "execute_result"
    }
   ],
   "source": [
    "list(zip([1,2,3], [4,5,6]))"
   ]
  },
  {
   "cell_type": "code",
   "execution_count": 99,
   "metadata": {},
   "outputs": [
    {
     "data": {
      "text/plain": [
       "[11, 12, 13]"
      ]
     },
     "execution_count": 99,
     "metadata": {},
     "output_type": "execute_result"
    }
   ],
   "source": [
    "list(map(add_10, [1, 2, 3]))"
   ]
  },
  {
   "cell_type": "code",
   "execution_count": 100,
   "metadata": {},
   "outputs": [
    {
     "data": {
      "text/plain": [
       "[4, 2, 3]"
      ]
     },
     "execution_count": 100,
     "metadata": {},
     "output_type": "execute_result"
    }
   ],
   "source": [
    "list(map(max, [1, 2, 3], [4, 2, 1]))"
   ]
  },
  {
   "cell_type": "code",
   "execution_count": 101,
   "metadata": {},
   "outputs": [
    {
     "data": {
      "text/plain": [
       "[6, 7]"
      ]
     },
     "execution_count": 101,
     "metadata": {},
     "output_type": "execute_result"
    }
   ],
   "source": [
    "list(filter(lambda x: x > 5, [3, 4, 5, 6, 7]))"
   ]
  },
  {
   "cell_type": "code",
   "execution_count": 102,
   "metadata": {},
   "outputs": [
    {
     "data": {
      "text/plain": [
       "<filter at 0x7fb5402c6b80>"
      ]
     },
     "execution_count": 102,
     "metadata": {},
     "output_type": "execute_result"
    }
   ],
   "source": [
    "map(add_10, [1, 2, 3])  # => [11, 12, 13]\n",
    "map(max, [1, 2, 3], [4, 2, 1])  # => [4, 2, 3]\n",
    "\n",
    "filter(lambda x: x > 5, [3, 4, 5, 6, 7])  # => [6, 7]"
   ]
  },
  {
   "cell_type": "markdown",
   "metadata": {},
   "source": [
    "You can use list comprehensions, too, as nice maps and filters:"
   ]
  },
  {
   "cell_type": "code",
   "execution_count": 103,
   "metadata": {},
   "outputs": [
    {
     "data": {
      "text/plain": [
       "[6, 7]"
      ]
     },
     "execution_count": 103,
     "metadata": {},
     "output_type": "execute_result"
    }
   ],
   "source": [
    "[add_10(i) for i in [1, 2, 3]]  # => [11, 12, 13]\n",
    "[x for x in [3, 4, 5, 6, 7] if x > 5]  # => [6, 7]"
   ]
  },
  {
   "cell_type": "markdown",
   "metadata": {},
   "source": [
    "Note you can construct set and dict comprehensions as well:"
   ]
  },
  {
   "cell_type": "code",
   "execution_count": 104,
   "metadata": {},
   "outputs": [
    {
     "data": {
      "text/plain": [
       "[6, 7]"
      ]
     },
     "execution_count": 104,
     "metadata": {},
     "output_type": "execute_result"
    }
   ],
   "source": [
    "{x for x in 'abcddeef' if x in 'abc'}  # => {'a', 'b', 'c'}\n",
    "{x: x ** 2 for x in range(5)}  # => {0: 0, 1: 1, 2: 4, 3: 9, 4: 16}\n",
    "[x for x in [3, 4, 5, 6, 7] if x > 5]  # => [6, 7]"
   ]
  },
  {
   "cell_type": "markdown",
   "metadata": {},
   "source": [
    "Finally, Python's `*args` and `**kwargs` constructs lest you iterate over **positional arguments** and **named arguments**: "
   ]
  },
  {
   "cell_type": "code",
   "execution_count": 105,
   "metadata": {},
   "outputs": [],
   "source": [
    "def magic(*args, **kwargs):\n",
    "  print (\"unnamed args: \", args)\n",
    "  print (\"keyword args: \", kwargs)"
   ]
  },
  {
   "cell_type": "code",
   "execution_count": 106,
   "metadata": {},
   "outputs": [
    {
     "name": "stdout",
     "output_type": "stream",
     "text": [
      "unnamed args:  (1, 2, 3)\n",
      "keyword args:  {'a': 4, 'b': 5, 'c': 6}\n"
     ]
    }
   ],
   "source": [
    "magic(1,2,3,a=4,b=5,c=6)"
   ]
  },
  {
   "cell_type": "markdown",
   "metadata": {},
   "source": [
    "## Generators"
   ]
  },
  {
   "cell_type": "markdown",
   "metadata": {},
   "source": [
    "A generator *generates* values as they are requested instead of storing everything up front. Let's see what storing everything up front really means. \n",
    "\n",
    "First, let us consider the simple example of building a list and returning it."
   ]
  },
  {
   "cell_type": "code",
   "execution_count": 107,
   "metadata": {},
   "outputs": [],
   "source": [
    "def first_n(n):\n",
    "    '''Build and return a list'''\n",
    "    num, nums = 0, []\n",
    "    while num < n:\n",
    "        nums.append(num)\n",
    "        num += 1\n",
    "    return nums"
   ]
  },
  {
   "cell_type": "code",
   "execution_count": 108,
   "metadata": {},
   "outputs": [
    {
     "data": {
      "text/plain": [
       "499999500000"
      ]
     },
     "execution_count": 108,
     "metadata": {},
     "output_type": "execute_result"
    }
   ],
   "source": [
    "sum_of_first_n = sum(first_n(1000000))\n",
    "sum_of_first_n"
   ]
  },
  {
   "cell_type": "markdown",
   "metadata": {},
   "source": [
    "The code is quite simple and straightforward, but it *builds the full list in memory*. This is a *problem*! It is clearly not acceptable in our case, because we cannot afford to keep all $n$ \"10 megabyte\" integers in memory.\n",
    "\n",
    "Lets us rewrite the above iterator as a generator function instead:"
   ]
  },
  {
   "cell_type": "code",
   "execution_count": 109,
   "metadata": {},
   "outputs": [],
   "source": [
    "# a generator that yields items instead of returning a list\n",
    "def firstn(n):\n",
    "    num = 0\n",
    "    while num < n:\n",
    "        yield num\n",
    "        num += 1"
   ]
  },
  {
   "cell_type": "code",
   "execution_count": 110,
   "metadata": {},
   "outputs": [
    {
     "data": {
      "text/plain": [
       "499999500000"
      ]
     },
     "execution_count": 110,
     "metadata": {},
     "output_type": "execute_result"
    }
   ],
   "source": [
    "sum_of_first_n = sum(firstn(1000000))\n",
    "sum_of_first_n"
   ]
  },
  {
   "cell_type": "markdown",
   "metadata": {},
   "source": [
    "The expression of the number generation logic is clear and natural. It is very similar to the implementation that built a list in memory, but has the memory usage characteristic of the iterator implementation.\n",
    "\n",
    "In fact, we can turn a list comprehension into a generator expression by replacing the square brackets (\"[ ]\") with parentheses. Alternately, we can think of list comprehensions as generator expressions wrapped in a list constructor."
   ]
  },
  {
   "cell_type": "code",
   "execution_count": 111,
   "metadata": {},
   "outputs": [],
   "source": [
    "# list comprehension\n",
    "doubles = [2 * n for n in range(50)]\n",
    "\n",
    "# same as the list comprehension above\n",
    "doubles = list(2 * n for n in range(50))"
   ]
  },
  {
   "cell_type": "markdown",
   "metadata": {},
   "source": [
    "Notice how a list comprehension looks essentially like a generator expression passed to a list constructor.\n",
    "\n",
    "By allowing generator expressions, we don't have to write a generator function if we do not need the list. If only list comprehensions were available, and we needed to lazily build a set of items to be processed, we will have to write a generator function.\n",
    "\n",
    "This also means that we can use the same syntax we have been using for list comprehensions to build generators.\n",
    "\n",
    "The performance improvement from the use of generators is the result of the lazy (on demand) generation of values, which translates to lower memory usage. Furthermore, we do not need to wait until all the elements have been generated before we start to use them. This is similar to the benefits provided by iterators, but the generator makes building iterators easy.\n",
    "\n",
    "Generators can be **composed**. Here we create a generator on the squares of consecutive integers."
   ]
  },
  {
   "cell_type": "code",
   "execution_count": 124,
   "metadata": {},
   "outputs": [],
   "source": [
    "#square is a generator\n",
    "square = (i*i for i in range(1000000))\n",
    "#add the squares\n",
    "total = 0\n",
    "for i in square:\n",
    "    total += i"
   ]
  },
  {
   "cell_type": "markdown",
   "metadata": {},
   "source": [
    "Here, we compose a square generator with the `takewhile` generator, to generate squares less than 100:"
   ]
  },
  {
   "cell_type": "code",
   "execution_count": 113,
   "metadata": {},
   "outputs": [],
   "source": [
    "#add squares less than 100\n",
    "from itertools import takewhile\n",
    "square = (i*i for i in range(10000000))\n",
    "bounded_squares = takewhile(lambda x : x< 100, square)\n",
    "total = 0\n",
    "for i in bounded_squares:\n",
    "    total += i"
   ]
  },
  {
   "cell_type": "markdown",
   "metadata": {},
   "source": [
    "A generator is characterized by a ```yield``` (```yield return``` in Java and C#) instead of a regular ```return```."
   ]
  },
  {
   "cell_type": "markdown",
   "metadata": {},
   "source": [
    "A list comprehension is by nature a parallel construct."
   ]
  },
  {
   "cell_type": "code",
   "execution_count": 114,
   "metadata": {},
   "outputs": [],
   "source": [
    "def fibgen(limit):\n",
    "    a, b = 1, 1\n",
    "    while a <= limit:\n",
    "        yield a\n",
    "        a, b = b, a + b"
   ]
  },
  {
   "cell_type": "code",
   "execution_count": 115,
   "metadata": {},
   "outputs": [
    {
     "name": "stdout",
     "output_type": "stream",
     "text": [
      "[1, 1, 2, 3, 5, 8, 13, 21, 34, 55, 89, 144, 233, 377, 610, 987, 1597, 2584, 4181, 6765, 10946, 17711, 28657, 46368, 75025, 121393, 196418, 317811, 514229, 832040]\n"
     ]
    }
   ],
   "source": [
    "mylist = list(fibgen(1000000))\n",
    "print(mylist)"
   ]
  },
  {
   "cell_type": "markdown",
   "metadata": {},
   "source": [
    "## Decorators (***optional***)"
   ]
  },
  {
   "cell_type": "markdown",
   "metadata": {},
   "source": [
    "A decorator is a **higher order function**: A function which accepts and returns... a function! \n",
    "\n",
    "Simple usage example `add_apples` decorator will add 'Apple' element into fruits list returned by get_fruits target function."
   ]
  },
  {
   "cell_type": "code",
   "execution_count": 116,
   "metadata": {},
   "outputs": [
    {
     "name": "stdout",
     "output_type": "stream",
     "text": [
      "Banana, Mango, Orange, Apple\n"
     ]
    }
   ],
   "source": [
    "def add_apples(func):\n",
    "    def get_fruits():\n",
    "        fruits = func()\n",
    "        fruits.append('Apple')\n",
    "        return fruits\n",
    "    return get_fruits\n",
    "\n",
    "@add_apples\n",
    "def get_fruits():\n",
    "    return ['Banana', 'Mango', 'Orange']\n",
    "\n",
    "# Prints out the list of fruits with 'Apple' element in it:\n",
    "# Banana, Mango, Orange, Apple\n",
    "print(', '.join(get_fruits()))"
   ]
  },
  {
   "cell_type": "markdown",
   "metadata": {},
   "source": [
    "In this example, `beg` wraps `say`. `beg` will call `say`. If `say_please` is True then it will change the returned message:"
   ]
  },
  {
   "cell_type": "code",
   "execution_count": 121,
   "metadata": {},
   "outputs": [
    {
     "name": "stdout",
     "output_type": "stream",
     "text": [
      "Can you buy me a beer?\n",
      "Can you buy me a beer? Please! I am poor :(\n"
     ]
    }
   ],
   "source": [
    "from functools import wraps\n",
    "\n",
    "\n",
    "def beg(target_function):\n",
    "    @wraps(target_function)\n",
    "    def wrapper(*args, **kwargs):\n",
    "        msg, say_please = target_function(*args, **kwargs)\n",
    "        if say_please:\n",
    "            return \"{} {}\".format(msg, \"Please! I am poor :(\")\n",
    "        return msg\n",
    "\n",
    "    return wrapper\n",
    "\n",
    "\n",
    "@beg\n",
    "def say(say_please=False):\n",
    "    msg = \"Can you buy me a beer?\"\n",
    "    return msg, say_please\n",
    "\n",
    "\n",
    "print(say())  # Can you buy me a beer?\n",
    "print(say(say_please=True)  # Can you buy me a beer? Please! I am poor :("
   ]
  },
  {
   "cell_type": "markdown",
   "metadata": {},
   "source": [
    "# Homework: Let's program!\n",
    "\n",
    "And now dear class, you are ready to program in Python!\n",
    "\n",
    "Please write below the *simplest possible* implementation of prime numbers, given what we learned above. Those are the series where the next element is the sum of the previous two. And give me the first 100 prime numbers.\n",
    "\n",
    "Now :-) Here's a hint:"
   ]
  },
  {
   "cell_type": "markdown",
   "metadata": {},
   "source": [
    "`Solution`\n",
    "\n",
    "A function is defined as a prime that takes **nth value** which prints the list of **first n ** prime number. \n",
    "\n",
    "Variable **N** stores the number till which we have got the **nth prime number** and **n** stores the range\n",
    "\n",
    "The loop is iterate till ***square-root(n) + 1*** and inside the loop, we are filtering out the number if is divisible or not if it is divisible by another number by itself then we are removing the number from the list and storing the updated list in **primeRange**\n",
    "\n",
    "printing the first 100 prime numbers."
   ]
  },
  {
   "cell_type": "code",
   "execution_count": 33,
   "metadata": {},
   "outputs": [
    {
     "name": "stdout",
     "output_type": "stream",
     "text": [
      "[2, 3, 5, 7, 11, 13, 17, 19, 23, 29, 31, 37, 41, 43, 47, 53, 59, 61, 67, 71, 73, 79, 83, 89, 97, 101, 103, 107, 109, 113, 127, 131, 137, 139, 149, 151, 157, 163, 167, 173, 179, 181, 191, 193, 197, 199, 211, 223, 227, 229, 233, 239, 241, 251, 257, 263, 269, 271, 277, 281, 283, 293, 307, 311, 313, 317, 331, 337, 347, 349, 353, 359, 367, 373, 379, 383, 389, 397, 401, 409, 419, 421, 431, 433, 439, 443, 449, 457, 461, 463, 467, 479, 487, 491, 499, 503, 509, 521, 523, 541]\n"
     ]
    }
   ],
   "source": [
    "from math import log as l\n",
    "def prime(n):\n",
    "    N = n * int(l(n)+l(l(n))) ## End Number to get nth prime number\n",
    "    primeRange = range(2, N) ## Range of number till N\n",
    "    \n",
    "    ## Looping till squareroot of n + 1 and checking if the x is not divisible by i if its is divisible by\n",
    "    ## any other number by itself then we are removing the number from the list and updating the list\n",
    "    for i in range(int(n ** 0.5) + 1):\n",
    "         primeRange=list(filter(lambda x : x % primeRange[i] or x == primeRange[i], primeRange))\n",
    "            \n",
    "    print(primeRange[:n])\n",
    "                \n",
    "prime(100)"
   ]
  },
  {
   "cell_type": "markdown",
   "metadata": {},
   "source": [
    "# Homework\n",
    "\n",
    "You are on a basketball court with your team of 5, that's been lined with 16 equally spaced containers of basketballs in between. You are supposed to run the length of the basketball court and shoot hoops. But you can only shoot the basketball if there's a basketball on the parquet floor next to the container because you're training to dribble a dead ball and then shoot a jumper. Your team starts to run across the court one player at a time. You are the first player, so you will take a ball from each container and drop it on the parquet next to the container for the second player. The second player runs the length of the court and dribbles and shoots ever 2nd ball. The third player goes to every third container and shoots the ball if he finds one on the floor, otherwise she picks a ball from the container and drops it on the floor for the next player. The fourth player goes to every fourth container. The fifth to every fifth.  And then it's your turn again to either shoot the ball next to the 6th container or remove a ball from it and place it on the floor for the next player. After round 16, in which a player shoots or removes a ball only from the last container, how many balls are left on the floor? If your team's shooting accuracy is 50%, how many points did your team score overall? You may assume coaches automatically replenish containers from balls that are shot. What's the answer if you use 4,096 basketball containers to line a gigantic baskbetball field, instead of 16?\n",
    "\n",
    "Write the code (in python) to find the answer.\n",
    "Then, write the math (in jupyter markdown, like what i did with fibonacci) to prove the code is correct.Solution"
   ]
  },
  {
   "cell_type": "markdown",
   "metadata": {},
   "source": [
    "`Solution`\n",
    "\n",
    "A function is defined as basketball for n iterations, **P** is **ball available on the floor** and **S** is **ball not available on floor**. The **record** keeps track of whether the ball is available in the court at the given position or not. **points** represent the total team score. \n",
    "\n",
    "The first loop is used to iterate **nth** times and inside there is another loop that provides which position the player will go for a given iteration. The position of the player visiting the courts is determined by using **range(i,n,i+1)** where **i** is the **current iterate**, **n** is the **end value**, and **i+1** is the **stepper**\n",
    "\n",
    "Inside the inner loop, we find if the ball is available in the position or not. If the **ball is available on the ground** then we change the record of that position to **S** and **increase the value of shots** to **1**. If the **ball is not available** then we change the record to **P**\n",
    "\n",
    "After all the iteration we find the count of ball available on the ground in the records by using **records.count('P')** and stored the value to **ballLeft**.\n",
    "\n",
    "Then we calculate the total score by the team since the accuracy is **50%** and the point per shot is **2** then we used the formula i.e. **shots * 0.5 * 2** and stored it to points.\n"
   ]
  },
  {
   "cell_type": "code",
   "execution_count": 34,
   "metadata": {},
   "outputs": [
    {
     "name": "stdout",
     "output_type": "stream",
     "text": [
      "Data Set: 16\n",
      "Number of Ball Left on court: 4\n",
      "Total Number of Points Scored: 23.0\n",
      "Data Set: 4096\n",
      "Number of Ball Left on court: 64\n",
      "Total Number of Points Scored: 17328.0\n"
     ]
    }
   ],
   "source": [
    "def basketBall(n): \n",
    "    ## P is ball available on ground and S is ball not available \n",
    "    records = ['P'] * n ## Stored the record of ball available or not\n",
    "    shots = 0; ## Total team score\n",
    "    for i in range(1,n): ## Number of iteration done by the team\n",
    "        for j in range(i, n, i + 1): ## Give which position the player is going in court\n",
    "            if(records[j] == 'P'): ## Check if ball present\n",
    "                records[j] = 'S' ## Updating status in records to 'S'\n",
    "                shots+=1 ## Update team score\n",
    "            else:\n",
    "                records[j] = 'P' ## Updating status in records to 'P'\n",
    "                \n",
    "    ## Counting number of ball left in court\n",
    "    ballLeft = records.count('P')\n",
    "    \n",
    "    ## Total shots * 50% probability for basket * 2 points per basket\n",
    "    points = shots * 0.5 * 2\n",
    "    \n",
    "    print('Data Set:',n)\n",
    "    print('Number of Ball Left on court:',ballLeft)\n",
    "    print('Total Number of Points Scored:',points)\n",
    "    \n",
    "basketBall(16)\n",
    "basketBall(4096)"
   ]
  },
  {
   "cell_type": "markdown",
   "metadata": {},
   "source": [
    "Now, enough for this week?\n",
    "\n",
    "<br />\n",
    "<center>\n",
    "<img src = ipynb.images/tree-sloth.jpg width = 600 />\n",
    "</center>"
   ]
  }
 ],
 "metadata": {
  "kernelspec": {
   "display_name": "Python 3",
   "language": "python",
   "name": "python3"
  },
  "language_info": {
   "codemirror_mode": {
    "name": "ipython",
    "version": 3
   },
   "file_extension": ".py",
   "mimetype": "text/x-python",
   "name": "python",
   "nbconvert_exporter": "python",
   "pygments_lexer": "ipython3",
   "version": "3.8.8"
  }
 },
 "nbformat": 4,
 "nbformat_minor": 1
}
