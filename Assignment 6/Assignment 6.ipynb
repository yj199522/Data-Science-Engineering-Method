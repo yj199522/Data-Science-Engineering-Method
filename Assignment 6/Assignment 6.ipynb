{
 "cells": [
  {
   "cell_type": "markdown",
   "id": "3e78d94f",
   "metadata": {},
   "source": [
    "# Assignment 6\n",
    "\n",
    "How to model throwing a die with data science? Is that a perfectly random event, or not? What is the histogram that matches the experiment? Build a model (i.e. its histogram)"
   ]
  },
  {
   "cell_type": "markdown",
   "id": "a16c115a",
   "metadata": {},
   "source": [
    "Importing all the library needed for the program"
   ]
  },
  {
   "cell_type": "code",
   "execution_count": 65,
   "id": "74fa67b2",
   "metadata": {},
   "outputs": [],
   "source": [
    "import matplotlib.pyplot as plt\n",
    "import numpy as np\n",
    "import scipy.stats as stats\n",
    "import math"
   ]
  },
  {
   "cell_type": "markdown",
   "id": "bfe31c98",
   "metadata": {},
   "source": [
    "Define function for equal probability of dies when thrown"
   ]
  },
  {
   "cell_type": "code",
   "execution_count": 66,
   "id": "31f6964d",
   "metadata": {},
   "outputs": [],
   "source": [
    "def uniform_die():\n",
    "    return np.full((6), 1/6)"
   ]
  },
  {
   "cell_type": "markdown",
   "id": "4b8dc766",
   "metadata": {},
   "source": [
    "Define function for randomly getting numbers and p is to indentified which type of operation is to be performed"
   ]
  },
  {
   "cell_type": "code",
   "execution_count": 67,
   "id": "7ecd8ed5",
   "metadata": {},
   "outputs": [],
   "source": [
    "def throw_die(p_func):\n",
    "    return np.random.choice(range(1, 7), p = p_func)"
   ]
  },
  {
   "cell_type": "markdown",
   "id": "d3443957",
   "metadata": {},
   "source": [
    "Ploting of histogram and returning the probability value"
   ]
  },
  {
   "cell_type": "code",
   "execution_count": 68,
   "id": "168df4cb",
   "metadata": {},
   "outputs": [],
   "source": [
    "def get_prob_hist(samples, title, times):\n",
    "    cnts, bins = np.histogram(samples, bins= times)\n",
    "    bins = bins[:-1] + (bins[1] - bins[0])/2\n",
    "    probs = cnts/float(cnts.sum())\n",
    "    \n",
    "    plt.title(title, fontsize=12)\n",
    "    plt.xlabel(\"Die roll outcome\")\n",
    "    plt.ylabel(\"Probability\")\n",
    "    plt.bar(bins, probs)\n",
    "    plt.show()\n",
    "    return probs"
   ]
  },
  {
   "cell_type": "markdown",
   "id": "ec4dc55d",
   "metadata": {},
   "source": [
    "It will stored the number came on die and return the list "
   ]
  },
  {
   "cell_type": "code",
   "execution_count": 69,
   "id": "e4fb4135",
   "metadata": {},
   "outputs": [],
   "source": [
    "def die_outcomes(trials, p_func):\n",
    "    outcomes = []\n",
    "    for i in range(trials):\n",
    "        outcomes.append(throw_die(p_func()))\n",
    "    return outcomes"
   ]
  },
  {
   "cell_type": "code",
   "execution_count": 70,
   "id": "e862be17",
   "metadata": {},
   "outputs": [
    {
     "data": {
      "image/png": "[encoded data removed]",
      "text/plain": [
       "<Figure size 432x288 with 1 Axes>"
      ]
     },
     "metadata": {
      "needs_background": "light"
     },
     "output_type": "display_data"
    }
   ],
   "source": [
    "title = \"Fair Die with all outcomes once\"\n",
    "samples = [1,2,3,4,5,6]\n",
    "probs = get_prob_hist(samples, title, 6)"
   ]
  },
  {
   "cell_type": "code",
   "execution_count": 71,
   "id": "385c5a06",
   "metadata": {},
   "outputs": [
    {
     "data": {
      "image/png": "[encoded data removed]",
      "text/plain": [
       "<Figure size 432x288 with 1 Axes>"
      ]
     },
     "metadata": {
      "needs_background": "light"
     },
     "output_type": "display_data"
    }
   ],
   "source": [
    "title = \"Fair Die thrown 1000 times\"\n",
    "samples = die_outcomes(1000, uniform_die)\n",
    "probs = get_prob_hist(samples, title, 1000)"
   ]
  },
  {
   "cell_type": "markdown",
   "id": "736d15a1",
   "metadata": {},
   "source": [
    "Define function that will produce probability list of randomly weighted die then it will return the list"
   ]
  },
  {
   "cell_type": "code",
   "execution_count": 102,
   "id": "392bb0bd",
   "metadata": {},
   "outputs": [],
   "source": [
    "def p_weighted_die():\n",
    "    weight = np.random.rand(6)\n",
    "    number = np.array(range(1,7))\n",
    "    prob_norm = weight * number / (weight * number).sum()\n",
    "    return prob_norm"
   ]
  },
  {
   "cell_type": "code",
   "execution_count": 103,
   "id": "5139be22",
   "metadata": {},
   "outputs": [
    {
     "data": {
      "text/plain": [
       "(0.0, 1.0)"
      ]
     },
     "execution_count": 103,
     "metadata": {},
     "output_type": "execute_result"
    },
    {
     "data": {
      "image/png": "[encoded data removed]",
      "text/plain": [
       "<Figure size 432x288 with 1 Axes>"
      ]
     },
     "metadata": {
      "needs_background": "light"
     },
     "output_type": "display_data"
    }
   ],
   "source": [
    "samples = range(1,7)\n",
    "p_rand = p_weighted_die()\n",
    "plt.bar(samples, p_rand)\n",
    "plt.title('Random weighted die', fontsize=12)\n",
    "plt.ylabel('Probability', fontsize=12)\n",
    "plt.xlabel('Die Roll Outcome', fontsize=12)\n",
    "axes = plt.gca()\n",
    "axes.set_ylim([0,1])"
   ]
  },
  {
   "cell_type": "markdown",
   "id": "68f557d7",
   "metadata": {},
   "source": [
    "Defined the function that will produce weighted die that matches the Gaussian distribution. **diff** is used to keep the sum value less then or equal to 1. "
   ]
  },
  {
   "cell_type": "code",
   "execution_count": 104,
   "id": "4f078a9a",
   "metadata": {},
   "outputs": [],
   "source": [
    "def p_norm():\n",
    "    samples = np.array(range(1,7))\n",
    "    mean = np.mean(samples)\n",
    "    pdf_val = stats.norm.pdf(samples, mean)\n",
    "    diff = 1 - pdf_val.sum()\n",
    "    pdf_val[0] = pdf_val[0] + (diff / 2)\n",
    "    pdf_val[5] = pdf_val[5] + (diff / 2)\n",
    "    return pdf_val"
   ]
  },
  {
   "cell_type": "code",
   "execution_count": 105,
   "id": "6e9f10a5",
   "metadata": {},
   "outputs": [
    {
     "data": {
      "text/plain": [
       "(0.0, 1.0)"
      ]
     },
     "execution_count": 105,
     "metadata": {},
     "output_type": "execute_result"
    },
    {
     "data": {
      "image/png": "[encoded data removed]",
      "text/plain": [
       "<Figure size 432x288 with 1 Axes>"
      ]
     },
     "metadata": {
      "needs_background": "light"
     },
     "output_type": "display_data"
    }
   ],
   "source": [
    "p = p_norm()\n",
    "plt.plot(samples, p)\n",
    "plt.bar(samples, p)\n",
    "plt.title('Gaussian weighted die', fontsize=12)\n",
    "plt.ylabel('Probability', fontsize=12)\n",
    "plt.xlabel('Die Roll Outcome', fontsize=12)\n",
    "axes = plt.gca()\n",
    "axes.set_ylim([0,1])"
   ]
  },
  {
   "cell_type": "markdown",
   "id": "c0419868",
   "metadata": {},
   "source": [
    "build a generative model allowing you to actually roll your gaussian-loaded die and generate random variates. Then, generate 100 random variates from it. Plot their histogram. How close does it match the theoretical histogram? Evaluate the error."
   ]
  },
  {
   "cell_type": "markdown",
   "id": "ef0eecc6",
   "metadata": {},
   "source": [
    "Build generative model that will generate nth number of trials and return the outcome in the form of list"
   ]
  },
  {
   "cell_type": "code",
   "execution_count": 106,
   "id": "fdcb1ec5",
   "metadata": {},
   "outputs": [],
   "source": [
    "def generative_model(n_trials):\n",
    "    actual_outcomes = []\n",
    "    for i in range(n_trials):\n",
    "        actual_outcomes.append(np.random.choice(range(1, 7), p=p_norm()))\n",
    "    return actual_outcomes"
   ]
  },
  {
   "cell_type": "markdown",
   "id": "459b0603",
   "metadata": {},
   "source": [
    "Outcome when the die is thrown with same probability"
   ]
  },
  {
   "cell_type": "code",
   "execution_count": 109,
   "id": "dae7bb64",
   "metadata": {},
   "outputs": [
    {
     "data": {
      "image/png": "[encoded data removed]",
      "text/plain": [
       "<Figure size 432x288 with 1 Axes>"
      ]
     },
     "metadata": {
      "needs_background": "light"
     },
     "output_type": "display_data"
    }
   ],
   "source": [
    "title = \"Fair Die thrown 100 times\"\n",
    "samples = die_outcomes(1000, uniform_die)\n",
    "probs = get_prob_hist(samples, title, 1000)"
   ]
  },
  {
   "cell_type": "markdown",
   "id": "ef0e4451",
   "metadata": {},
   "source": [
    "Outcome when the die is thrown with weighted die probability"
   ]
  },
  {
   "cell_type": "code",
   "execution_count": 110,
   "id": "359dfd95",
   "metadata": {},
   "outputs": [
    {
     "data": {
      "image/png": "[encoded data removed]",
      "text/plain": [
       "<Figure size 432x288 with 1 Axes>"
      ]
     },
     "metadata": {
      "needs_background": "light"
     },
     "output_type": "display_data"
    }
   ],
   "source": [
    "n_trials = 1000\n",
    "samples = generative_model(n_trials)\n",
    "title = \"Generative model with \"+ str(n_trials) +\" trials\"\n",
    "probs = get_prob_hist(samples, title, n_trials)"
   ]
  },
  {
   "cell_type": "markdown",
   "id": "4acdf029",
   "metadata": {},
   "source": [
    "Calculating the mean and standard deviation for thr given samples and probs stores the list of probabilty of the outcome from generative model"
   ]
  },
  {
   "cell_type": "code",
   "execution_count": 111,
   "id": "3c91d67b",
   "metadata": {},
   "outputs": [],
   "source": [
    "mean, var = np.mean(samples), np.var(samples)\n",
    "probs = list(filter(lambda x: x > 0, probs))"
   ]
  },
  {
   "cell_type": "markdown",
   "id": "3a9fa917",
   "metadata": {},
   "source": [
    "Define the function for the calculation of gaussian distribution\n",
    "\n",
    "<div style=\"font-size: 110%;\">  \n",
    "$$f(x) = \\frac{1}{\\sqrt{2\\pi\\sigma^2}}\\exp\\left[-\\frac{(x-\\mu)^2}{2\\sigma^2}\\right]$$\n",
    "</div>\n",
    "\n",
    "* $X \\in \\mathbf{R}$\n",
    "* $\\mu \\in \\mathbf{R}$\n",
    "* $\\sigma>0$\n",
    "\n",
    "The **expectation** (or first moment), and the **standard deviation** (or second moment) of a gaussian are:\n",
    "$$\\begin{align}E(X) &= \\mu \\cr\n",
    "\\text{Var}(X) &= \\sigma^2 \\end{align}$$\n",
    "\n",
    "Using **method of moments**,for the normal distribution, the mean and variance turn out to be (analytically derived):\n",
    "\n",
    "<br />\n",
    "<div style=\"font-size: 120%;\">  \n",
    "$$ \\hat{\\mu} = \\bar{X} =\\mu $$\n",
    "$$ \\hat{\\sigma}^2 = S^2 = \\sigma^2 $$\n",
    "</div>"
   ]
  },
  {
   "cell_type": "code",
   "execution_count": 112,
   "id": "43e0738a",
   "metadata": {},
   "outputs": [],
   "source": [
    "def normpdf(x, mean, var):\n",
    "    denom = (2 * math.pi * var) ** 0.5\n",
    "    num = math.exp(- (float(x) - float(mean)) ** 2 / (2 * var))\n",
    "    return num/denom"
   ]
  },
  {
   "cell_type": "markdown",
   "id": "a27ea123",
   "metadata": {},
   "source": [
    "Calculating gaussian distribution for each number and appending in the list"
   ]
  },
  {
   "cell_type": "code",
   "execution_count": 97,
   "id": "eaf21a96",
   "metadata": {},
   "outputs": [
    {
     "data": {
      "text/plain": [
       "[0.02835091357667158,\n",
       " 0.14412421252543517,\n",
       " 0.32495400356619236,\n",
       " 0.32495400356619236,\n",
       " 0.14412421252543517,\n",
       " 0.02835091357667158]"
      ]
     },
     "execution_count": 97,
     "metadata": {},
     "output_type": "execute_result"
    }
   ],
   "source": [
    "theoretical = []\n",
    "for i in range(1, 7):\n",
    "    theoretical.append(normpdf(i, mean, var))\n",
    "theoretical"
   ]
  },
  {
   "cell_type": "markdown",
   "id": "fe87b2da",
   "metadata": {},
   "source": [
    "Calculating Error by taking the difference between theoretical and generator value and then divided by generator value."
   ]
  },
  {
   "cell_type": "code",
   "execution_count": 98,
   "id": "abc645d4",
   "metadata": {},
   "outputs": [
    {
     "data": {
      "text/plain": [
       "[0.05496954744428062,\n",
       " 0.0992236717160302,\n",
       " 0.08318001188730792,\n",
       " 0.015290898284265615,\n",
       " 0.039171916497098835,\n",
       " 0.05496954744428062]"
      ]
     },
     "execution_count": 98,
     "metadata": {},
     "output_type": "execute_result"
    }
   ],
   "source": [
    "error = []\n",
    "for i,n in enumerate(theoretical):\n",
    "    error.append(abs(n - probs[i]) / probs[i])\n",
    "error"
   ]
  }
 ],
 "metadata": {
  "kernelspec": {
   "display_name": "Python 3",
   "language": "python",
   "name": "python3"
  },
  "language_info": {
   "codemirror_mode": {
    "name": "ipython",
    "version": 3
   },
   "file_extension": ".py",
   "mimetype": "text/x-python",
   "name": "python",
   "nbconvert_exporter": "python",
   "pygments_lexer": "ipython3",
   "version": "3.8.8"
  }
 },
 "nbformat": 4,
 "nbformat_minor": 5
}
