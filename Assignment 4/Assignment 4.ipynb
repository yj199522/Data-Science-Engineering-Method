{
 "cells": [
  {
   "cell_type": "markdown",
   "id": "583aa5ac",
   "metadata": {},
   "source": [
    "Assignment No - 4\n",
    "\n",
    "Group No - 9\n",
    "\n",
    "Team Member:\n",
    "1. Yash Jain - 001521876\n",
    "2. Akul Samrat - 002959056"
   ]
  },
  {
   "cell_type": "markdown",
   "id": "51a98e05",
   "metadata": {},
   "source": [
    "**Solution**\n",
    "\n",
    "Retrieving data from the yahoo finance website for **three stocks** i.e. **Dell Technologies Inc., Boeing Company, and JPMorgan Chase & Co.** for **time frame** of more than **5 years**."
   ]
  },
  {
   "cell_type": "code",
   "execution_count": 1,
   "id": "fe7cf5f4",
   "metadata": {},
   "outputs": [],
   "source": [
    "#from pandas_datareader import data, wb\n",
    "import pandas as pd\n",
    "from sklearn.ensemble import RandomForestRegressor\n",
    "from sklearn.model_selection import train_test_split\n",
    "\n",
    "def Init():\n",
    "    # the line below is the fix for is_list_like lub\n",
    "    pd.core.common.is_list_like = pd.api.types.is_list_like\n",
    "\n",
    "    import pandas_datareader as web\n",
    "    import datetime\n",
    "\n",
    "    ## Time Frame of 5 years\n",
    "    start = datetime.datetime(2016, 1, 1)\n",
    "    end = datetime.datetime(2021, 10, 12)\n",
    "\n",
    "    ## Data frame for Dell Technologies Inc.\n",
    "    dell= web.DataReader('DELL', 'yahoo', start, end)\n",
    "    ## Data frame for Boeing Company\n",
    "    ba = web.DataReader('BA', 'yahoo', start, end)\n",
    "    ## Data frame for JPMorgan Chase & Co\n",
    "    jpm = web.DataReader('JPM', 'yahoo', start, end)\n",
    "\n",
    "    dataCleaning(ba,'Boeing Company')\n",
    "    dataCleaning(jpm,'JPMorgan Chase & Co.')\n",
    "    dataCleaning(dell,'Dell Technologies Inc.')"
   ]
  },
  {
   "cell_type": "markdown",
   "id": "8b068a76",
   "metadata": {},
   "source": [
    "**dataCleaning** function to remove any unwanted or garbage data. In this function, we are format any spacing between letters and replace it with _ if any space remaining at the end of columns then we strip it. \n",
    "\n",
    "After data cleaning, we have defined the while loop and it will run till the **predicationValue is greater than 70%**. If the condition gets fulfilled we are **decreasing** the value of **i** i.e. day by **1**\n",
    "\n",
    "**predicateValue** function is used for prediction purposes where we are using **RandomForestRegressor**. \n",
    "\n",
    "Let's see if we can make **open** the dependent variable, and predict it using other columns as independent variables. Let's look at open and also shift open shifted by ith row up, so that we may use information from the previous day to predict the next day's open value.\n",
    "\n",
    "We notice that the Close column has a different set of values. We have used **get_dummies** Api and stored all the variety of Close in **data_dummy**\n",
    "\n",
    "**X** has independent variables and **y** has a dependent variable i.e. open\n",
    "\n",
    "**valid** function will remove all the unwanted columns.\n",
    "\n",
    "Split the data into a training set, and a test set using the **train_test_split** API\n",
    "\n",
    "After that Machine Learning model is created using **RandomForestRegressor** then train and **return the score**."
   ]
  },
  {
   "cell_type": "code",
   "execution_count": 2,
   "id": "85a11423",
   "metadata": {},
   "outputs": [],
   "source": [
    "def dataCleaning(dataSet, stockName):\n",
    "    ## Removing unwanted space at the end of columns name\n",
    "    dataSet.columns = [x.strip() for x in dataSet.columns]\n",
    "    ## Replacing unwanted space at the between of columns name by underscore\n",
    "    dataSet.columns = [x.replace(' ', '_') for x in dataSet.columns]\n",
    "    i = -1\n",
    "    \n",
    "    ## Running loop till the predication value is more the 70%\n",
    "    while (predicateValue(i, dataSet) * 100 > 70.00):\n",
    "        i-=1\n",
    "    print('We can predicate the stock price of', stockName, 'with more than 70% accuracy using random forest up to',\n",
    "          (i + 1) * -1, 'days. If we increase by a day then the percentage goes below the expected prediction score.')\n",
    "\n",
    "def predicateValue(i, dataSet):\n",
    "    ##Shifting data to ith value\n",
    "    pd.concat([dataSet.Open, dataSet.Open.shift(i)], axis=1)\n",
    "    \n",
    "    ## Making data_dummy for all values of Close\n",
    "    data_dummy = pd.get_dummies(dataSet, columns=['Close'])\n",
    "\n",
    "    ## Removing Date and name from columns\n",
    "    def valid(col):\n",
    "        return 'Date' not in col and 'name' not in col\n",
    "    data_dummy2 = data_dummy.dropna()\n",
    "\n",
    "    # we remove the last observation (ith row) because there is no tomorrow for the last row to predict!\n",
    "    X = data_dummy[[x for x in data_dummy2.columns if valid(x)]].iloc[0:i]\n",
    "\n",
    "    # for the dependent variable, we remove the NA, so that removes the last ith row, too\n",
    "    y = data_dummy2.Open.shift(i).dropna()\n",
    "\n",
    "    X_train, X_test, y_train, y_test = train_test_split(X, y, random_state=0)\n",
    "\n",
    "    # Create a model \n",
    "    rf_model = RandomForestRegressor()\n",
    "\n",
    "    # Train the model\n",
    "    rf_model.fit(X_train, y_train)\n",
    "    return rf_model.score(X_test, y_test)"
   ]
  },
  {
   "cell_type": "markdown",
   "id": "805bd8d8",
   "metadata": {},
   "source": [
    "After running the Random Forest we have seen:\n",
    "\n",
    "+ For **Boeing Company**, the model was able to predicate accuracy for more than 70% was for **84 days** in future, for **84th day** the accuracy was **78.13%**, and for **85th day** the accuracy drop to **68.12%**.\n",
    "\n",
    "+ For **JPMorgan Chase & Co.**, the model was able to predicate accuracy for more than 70% was for **174 days** in future and for **174th day** the accuracy was **72.65%**, and for **175th day** the accuracy drop to **66.08%**.\n",
    "\n",
    "+ For **Dell Technologies Inc.**, the model was able to predicate accuracy for more than 70% was for most of the time for **124 days** in the future, for **124th day** the accuracy was **74.46%**, and for **125th day** the accuracy drop to **66.65%**."
   ]
  },
  {
   "cell_type": "code",
   "execution_count": 3,
   "id": "3e415d49",
   "metadata": {},
   "outputs": [
    {
     "name": "stdout",
     "output_type": "stream",
     "text": [
      "We can predicate the stock price of Boeing Company with more than 70% accuracy using random forest up to 84 days. If we increase by a day then the percentage goes below the expected prediction score.\n",
      "We can predicate the stock price of JPMorgan Chase & Co. with more than 70% accuracy using random forest up to 174 days. If we increase by a day then the percentage goes below the expected prediction score.\n",
      "We can predicate the stock price of Dell Technologies Inc. with more than 70% accuracy using random forest up to 124 days. If we increase by a day then the percentage goes below the expected prediction score.\n"
     ]
    }
   ],
   "source": [
    "Init()"
   ]
  }
 ],
 "metadata": {
  "kernelspec": {
   "display_name": "Python 3",
   "language": "python",
   "name": "python3"
  },
  "language_info": {
   "codemirror_mode": {
    "name": "ipython",
    "version": 3
   },
   "file_extension": ".py",
   "mimetype": "text/x-python",
   "name": "python",
   "nbconvert_exporter": "python",
   "pygments_lexer": "ipython3",
   "version": "3.8.8"
  }
 },
 "nbformat": 4,
 "nbformat_minor": 5
}
